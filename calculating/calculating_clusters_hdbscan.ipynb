{
 "cells": [
  {
   "cell_type": "markdown",
   "metadata": {
    "collapsed": false
   },
   "source": [
    "## HDBSCAN"
   ]
  },
  {
   "cell_type": "code",
   "execution_count": 1,
   "metadata": {
    "collapsed": false
   },
   "outputs": [
    {
     "name": "stderr",
     "output_type": "stream",
     "text": [
      "/Users/dariaonikova/opt/anaconda3/lib/python3.9/site-packages/geopandas/_compat.py:123: UserWarning: The Shapely GEOS version (3.11.1-CAPI-1.17.1) is incompatible with the GEOS version PyGEOS was compiled with (3.10.4-CAPI-1.16.2). Conversions between both will be slow.\n",
      "  warnings.warn(\n",
      "/var/folders/xq/qzhlj_357vs3kfkjsn1vg4rm0000gn/T/ipykernel_59421/778130093.py:3: UserWarning: Shapely 2.0 is installed, but because PyGEOS is also installed, GeoPandas will still use PyGEOS by default for now. To force to use and test Shapely 2.0, you have to set the environment variable USE_PYGEOS=0. You can do this before starting the Python process, or in your code before importing geopandas:\n",
      "\n",
      "import os\n",
      "os.environ['USE_PYGEOS'] = '0'\n",
      "import geopandas\n",
      "\n",
      "In a future release, GeoPandas will switch to using Shapely by default. If you are using PyGEOS directly (calling PyGEOS functions on geometries from GeoPandas), this will then stop working and you are encouraged to migrate from PyGEOS to Shapely 2.0 (https://shapely.readthedocs.io/en/latest/migration_pygeos.html).\n",
      "  import geopandas as gpd\n"
     ]
    }
   ],
   "source": [
    "import pandas as pd\n",
    "import numpy as np\n",
    "import geopandas as gpd\n",
    "import warnings\n",
    "from shapely import wkt, Polygon, Point\n",
    "warnings.simplefilter(action='ignore', category=FutureWarning)"
   ]
  },
  {
   "cell_type": "code",
   "execution_count": 2,
   "outputs": [
    {
     "data": {
      "text/plain": "       Unnamed: 0  area_num  cond_Аварийный  cond_Ветхий  cond_Исправный  \\\n0               0         0               0            0               1   \n1               1         0               0            0               1   \n2               2         0               0            0               1   \n3               3         0               0            0               1   \n4               4         0               0            0               1   \n...           ...       ...             ...          ...             ...   \n66795       66795        97               0            0               1   \n66796       66796        97               0            0               1   \n66797       66797        97               0            0               1   \n66798       66798        97               0            0               1   \n66799       66799        97               0            0               1   \n\n       dorm_federal_-  dorm_federal_нет  dorm_municipal_-  dorm_municipal_да  \\\n0                   1                 0                 1                  0   \n1                   1                 0                 1                  0   \n2                   1                 0                 1                  0   \n3                   1                 0                 1                  0   \n4                   1                 0                 1                  0   \n...               ...               ...               ...                ...   \n66795               0                 1                 0                  0   \n66796               1                 0                 1                  0   \n66797               1                 0                 1                  0   \n66798               1                 0                 1                  0   \n66799               1                 0                 1                  0   \n\n       dorm_municipal_нет  ...  lead_type_ТСЖ  lead_type_УО  living_space  \\\n0                       0  ...              0             0           0.0   \n1                       0  ...              0             0           0.0   \n2                       0  ...              0             0           0.0   \n3                       0  ...              0             0           0.0   \n4                       0  ...              0             0           0.0   \n...                   ...  ...            ...           ...           ...   \n66795                   1  ...              0             1       16519.0   \n66796                   0  ...              0             1       11495.0   \n66797                   0  ...              0             1        1948.0   \n66798                   0  ...              0             1        1241.0   \n66799                   0  ...              0             1        2007.0   \n\n             lon  room_type_Жилое    space  type_Жилой  \\\n0      37.189899                0      0.0           1   \n1      37.189899                0      0.0           1   \n2      37.189899                0      0.0           1   \n3      37.192896                0      0.0           1   \n4      37.189899                0      0.0           1   \n...          ...              ...      ...         ...   \n66795  37.598968                0  16519.0           0   \n66796  37.600882                0  11495.0           0   \n66797  37.600783                0   1948.0           0   \n66798  37.600352                0   1241.0           0   \n66799  37.600415                0   2007.0           0   \n\n       type_Жилой дом блокированной застройки  type_Многоквартирный  \\\n0                                           0                     0   \n1                                           0                     0   \n2                                           0                     0   \n3                                           0                     0   \n4                                           0                     0   \n...                                       ...                   ...   \n66795                                       0                     1   \n66796                                       0                     1   \n66797                                       0                     1   \n66798                                       0                     1   \n66799                                       0                     1   \n\n       cluster_label  \n0                  1  \n1                  1  \n2                  1  \n3                  1  \n4                  1  \n...              ...  \n66795              4  \n66796              0  \n66797              1  \n66798              1  \n66799              1  \n\n[66800 rows x 28 columns]",
      "text/html": "<div>\n<style scoped>\n    .dataframe tbody tr th:only-of-type {\n        vertical-align: middle;\n    }\n\n    .dataframe tbody tr th {\n        vertical-align: top;\n    }\n\n    .dataframe thead th {\n        text-align: right;\n    }\n</style>\n<table border=\"1\" class=\"dataframe\">\n  <thead>\n    <tr style=\"text-align: right;\">\n      <th></th>\n      <th>Unnamed: 0</th>\n      <th>area_num</th>\n      <th>cond_Аварийный</th>\n      <th>cond_Ветхий</th>\n      <th>cond_Исправный</th>\n      <th>dorm_federal_-</th>\n      <th>dorm_federal_нет</th>\n      <th>dorm_municipal_-</th>\n      <th>dorm_municipal_да</th>\n      <th>dorm_municipal_нет</th>\n      <th>...</th>\n      <th>lead_type_ТСЖ</th>\n      <th>lead_type_УО</th>\n      <th>living_space</th>\n      <th>lon</th>\n      <th>room_type_Жилое</th>\n      <th>space</th>\n      <th>type_Жилой</th>\n      <th>type_Жилой дом блокированной застройки</th>\n      <th>type_Многоквартирный</th>\n      <th>cluster_label</th>\n    </tr>\n  </thead>\n  <tbody>\n    <tr>\n      <th>0</th>\n      <td>0</td>\n      <td>0</td>\n      <td>0</td>\n      <td>0</td>\n      <td>1</td>\n      <td>1</td>\n      <td>0</td>\n      <td>1</td>\n      <td>0</td>\n      <td>0</td>\n      <td>...</td>\n      <td>0</td>\n      <td>0</td>\n      <td>0.0</td>\n      <td>37.189899</td>\n      <td>0</td>\n      <td>0.0</td>\n      <td>1</td>\n      <td>0</td>\n      <td>0</td>\n      <td>1</td>\n    </tr>\n    <tr>\n      <th>1</th>\n      <td>1</td>\n      <td>0</td>\n      <td>0</td>\n      <td>0</td>\n      <td>1</td>\n      <td>1</td>\n      <td>0</td>\n      <td>1</td>\n      <td>0</td>\n      <td>0</td>\n      <td>...</td>\n      <td>0</td>\n      <td>0</td>\n      <td>0.0</td>\n      <td>37.189899</td>\n      <td>0</td>\n      <td>0.0</td>\n      <td>1</td>\n      <td>0</td>\n      <td>0</td>\n      <td>1</td>\n    </tr>\n    <tr>\n      <th>2</th>\n      <td>2</td>\n      <td>0</td>\n      <td>0</td>\n      <td>0</td>\n      <td>1</td>\n      <td>1</td>\n      <td>0</td>\n      <td>1</td>\n      <td>0</td>\n      <td>0</td>\n      <td>...</td>\n      <td>0</td>\n      <td>0</td>\n      <td>0.0</td>\n      <td>37.189899</td>\n      <td>0</td>\n      <td>0.0</td>\n      <td>1</td>\n      <td>0</td>\n      <td>0</td>\n      <td>1</td>\n    </tr>\n    <tr>\n      <th>3</th>\n      <td>3</td>\n      <td>0</td>\n      <td>0</td>\n      <td>0</td>\n      <td>1</td>\n      <td>1</td>\n      <td>0</td>\n      <td>1</td>\n      <td>0</td>\n      <td>0</td>\n      <td>...</td>\n      <td>0</td>\n      <td>0</td>\n      <td>0.0</td>\n      <td>37.192896</td>\n      <td>0</td>\n      <td>0.0</td>\n      <td>1</td>\n      <td>0</td>\n      <td>0</td>\n      <td>1</td>\n    </tr>\n    <tr>\n      <th>4</th>\n      <td>4</td>\n      <td>0</td>\n      <td>0</td>\n      <td>0</td>\n      <td>1</td>\n      <td>1</td>\n      <td>0</td>\n      <td>1</td>\n      <td>0</td>\n      <td>0</td>\n      <td>...</td>\n      <td>0</td>\n      <td>0</td>\n      <td>0.0</td>\n      <td>37.189899</td>\n      <td>0</td>\n      <td>0.0</td>\n      <td>1</td>\n      <td>0</td>\n      <td>0</td>\n      <td>1</td>\n    </tr>\n    <tr>\n      <th>...</th>\n      <td>...</td>\n      <td>...</td>\n      <td>...</td>\n      <td>...</td>\n      <td>...</td>\n      <td>...</td>\n      <td>...</td>\n      <td>...</td>\n      <td>...</td>\n      <td>...</td>\n      <td>...</td>\n      <td>...</td>\n      <td>...</td>\n      <td>...</td>\n      <td>...</td>\n      <td>...</td>\n      <td>...</td>\n      <td>...</td>\n      <td>...</td>\n      <td>...</td>\n      <td>...</td>\n    </tr>\n    <tr>\n      <th>66795</th>\n      <td>66795</td>\n      <td>97</td>\n      <td>0</td>\n      <td>0</td>\n      <td>1</td>\n      <td>0</td>\n      <td>1</td>\n      <td>0</td>\n      <td>0</td>\n      <td>1</td>\n      <td>...</td>\n      <td>0</td>\n      <td>1</td>\n      <td>16519.0</td>\n      <td>37.598968</td>\n      <td>0</td>\n      <td>16519.0</td>\n      <td>0</td>\n      <td>0</td>\n      <td>1</td>\n      <td>4</td>\n    </tr>\n    <tr>\n      <th>66796</th>\n      <td>66796</td>\n      <td>97</td>\n      <td>0</td>\n      <td>0</td>\n      <td>1</td>\n      <td>1</td>\n      <td>0</td>\n      <td>1</td>\n      <td>0</td>\n      <td>0</td>\n      <td>...</td>\n      <td>0</td>\n      <td>1</td>\n      <td>11495.0</td>\n      <td>37.600882</td>\n      <td>0</td>\n      <td>11495.0</td>\n      <td>0</td>\n      <td>0</td>\n      <td>1</td>\n      <td>0</td>\n    </tr>\n    <tr>\n      <th>66797</th>\n      <td>66797</td>\n      <td>97</td>\n      <td>0</td>\n      <td>0</td>\n      <td>1</td>\n      <td>1</td>\n      <td>0</td>\n      <td>1</td>\n      <td>0</td>\n      <td>0</td>\n      <td>...</td>\n      <td>0</td>\n      <td>1</td>\n      <td>1948.0</td>\n      <td>37.600783</td>\n      <td>0</td>\n      <td>1948.0</td>\n      <td>0</td>\n      <td>0</td>\n      <td>1</td>\n      <td>1</td>\n    </tr>\n    <tr>\n      <th>66798</th>\n      <td>66798</td>\n      <td>97</td>\n      <td>0</td>\n      <td>0</td>\n      <td>1</td>\n      <td>1</td>\n      <td>0</td>\n      <td>1</td>\n      <td>0</td>\n      <td>0</td>\n      <td>...</td>\n      <td>0</td>\n      <td>1</td>\n      <td>1241.0</td>\n      <td>37.600352</td>\n      <td>0</td>\n      <td>1241.0</td>\n      <td>0</td>\n      <td>0</td>\n      <td>1</td>\n      <td>1</td>\n    </tr>\n    <tr>\n      <th>66799</th>\n      <td>66799</td>\n      <td>97</td>\n      <td>0</td>\n      <td>0</td>\n      <td>1</td>\n      <td>1</td>\n      <td>0</td>\n      <td>1</td>\n      <td>0</td>\n      <td>0</td>\n      <td>...</td>\n      <td>0</td>\n      <td>1</td>\n      <td>2007.0</td>\n      <td>37.600415</td>\n      <td>0</td>\n      <td>2007.0</td>\n      <td>0</td>\n      <td>0</td>\n      <td>1</td>\n      <td>1</td>\n    </tr>\n  </tbody>\n</table>\n<p>66800 rows × 28 columns</p>\n</div>"
     },
     "execution_count": 2,
     "metadata": {},
     "output_type": "execute_result"
    }
   ],
   "source": [
    "cut_houses = pd.read_csv('kmeans.csv')\n",
    "\n",
    "cut_houses"
   ],
   "metadata": {
    "collapsed": false
   }
  },
  {
   "cell_type": "code",
   "execution_count": 3,
   "metadata": {
    "collapsed": false
   },
   "outputs": [],
   "source": [
    "import hdbscan\n",
    "import re\n"
   ]
  },
  {
   "cell_type": "code",
   "execution_count": 5,
   "metadata": {
    "collapsed": false
   },
   "outputs": [],
   "source": [
    "cols =  ['area_num', 'cond_Аварийный', 'cond_Ветхий',\n",
    "         'cond_Исправный', 'dorm_federal_-',\n",
    "         'dorm_federal_нет',  'dorm_municipal_-',\n",
    "         'dorm_municipal_да', 'dorm_municipal_нет',  'dorm_type_-',\n",
    "         'dorm_type_Гостиничный', 'dorm_type_Коридорный',\n",
    "         'lat', 'lead_type_ЖК',\n",
    "         'lead_type_Иной кооператив', 'lead_type_Не выбран',\n",
    "         'lead_type_Непосредственное управление', 'lead_type_ТСЖ',\n",
    "         'lead_type_УО', 'living_space', 'lon', 'room_type_Жилое',\n",
    "         'space',  'type_Жилой', 'type_Жилой дом блокированной застройки',\n",
    "         'type_Многоквартирный']"
   ]
  },
  {
   "cell_type": "code",
   "execution_count": 7,
   "metadata": {
    "collapsed": false
   },
   "outputs": [
    {
     "data": {
      "text/plain": "       Unnamed: 0  area_num  cond_Аварийный  cond_Ветхий  cond_Исправный  \\\n0               0         0               0            0               1   \n1               1         0               0            0               1   \n2               2         0               0            0               1   \n3               3         0               0            0               1   \n4               4         0               0            0               1   \n...           ...       ...             ...          ...             ...   \n66795       66795        97               0            0               1   \n66796       66796        97               0            0               1   \n66797       66797        97               0            0               1   \n66798       66798        97               0            0               1   \n66799       66799        97               0            0               1   \n\n       dorm_federal_-  dorm_federal_нет  dorm_municipal_-  dorm_municipal_да  \\\n0                   1                 0                 1                  0   \n1                   1                 0                 1                  0   \n2                   1                 0                 1                  0   \n3                   1                 0                 1                  0   \n4                   1                 0                 1                  0   \n...               ...               ...               ...                ...   \n66795               0                 1                 0                  0   \n66796               1                 0                 1                  0   \n66797               1                 0                 1                  0   \n66798               1                 0                 1                  0   \n66799               1                 0                 1                  0   \n\n       dorm_municipal_нет  ...  lead_type_УО  living_space        lon  \\\n0                       0  ...             0           0.0  37.189899   \n1                       0  ...             0           0.0  37.189899   \n2                       0  ...             0           0.0  37.189899   \n3                       0  ...             0           0.0  37.192896   \n4                       0  ...             0           0.0  37.189899   \n...                   ...  ...           ...           ...        ...   \n66795                   1  ...             1       16519.0  37.598968   \n66796                   0  ...             1       11495.0  37.600882   \n66797                   0  ...             1        1948.0  37.600783   \n66798                   0  ...             1        1241.0  37.600352   \n66799                   0  ...             1        2007.0  37.600415   \n\n       room_type_Жилое    space  type_Жилой  \\\n0                    0      0.0           1   \n1                    0      0.0           1   \n2                    0      0.0           1   \n3                    0      0.0           1   \n4                    0      0.0           1   \n...                ...      ...         ...   \n66795                0  16519.0           0   \n66796                0  11495.0           0   \n66797                0   1948.0           0   \n66798                0   1241.0           0   \n66799                0   2007.0           0   \n\n       type_Жилой дом блокированной застройки  type_Многоквартирный  \\\n0                                           0                     0   \n1                                           0                     0   \n2                                           0                     0   \n3                                           0                     0   \n4                                           0                     0   \n...                                       ...                   ...   \n66795                                       0                     1   \n66796                                       0                     1   \n66797                                       0                     1   \n66798                                       0                     1   \n66799                                       0                     1   \n\n       cluster_label  CLUSTER_HDBSCAN  \n0                  1              155  \n1                  1              155  \n2                  1              155  \n3                  1              155  \n4                  1              155  \n...              ...              ...  \n66795              4               -1  \n66796              0              419  \n66797              1               -1  \n66798              1               -1  \n66799              1             1708  \n\n[66800 rows x 29 columns]",
      "text/html": "<div>\n<style scoped>\n    .dataframe tbody tr th:only-of-type {\n        vertical-align: middle;\n    }\n\n    .dataframe tbody tr th {\n        vertical-align: top;\n    }\n\n    .dataframe thead th {\n        text-align: right;\n    }\n</style>\n<table border=\"1\" class=\"dataframe\">\n  <thead>\n    <tr style=\"text-align: right;\">\n      <th></th>\n      <th>Unnamed: 0</th>\n      <th>area_num</th>\n      <th>cond_Аварийный</th>\n      <th>cond_Ветхий</th>\n      <th>cond_Исправный</th>\n      <th>dorm_federal_-</th>\n      <th>dorm_federal_нет</th>\n      <th>dorm_municipal_-</th>\n      <th>dorm_municipal_да</th>\n      <th>dorm_municipal_нет</th>\n      <th>...</th>\n      <th>lead_type_УО</th>\n      <th>living_space</th>\n      <th>lon</th>\n      <th>room_type_Жилое</th>\n      <th>space</th>\n      <th>type_Жилой</th>\n      <th>type_Жилой дом блокированной застройки</th>\n      <th>type_Многоквартирный</th>\n      <th>cluster_label</th>\n      <th>CLUSTER_HDBSCAN</th>\n    </tr>\n  </thead>\n  <tbody>\n    <tr>\n      <th>0</th>\n      <td>0</td>\n      <td>0</td>\n      <td>0</td>\n      <td>0</td>\n      <td>1</td>\n      <td>1</td>\n      <td>0</td>\n      <td>1</td>\n      <td>0</td>\n      <td>0</td>\n      <td>...</td>\n      <td>0</td>\n      <td>0.0</td>\n      <td>37.189899</td>\n      <td>0</td>\n      <td>0.0</td>\n      <td>1</td>\n      <td>0</td>\n      <td>0</td>\n      <td>1</td>\n      <td>155</td>\n    </tr>\n    <tr>\n      <th>1</th>\n      <td>1</td>\n      <td>0</td>\n      <td>0</td>\n      <td>0</td>\n      <td>1</td>\n      <td>1</td>\n      <td>0</td>\n      <td>1</td>\n      <td>0</td>\n      <td>0</td>\n      <td>...</td>\n      <td>0</td>\n      <td>0.0</td>\n      <td>37.189899</td>\n      <td>0</td>\n      <td>0.0</td>\n      <td>1</td>\n      <td>0</td>\n      <td>0</td>\n      <td>1</td>\n      <td>155</td>\n    </tr>\n    <tr>\n      <th>2</th>\n      <td>2</td>\n      <td>0</td>\n      <td>0</td>\n      <td>0</td>\n      <td>1</td>\n      <td>1</td>\n      <td>0</td>\n      <td>1</td>\n      <td>0</td>\n      <td>0</td>\n      <td>...</td>\n      <td>0</td>\n      <td>0.0</td>\n      <td>37.189899</td>\n      <td>0</td>\n      <td>0.0</td>\n      <td>1</td>\n      <td>0</td>\n      <td>0</td>\n      <td>1</td>\n      <td>155</td>\n    </tr>\n    <tr>\n      <th>3</th>\n      <td>3</td>\n      <td>0</td>\n      <td>0</td>\n      <td>0</td>\n      <td>1</td>\n      <td>1</td>\n      <td>0</td>\n      <td>1</td>\n      <td>0</td>\n      <td>0</td>\n      <td>...</td>\n      <td>0</td>\n      <td>0.0</td>\n      <td>37.192896</td>\n      <td>0</td>\n      <td>0.0</td>\n      <td>1</td>\n      <td>0</td>\n      <td>0</td>\n      <td>1</td>\n      <td>155</td>\n    </tr>\n    <tr>\n      <th>4</th>\n      <td>4</td>\n      <td>0</td>\n      <td>0</td>\n      <td>0</td>\n      <td>1</td>\n      <td>1</td>\n      <td>0</td>\n      <td>1</td>\n      <td>0</td>\n      <td>0</td>\n      <td>...</td>\n      <td>0</td>\n      <td>0.0</td>\n      <td>37.189899</td>\n      <td>0</td>\n      <td>0.0</td>\n      <td>1</td>\n      <td>0</td>\n      <td>0</td>\n      <td>1</td>\n      <td>155</td>\n    </tr>\n    <tr>\n      <th>...</th>\n      <td>...</td>\n      <td>...</td>\n      <td>...</td>\n      <td>...</td>\n      <td>...</td>\n      <td>...</td>\n      <td>...</td>\n      <td>...</td>\n      <td>...</td>\n      <td>...</td>\n      <td>...</td>\n      <td>...</td>\n      <td>...</td>\n      <td>...</td>\n      <td>...</td>\n      <td>...</td>\n      <td>...</td>\n      <td>...</td>\n      <td>...</td>\n      <td>...</td>\n      <td>...</td>\n    </tr>\n    <tr>\n      <th>66795</th>\n      <td>66795</td>\n      <td>97</td>\n      <td>0</td>\n      <td>0</td>\n      <td>1</td>\n      <td>0</td>\n      <td>1</td>\n      <td>0</td>\n      <td>0</td>\n      <td>1</td>\n      <td>...</td>\n      <td>1</td>\n      <td>16519.0</td>\n      <td>37.598968</td>\n      <td>0</td>\n      <td>16519.0</td>\n      <td>0</td>\n      <td>0</td>\n      <td>1</td>\n      <td>4</td>\n      <td>-1</td>\n    </tr>\n    <tr>\n      <th>66796</th>\n      <td>66796</td>\n      <td>97</td>\n      <td>0</td>\n      <td>0</td>\n      <td>1</td>\n      <td>1</td>\n      <td>0</td>\n      <td>1</td>\n      <td>0</td>\n      <td>0</td>\n      <td>...</td>\n      <td>1</td>\n      <td>11495.0</td>\n      <td>37.600882</td>\n      <td>0</td>\n      <td>11495.0</td>\n      <td>0</td>\n      <td>0</td>\n      <td>1</td>\n      <td>0</td>\n      <td>419</td>\n    </tr>\n    <tr>\n      <th>66797</th>\n      <td>66797</td>\n      <td>97</td>\n      <td>0</td>\n      <td>0</td>\n      <td>1</td>\n      <td>1</td>\n      <td>0</td>\n      <td>1</td>\n      <td>0</td>\n      <td>0</td>\n      <td>...</td>\n      <td>1</td>\n      <td>1948.0</td>\n      <td>37.600783</td>\n      <td>0</td>\n      <td>1948.0</td>\n      <td>0</td>\n      <td>0</td>\n      <td>1</td>\n      <td>1</td>\n      <td>-1</td>\n    </tr>\n    <tr>\n      <th>66798</th>\n      <td>66798</td>\n      <td>97</td>\n      <td>0</td>\n      <td>0</td>\n      <td>1</td>\n      <td>1</td>\n      <td>0</td>\n      <td>1</td>\n      <td>0</td>\n      <td>0</td>\n      <td>...</td>\n      <td>1</td>\n      <td>1241.0</td>\n      <td>37.600352</td>\n      <td>0</td>\n      <td>1241.0</td>\n      <td>0</td>\n      <td>0</td>\n      <td>1</td>\n      <td>1</td>\n      <td>-1</td>\n    </tr>\n    <tr>\n      <th>66799</th>\n      <td>66799</td>\n      <td>97</td>\n      <td>0</td>\n      <td>0</td>\n      <td>1</td>\n      <td>1</td>\n      <td>0</td>\n      <td>1</td>\n      <td>0</td>\n      <td>0</td>\n      <td>...</td>\n      <td>1</td>\n      <td>2007.0</td>\n      <td>37.600415</td>\n      <td>0</td>\n      <td>2007.0</td>\n      <td>0</td>\n      <td>0</td>\n      <td>1</td>\n      <td>1</td>\n      <td>1708</td>\n    </tr>\n  </tbody>\n</table>\n<p>66800 rows × 29 columns</p>\n</div>"
     },
     "execution_count": 7,
     "metadata": {},
     "output_type": "execute_result"
    }
   ],
   "source": [
    "model = hdbscan.HDBSCAN(min_cluster_size=5, min_samples=2,\n",
    "                        cluster_selection_epsilon=0.01)\n",
    "#min_cluster_size\n",
    "#min_samples\n",
    "#cluster_slection_epsilon\n",
    "\n",
    "\n",
    "class_predictions = model.fit_predict(cut_houses[cols])\n",
    "cut_houses['CLUSTER_HDBSCAN'] = class_predictions\n",
    "cut_houses"
   ]
  },
  {
   "cell_type": "code",
   "execution_count": 8,
   "metadata": {
    "collapsed": false
   },
   "outputs": [],
   "source": [
    "cut_houses.to_csv(\"hdbscan.csv\")"
   ]
  }
 ],
 "metadata": {
  "kernelspec": {
   "display_name": "Python 3",
   "language": "python",
   "name": "python3"
  },
  "language_info": {
   "codemirror_mode": {
    "name": "ipython",
    "version": 2
   },
   "file_extension": ".py",
   "mimetype": "text/x-python",
   "name": "python",
   "nbconvert_exporter": "python",
   "pygments_lexer": "ipython2",
   "version": "2.7.6"
  }
 },
 "nbformat": 4,
 "nbformat_minor": 0
}
