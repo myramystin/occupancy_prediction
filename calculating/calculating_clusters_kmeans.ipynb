{
 "cells": [
  {
   "cell_type": "markdown",
   "metadata": {},
   "source": [
    "## Расчет жилищной обеспеченности"
   ]
  },
  {
   "cell_type": "code",
   "execution_count": 2,
   "metadata": {},
   "outputs": [],
   "source": [
    "import pandas as pd\n",
    "import numpy as np\n",
    "import geopandas as gpd\n",
    "import warnings\n",
    "from shapely import wkt, Polygon, Point\n",
    "warnings.simplefilter(action='ignore', category=FutureWarning)"
   ]
  },
  {
   "cell_type": "code",
   "execution_count": 6,
   "metadata": {},
   "outputs": [
    {
     "data": {
      "text/html": [
       "<div>\n",
       "<style scoped>\n",
       "    .dataframe tbody tr th:only-of-type {\n",
       "        vertical-align: middle;\n",
       "    }\n",
       "\n",
       "    .dataframe tbody tr th {\n",
       "        vertical-align: top;\n",
       "    }\n",
       "\n",
       "    .dataframe thead th {\n",
       "        text-align: right;\n",
       "    }\n",
       "</style>\n",
       "<table border=\"1\" class=\"dataframe\">\n",
       "  <thead>\n",
       "    <tr style=\"text-align: right;\">\n",
       "      <th></th>\n",
       "      <th>district_code</th>\n",
       "      <th>area_name</th>\n",
       "      <th>population</th>\n",
       "      <th>geometry</th>\n",
       "      <th>space</th>\n",
       "      <th>living_space</th>\n",
       "    </tr>\n",
       "  </thead>\n",
       "  <tbody>\n",
       "    <tr>\n",
       "      <th>0</th>\n",
       "      <td>zo</td>\n",
       "      <td>Внуково</td>\n",
       "      <td>24687</td>\n",
       "      <td>POLYGON ((37.2458 55.6019109, 37.2418516 55.59...</td>\n",
       "      <td>378945.00</td>\n",
       "      <td>169846.50</td>\n",
       "    </tr>\n",
       "    <tr>\n",
       "      <th>1</th>\n",
       "      <td>zo</td>\n",
       "      <td>Можайский</td>\n",
       "      <td>137634</td>\n",
       "      <td>POLYGON ((37.3307568 55.685325, 37.3294276 55....</td>\n",
       "      <td>3525138.10</td>\n",
       "      <td>2951192.00</td>\n",
       "    </tr>\n",
       "    <tr>\n",
       "      <th>2</th>\n",
       "      <td>svo</td>\n",
       "      <td>Бибирево</td>\n",
       "      <td>158939</td>\n",
       "      <td>POLYGON ((37.6440665 55.8976996, 37.6356092 55...</td>\n",
       "      <td>2572168.20</td>\n",
       "      <td>2430648.30</td>\n",
       "    </tr>\n",
       "    <tr>\n",
       "      <th>3</th>\n",
       "      <td>vo</td>\n",
       "      <td>Богородское</td>\n",
       "      <td>110049</td>\n",
       "      <td>POLYGON ((37.6874473 55.8167675, 37.6878233 55...</td>\n",
       "      <td>2338132.30</td>\n",
       "      <td>2171861.02</td>\n",
       "    </tr>\n",
       "    <tr>\n",
       "      <th>4</th>\n",
       "      <td>uo</td>\n",
       "      <td>Братеево</td>\n",
       "      <td>108582</td>\n",
       "      <td>POLYGON ((37.7295024 55.6408925, 37.7453811 55...</td>\n",
       "      <td>1844167.50</td>\n",
       "      <td>1758697.07</td>\n",
       "    </tr>\n",
       "    <tr>\n",
       "      <th>...</th>\n",
       "      <td>...</td>\n",
       "      <td>...</td>\n",
       "      <td>...</td>\n",
       "      <td>...</td>\n",
       "      <td>...</td>\n",
       "      <td>...</td>\n",
       "    </tr>\n",
       "    <tr>\n",
       "      <th>87</th>\n",
       "      <td>tso</td>\n",
       "      <td>Красносельский</td>\n",
       "      <td>47865</td>\n",
       "      <td>POLYGON ((37.684842 55.7808113, 37.684818 55.7...</td>\n",
       "      <td>1209627.35</td>\n",
       "      <td>855932.54</td>\n",
       "    </tr>\n",
       "    <tr>\n",
       "      <th>88</th>\n",
       "      <td>tso</td>\n",
       "      <td>Мещанский</td>\n",
       "      <td>60044</td>\n",
       "      <td>POLYGON ((37.620909 55.7589912, 37.6215936 55....</td>\n",
       "      <td>1788118.70</td>\n",
       "      <td>1274209.79</td>\n",
       "    </tr>\n",
       "    <tr>\n",
       "      <th>89</th>\n",
       "      <td>tso</td>\n",
       "      <td>Пресненский</td>\n",
       "      <td>128784</td>\n",
       "      <td>POLYGON ((37.5812267 55.7745578, 37.5814805 55...</td>\n",
       "      <td>4685420.60</td>\n",
       "      <td>3314867.87</td>\n",
       "    </tr>\n",
       "    <tr>\n",
       "      <th>90</th>\n",
       "      <td>tso</td>\n",
       "      <td>Таганский</td>\n",
       "      <td>123382</td>\n",
       "      <td>POLYGON ((37.6352868 55.7538551, 37.6352315 55...</td>\n",
       "      <td>3213656.90</td>\n",
       "      <td>2499755.06</td>\n",
       "    </tr>\n",
       "    <tr>\n",
       "      <th>91</th>\n",
       "      <td>tso</td>\n",
       "      <td>Тверской</td>\n",
       "      <td>77091</td>\n",
       "      <td>POLYGON ((37.5893281 55.7924067, 37.5892442 55...</td>\n",
       "      <td>6002651.29</td>\n",
       "      <td>4248432.60</td>\n",
       "    </tr>\n",
       "  </tbody>\n",
       "</table>\n",
       "<p>92 rows × 6 columns</p>\n",
       "</div>"
      ],
      "text/plain": [
       "   district_code       area_name  population  \\\n",
       "0             zo         Внуково       24687   \n",
       "1             zo       Можайский      137634   \n",
       "2            svo        Бибирево      158939   \n",
       "3             vo     Богородское      110049   \n",
       "4             uo        Братеево      108582   \n",
       "..           ...             ...         ...   \n",
       "87           tso  Красносельский       47865   \n",
       "88           tso       Мещанский       60044   \n",
       "89           tso     Пресненский      128784   \n",
       "90           tso       Таганский      123382   \n",
       "91           tso        Тверской       77091   \n",
       "\n",
       "                                             geometry       space  \\\n",
       "0   POLYGON ((37.2458 55.6019109, 37.2418516 55.59...   378945.00   \n",
       "1   POLYGON ((37.3307568 55.685325, 37.3294276 55....  3525138.10   \n",
       "2   POLYGON ((37.6440665 55.8976996, 37.6356092 55...  2572168.20   \n",
       "3   POLYGON ((37.6874473 55.8167675, 37.6878233 55...  2338132.30   \n",
       "4   POLYGON ((37.7295024 55.6408925, 37.7453811 55...  1844167.50   \n",
       "..                                                ...         ...   \n",
       "87  POLYGON ((37.684842 55.7808113, 37.684818 55.7...  1209627.35   \n",
       "88  POLYGON ((37.620909 55.7589912, 37.6215936 55....  1788118.70   \n",
       "89  POLYGON ((37.5812267 55.7745578, 37.5814805 55...  4685420.60   \n",
       "90  POLYGON ((37.6352868 55.7538551, 37.6352315 55...  3213656.90   \n",
       "91  POLYGON ((37.5893281 55.7924067, 37.5892442 55...  6002651.29   \n",
       "\n",
       "    living_space  \n",
       "0      169846.50  \n",
       "1     2951192.00  \n",
       "2     2430648.30  \n",
       "3     2171861.02  \n",
       "4     1758697.07  \n",
       "..           ...  \n",
       "87     855932.54  \n",
       "88    1274209.79  \n",
       "89    3314867.87  \n",
       "90    2499755.06  \n",
       "91    4248432.60  \n",
       "\n",
       "[92 rows x 6 columns]"
      ]
     },
     "execution_count": 6,
     "metadata": {},
     "output_type": "execute_result"
    }
   ],
   "source": [
    "areas = pd.read_csv('areas-pop-geom-space.csv')\n",
    "areas = areas.drop(columns=['field_1'])\n",
    "areas['geometry'] = areas['geometry'].apply(wkt.loads)\n",
    "areas"
   ]
  },
  {
   "cell_type": "code",
   "execution_count": 9,
   "metadata": {},
   "outputs": [
    {
     "data": {
      "text/html": [
       "<div>\n",
       "<style scoped>\n",
       "    .dataframe tbody tr th:only-of-type {\n",
       "        vertical-align: middle;\n",
       "    }\n",
       "\n",
       "    .dataframe tbody tr th {\n",
       "        vertical-align: top;\n",
       "    }\n",
       "\n",
       "    .dataframe thead th {\n",
       "        text-align: right;\n",
       "    }\n",
       "</style>\n",
       "<table border=\"1\" class=\"dataframe\">\n",
       "  <thead>\n",
       "    <tr style=\"text-align: right;\">\n",
       "      <th></th>\n",
       "      <th>district_code</th>\n",
       "      <th>area_name</th>\n",
       "      <th>population</th>\n",
       "      <th>geometry</th>\n",
       "      <th>space</th>\n",
       "      <th>living_space</th>\n",
       "    </tr>\n",
       "  </thead>\n",
       "  <tbody>\n",
       "    <tr>\n",
       "      <th>0</th>\n",
       "      <td>zo</td>\n",
       "      <td>Внуково</td>\n",
       "      <td>24687</td>\n",
       "      <td>POLYGON ((37.24580 55.60191, 37.24185 55.59705...</td>\n",
       "      <td>378945.0</td>\n",
       "      <td>169846.50</td>\n",
       "    </tr>\n",
       "    <tr>\n",
       "      <th>1</th>\n",
       "      <td>zo</td>\n",
       "      <td>Можайский</td>\n",
       "      <td>137634</td>\n",
       "      <td>POLYGON ((37.33076 55.68532, 37.32943 55.68579...</td>\n",
       "      <td>3525138.1</td>\n",
       "      <td>2951192.00</td>\n",
       "    </tr>\n",
       "    <tr>\n",
       "      <th>2</th>\n",
       "      <td>svo</td>\n",
       "      <td>Бибирево</td>\n",
       "      <td>158939</td>\n",
       "      <td>POLYGON ((37.64407 55.89770, 37.63561 55.89368...</td>\n",
       "      <td>2572168.2</td>\n",
       "      <td>2430648.30</td>\n",
       "    </tr>\n",
       "    <tr>\n",
       "      <th>3</th>\n",
       "      <td>vo</td>\n",
       "      <td>Богородское</td>\n",
       "      <td>110049</td>\n",
       "      <td>POLYGON ((37.68745 55.81677, 37.68782 55.81691...</td>\n",
       "      <td>2338132.3</td>\n",
       "      <td>2171861.02</td>\n",
       "    </tr>\n",
       "    <tr>\n",
       "      <th>4</th>\n",
       "      <td>uo</td>\n",
       "      <td>Братеево</td>\n",
       "      <td>108582</td>\n",
       "      <td>POLYGON ((37.72950 55.64089, 37.74538 55.63990...</td>\n",
       "      <td>1844167.5</td>\n",
       "      <td>1758697.07</td>\n",
       "    </tr>\n",
       "  </tbody>\n",
       "</table>\n",
       "</div>"
      ],
      "text/plain": [
       "  district_code    area_name  population  \\\n",
       "0            zo      Внуково       24687   \n",
       "1            zo    Можайский      137634   \n",
       "2           svo     Бибирево      158939   \n",
       "3            vo  Богородское      110049   \n",
       "4            uo     Братеево      108582   \n",
       "\n",
       "                                            geometry      space  living_space  \n",
       "0  POLYGON ((37.24580 55.60191, 37.24185 55.59705...   378945.0     169846.50  \n",
       "1  POLYGON ((37.33076 55.68532, 37.32943 55.68579...  3525138.1    2951192.00  \n",
       "2  POLYGON ((37.64407 55.89770, 37.63561 55.89368...  2572168.2    2430648.30  \n",
       "3  POLYGON ((37.68745 55.81677, 37.68782 55.81691...  2338132.3    2171861.02  \n",
       "4  POLYGON ((37.72950 55.64089, 37.74538 55.63990...  1844167.5    1758697.07  "
      ]
     },
     "execution_count": 9,
     "metadata": {},
     "output_type": "execute_result"
    }
   ],
   "source": [
    "areas_geom = gpd.GeoDataFrame(\n",
    "    areas, geometry=areas.geometry)\n",
    "areas_geom.head()"
   ]
  },
  {
   "cell_type": "code",
   "execution_count": 10,
   "metadata": {},
   "outputs": [],
   "source": [
    "head_dict = {\n",
    "    \"Адрес ОЖФ\": \"addr\",\n",
    "    \"Глобальный уникальный идентификатор дома по ФИАС\": \"fias_code\",\n",
    "    \"Способ управления\": \"lead_type\",\n",
    "    \"Наименование организации, осуществляющей управление домом\": \"lead_name\",\n",
    "    \"Тип дома\" : \"type\",\n",
    "    \"Состояние\": \"cond\",\n",
    "    \"Общая площадь дома\": \"space\",\n",
    "    \"Жилая площадь в доме\": \"living_space\",\n",
    "    \"Дом находится в собственности субъекта Российской Федерации и в полном объеме используется в качестве общежития\" : \"dorm_federal\",\n",
    "    \"Дом находится в муниципальной собственности и в полном объеме используется в качестве общежития\" : \"dorm_municipal\",\n",
    "    \"Тип общежития\" : \"dorm_type\",\n",
    "    \"Тип помещения (блока)\": \"room_type\",\n",
    "    \"Дата сноса объекта\" : \"demolition_date\",\n",
    "    \"geometry\" : \"geometry\",\n",
    "    \"lat\": \"lat\",\n",
    "    \"lon\": \"lon\",\n",
    "    \"area_num\": \"area_num\",\n",
    "}"
   ]
  },
  {
   "cell_type": "code",
   "execution_count": 11,
   "metadata": {},
   "outputs": [
    {
     "name": "stdout",
     "output_type": "stream",
     "text": [
      "0 Внуково\n",
      "1 Можайский\n",
      "2 Бибирево\n",
      "3 Богородское\n",
      "4 Братеево\n",
      "5 Коптево\n",
      "6 Крылатское\n",
      "7 Некрасовка\n",
      "8 Проспект Вернадского\n",
      "9 Ростокино\n",
      "10 Свиблово\n",
      "11 Северный\n",
      "12 Сокольники\n",
      "13 Академический\n",
      "14 Алексеевский\n",
      "15 Алтуфьевский\n",
      "16 Бабушкинский\n",
      "17 Бутырский\n",
      "18 Войковский\n",
      "19 Головинский\n",
      "20 Лосиноостровский\n",
      "21 Молжаниновский\n",
      "22 Нагорный\n",
      "23 Нижегородский\n",
      "24 Ново-Переделкино\n",
      "25 Обручевский\n",
      "26 Беговой\n",
      "27 Бирюлёво Восточное\n",
      "28 Бирюлёво Западное\n",
      "29 Вешняки\n",
      "30 Восточное Дегунино\n",
      "31 Дорогомилово\n",
      "32 Зюзино\n",
      "33 Капотня\n",
      "34 Косино-Ухтомский\n",
      "35 Котловка\n",
      "36 Кузьминки\n",
      "37 Куркино\n",
      "38 Лефортово\n",
      "39 Лианозово\n",
      "40 Люблино\n",
      "41 Марьино\n",
      "42 Метрогородок\n",
      "43 Митино\n",
      "44 Нагатинский Затон\n",
      "45 Новогиреево\n",
      "46 Новокосино\n",
      "47 Очаково-Матвеевское\n",
      "48 Перово\n",
      "49 Печатники\n",
      "50 Покровское-Стрешнево\n",
      "51 Раменки\n",
      "52 Северное Бутово\n",
      "53 Северное Медведково\n",
      "54 Северное Тушино\n",
      "55 Сокол\n",
      "56 Солнцево\n",
      "57 Строгино\n",
      "58 Текстильщики\n",
      "59 Тёплый Стан\n",
      "60 Фили-Давыдково\n",
      "61 Хамовники\n",
      "62 Хорошёво-Мнёвники\n",
      "63 Царицыно\n",
      "64 Чертаново Северное\n",
      "65 Чертаново Центральное\n",
      "66 Чертаново Южное\n",
      "67 Щукино\n",
      "68 Южное Бутово\n",
      "69 Южное Медведково\n",
      "70 Южное Тушино\n",
      "71 Рязанский\n",
      "72 Тимирязевский\n",
      "73 Тропарёво-Никулино\n",
      "74 Хорошёвский\n",
      "75 Ярославский\n",
      "76 Выхино-Жулебино\n",
      "77 Северный\n",
      "78 Алексеевский\n",
      "79 Лосиноостровский\n",
      "80 Филёвский парк\n",
      "81 Тропарёво-Никулино\n",
      "82 Хамовники\n",
      "83 Якиманка\n",
      "84 Арбат\n",
      "85 Басманный\n",
      "86 Замоскворечье\n",
      "87 Красносельский\n",
      "88 Мещанский\n",
      "89 Пресненский\n",
      "90 Таганский\n",
      "91 Тверской\n"
     ]
    }
   ],
   "source": [
    "\n",
    "import os\n",
    "\n",
    "\n",
    "df_list = []\n",
    "houses_dict = dict()\n",
    "houses_real_order = dict()\n",
    "i = 0\n",
    "\n",
    "for areas_geom_index, areas_geom_row in areas_geom.iterrows():\n",
    "    area_name = areas_geom_row['area_name']\n",
    "    houses_dict[area_name] = areas_geom_index\n",
    "    houses_real_order[area_name] = i\n",
    "    print(areas_geom_index, area_name)\n",
    "    \n",
    "    path = os.path.join('mow-reestr-areas', f'{area_name}.csv')\n",
    "    df = pd.read_csv(path)\n",
    "    df_list.append(df)\n",
    "    i += 1\n",
    "\n",
    "houses = pd.concat(df_list, ignore_index=True)\n",
    "\n"
   ]
  },
  {
   "cell_type": "code",
   "execution_count": 12,
   "metadata": {
    "scrolled": true
   },
   "outputs": [
    {
     "data": {
      "text/html": [
       "<div>\n",
       "<style scoped>\n",
       "    .dataframe tbody tr th:only-of-type {\n",
       "        vertical-align: middle;\n",
       "    }\n",
       "\n",
       "    .dataframe tbody tr th {\n",
       "        vertical-align: top;\n",
       "    }\n",
       "\n",
       "    .dataframe thead th {\n",
       "        text-align: right;\n",
       "    }\n",
       "</style>\n",
       "<table border=\"1\" class=\"dataframe\">\n",
       "  <thead>\n",
       "    <tr style=\"text-align: right;\">\n",
       "      <th></th>\n",
       "      <th>addr</th>\n",
       "      <th>fias_code</th>\n",
       "      <th>lead_type</th>\n",
       "      <th>lead_name</th>\n",
       "      <th>type</th>\n",
       "      <th>cond</th>\n",
       "      <th>space</th>\n",
       "      <th>living_space</th>\n",
       "      <th>dorm_federal</th>\n",
       "      <th>dorm_municipal</th>\n",
       "      <th>dorm_type</th>\n",
       "      <th>room_type</th>\n",
       "      <th>demolition_date</th>\n",
       "      <th>geometry</th>\n",
       "      <th>lat</th>\n",
       "      <th>lon</th>\n",
       "      <th>area_num</th>\n",
       "    </tr>\n",
       "  </thead>\n",
       "  <tbody>\n",
       "    <tr>\n",
       "      <th>0</th>\n",
       "      <td>108809, Москва г, д. Толстопальцево, ул. Совет...</td>\n",
       "      <td>e2b601d1-9dce-4daa-93c2-633ee59f7f5c</td>\n",
       "      <td>Не выбран</td>\n",
       "      <td>NaN</td>\n",
       "      <td>Жилой</td>\n",
       "      <td>Исправный</td>\n",
       "      <td>90.0</td>\n",
       "      <td>NaN</td>\n",
       "      <td>-</td>\n",
       "      <td>-</td>\n",
       "      <td>-</td>\n",
       "      <td>NaN</td>\n",
       "      <td>NaN</td>\n",
       "      <td>POINT (37.1898994 55.6071768)</td>\n",
       "      <td>55.607177</td>\n",
       "      <td>37.189899</td>\n",
       "      <td>0</td>\n",
       "    </tr>\n",
       "    <tr>\n",
       "      <th>1</th>\n",
       "      <td>108809, Москва г, д. Толстопальцево, ул. Совет...</td>\n",
       "      <td>1389f7e1-1948-43c5-a769-944efdf1777d</td>\n",
       "      <td>Не выбран</td>\n",
       "      <td>NaN</td>\n",
       "      <td>Жилой</td>\n",
       "      <td>Исправный</td>\n",
       "      <td>211.0</td>\n",
       "      <td>NaN</td>\n",
       "      <td>-</td>\n",
       "      <td>-</td>\n",
       "      <td>-</td>\n",
       "      <td>NaN</td>\n",
       "      <td>NaN</td>\n",
       "      <td>POINT (37.1898994 55.6071768)</td>\n",
       "      <td>55.607177</td>\n",
       "      <td>37.189899</td>\n",
       "      <td>0</td>\n",
       "    </tr>\n",
       "    <tr>\n",
       "      <th>2</th>\n",
       "      <td>108809, Москва г, д. Толстопальцево, ул. Совет...</td>\n",
       "      <td>1bd548bd-d46a-4991-9062-57eeb638a2ce</td>\n",
       "      <td>Не выбран</td>\n",
       "      <td>NaN</td>\n",
       "      <td>Жилой</td>\n",
       "      <td>Исправный</td>\n",
       "      <td>113.0</td>\n",
       "      <td>NaN</td>\n",
       "      <td>-</td>\n",
       "      <td>-</td>\n",
       "      <td>-</td>\n",
       "      <td>NaN</td>\n",
       "      <td>NaN</td>\n",
       "      <td>POINT (37.1898994 55.6071768)</td>\n",
       "      <td>55.607177</td>\n",
       "      <td>37.189899</td>\n",
       "      <td>0</td>\n",
       "    </tr>\n",
       "    <tr>\n",
       "      <th>3</th>\n",
       "      <td>108809, Москва г, д. Толстопальцево, ул. Совет...</td>\n",
       "      <td>ac2010c3-0c83-47e6-b67e-ea555f181975</td>\n",
       "      <td>Не выбран</td>\n",
       "      <td>NaN</td>\n",
       "      <td>Жилой</td>\n",
       "      <td>Исправный</td>\n",
       "      <td>275.0</td>\n",
       "      <td>NaN</td>\n",
       "      <td>-</td>\n",
       "      <td>-</td>\n",
       "      <td>-</td>\n",
       "      <td>NaN</td>\n",
       "      <td>NaN</td>\n",
       "      <td>POINT (37.1928963 55.6036271)</td>\n",
       "      <td>55.603627</td>\n",
       "      <td>37.192896</td>\n",
       "      <td>0</td>\n",
       "    </tr>\n",
       "    <tr>\n",
       "      <th>4</th>\n",
       "      <td>108809, Москва г, д. Толстопальцево, ул. Совет...</td>\n",
       "      <td>55cc8c65-03a7-46f2-ae61-e8a6e3420b25</td>\n",
       "      <td>Не выбран</td>\n",
       "      <td>NaN</td>\n",
       "      <td>Жилой</td>\n",
       "      <td>Исправный</td>\n",
       "      <td>69.0</td>\n",
       "      <td>NaN</td>\n",
       "      <td>-</td>\n",
       "      <td>-</td>\n",
       "      <td>-</td>\n",
       "      <td>NaN</td>\n",
       "      <td>NaN</td>\n",
       "      <td>POINT (37.1898994 55.6071768)</td>\n",
       "      <td>55.607177</td>\n",
       "      <td>37.189899</td>\n",
       "      <td>0</td>\n",
       "    </tr>\n",
       "    <tr>\n",
       "      <th>...</th>\n",
       "      <td>...</td>\n",
       "      <td>...</td>\n",
       "      <td>...</td>\n",
       "      <td>...</td>\n",
       "      <td>...</td>\n",
       "      <td>...</td>\n",
       "      <td>...</td>\n",
       "      <td>...</td>\n",
       "      <td>...</td>\n",
       "      <td>...</td>\n",
       "      <td>...</td>\n",
       "      <td>...</td>\n",
       "      <td>...</td>\n",
       "      <td>...</td>\n",
       "      <td>...</td>\n",
       "      <td>...</td>\n",
       "      <td>...</td>\n",
       "    </tr>\n",
       "    <tr>\n",
       "      <th>66795</th>\n",
       "      <td>127055, Москва г, ул. Тихвинская, д. 39</td>\n",
       "      <td>adf12acf-cfca-4b7e-acab-af962a58a5de</td>\n",
       "      <td>УО</td>\n",
       "      <td>ОБЩЕСТВО С ОГРАНИЧЕННОЙ ОТВЕТСТВЕННОСТЬЮ \"ТСЖ ...</td>\n",
       "      <td>Многоквартирный</td>\n",
       "      <td>Исправный</td>\n",
       "      <td>23595.3</td>\n",
       "      <td>16519.0</td>\n",
       "      <td>нет</td>\n",
       "      <td>нет</td>\n",
       "      <td>-</td>\n",
       "      <td>NaN</td>\n",
       "      <td>NaN</td>\n",
       "      <td>POINT (37.598968 55.791289)</td>\n",
       "      <td>55.791289</td>\n",
       "      <td>37.598968</td>\n",
       "      <td>97</td>\n",
       "    </tr>\n",
       "    <tr>\n",
       "      <th>66796</th>\n",
       "      <td>127055, Москва г, ул. Тихвинская, д. 3, корп. 1</td>\n",
       "      <td>01a3cfd9-65de-4712-b305-a8e9420a5576</td>\n",
       "      <td>УО</td>\n",
       "      <td>ГОСУДАРСТВЕННОЕ БЮДЖЕТНОЕ УЧРЕЖДЕНИЕ ГОРОДА МО...</td>\n",
       "      <td>Многоквартирный</td>\n",
       "      <td>Исправный</td>\n",
       "      <td>13540.5</td>\n",
       "      <td>11495.0</td>\n",
       "      <td>-</td>\n",
       "      <td>-</td>\n",
       "      <td>-</td>\n",
       "      <td>NaN</td>\n",
       "      <td>NaN</td>\n",
       "      <td>POINT (37.600882 55.785939)</td>\n",
       "      <td>55.785939</td>\n",
       "      <td>37.600882</td>\n",
       "      <td>97</td>\n",
       "    </tr>\n",
       "    <tr>\n",
       "      <th>66797</th>\n",
       "      <td>127055, Москва г, ул. Тихвинская, д. 7</td>\n",
       "      <td>7136e1b0-e4a6-44aa-a94d-ed4f956f561c</td>\n",
       "      <td>УО</td>\n",
       "      <td>ГОСУДАРСТВЕННОЕ БЮДЖЕТНОЕ УЧРЕЖДЕНИЕ ГОРОДА МО...</td>\n",
       "      <td>Многоквартирный</td>\n",
       "      <td>Исправный</td>\n",
       "      <td>2652.6</td>\n",
       "      <td>1948.0</td>\n",
       "      <td>-</td>\n",
       "      <td>-</td>\n",
       "      <td>-</td>\n",
       "      <td>NaN</td>\n",
       "      <td>NaN</td>\n",
       "      <td>POINT (37.600783 55.786779)</td>\n",
       "      <td>55.786779</td>\n",
       "      <td>37.600783</td>\n",
       "      <td>97</td>\n",
       "    </tr>\n",
       "    <tr>\n",
       "      <th>66798</th>\n",
       "      <td>127055, Москва г, ул. Тихвинская, д. 9</td>\n",
       "      <td>7ade45e2-1084-4c3a-8cc3-c4abc3129173</td>\n",
       "      <td>УО</td>\n",
       "      <td>ГОСУДАРСТВЕННОЕ БЮДЖЕТНОЕ УЧРЕЖДЕНИЕ ГОРОДА МО...</td>\n",
       "      <td>Многоквартирный</td>\n",
       "      <td>Исправный</td>\n",
       "      <td>5328.6</td>\n",
       "      <td>1241.0</td>\n",
       "      <td>-</td>\n",
       "      <td>-</td>\n",
       "      <td>-</td>\n",
       "      <td>NaN</td>\n",
       "      <td>NaN</td>\n",
       "      <td>POINT (37.600352 55.787275)</td>\n",
       "      <td>55.787275</td>\n",
       "      <td>37.600352</td>\n",
       "      <td>97</td>\n",
       "    </tr>\n",
       "    <tr>\n",
       "      <th>66799</th>\n",
       "      <td>127055, Москва г, ул. Тихвинская, д. 9А</td>\n",
       "      <td>4fc407a9-24ec-4d55-b13d-a6269022f478</td>\n",
       "      <td>УО</td>\n",
       "      <td>ГОСУДАРСТВЕННОЕ БЮДЖЕТНОЕ УЧРЕЖДЕНИЕ ГОРОДА МО...</td>\n",
       "      <td>Многоквартирный</td>\n",
       "      <td>Исправный</td>\n",
       "      <td>2503.2</td>\n",
       "      <td>2007.0</td>\n",
       "      <td>-</td>\n",
       "      <td>-</td>\n",
       "      <td>-</td>\n",
       "      <td>NaN</td>\n",
       "      <td>NaN</td>\n",
       "      <td>POINT (37.600415 55.787082)</td>\n",
       "      <td>55.787082</td>\n",
       "      <td>37.600415</td>\n",
       "      <td>97</td>\n",
       "    </tr>\n",
       "  </tbody>\n",
       "</table>\n",
       "<p>66800 rows × 17 columns</p>\n",
       "</div>"
      ],
      "text/plain": [
       "                                                    addr  \\\n",
       "0      108809, Москва г, д. Толстопальцево, ул. Совет...   \n",
       "1      108809, Москва г, д. Толстопальцево, ул. Совет...   \n",
       "2      108809, Москва г, д. Толстопальцево, ул. Совет...   \n",
       "3      108809, Москва г, д. Толстопальцево, ул. Совет...   \n",
       "4      108809, Москва г, д. Толстопальцево, ул. Совет...   \n",
       "...                                                  ...   \n",
       "66795            127055, Москва г, ул. Тихвинская, д. 39   \n",
       "66796    127055, Москва г, ул. Тихвинская, д. 3, корп. 1   \n",
       "66797             127055, Москва г, ул. Тихвинская, д. 7   \n",
       "66798             127055, Москва г, ул. Тихвинская, д. 9   \n",
       "66799            127055, Москва г, ул. Тихвинская, д. 9А   \n",
       "\n",
       "                                  fias_code  lead_type  \\\n",
       "0      e2b601d1-9dce-4daa-93c2-633ee59f7f5c  Не выбран   \n",
       "1      1389f7e1-1948-43c5-a769-944efdf1777d  Не выбран   \n",
       "2      1bd548bd-d46a-4991-9062-57eeb638a2ce  Не выбран   \n",
       "3      ac2010c3-0c83-47e6-b67e-ea555f181975  Не выбран   \n",
       "4      55cc8c65-03a7-46f2-ae61-e8a6e3420b25  Не выбран   \n",
       "...                                     ...        ...   \n",
       "66795  adf12acf-cfca-4b7e-acab-af962a58a5de         УО   \n",
       "66796  01a3cfd9-65de-4712-b305-a8e9420a5576         УО   \n",
       "66797  7136e1b0-e4a6-44aa-a94d-ed4f956f561c         УО   \n",
       "66798  7ade45e2-1084-4c3a-8cc3-c4abc3129173         УО   \n",
       "66799  4fc407a9-24ec-4d55-b13d-a6269022f478         УО   \n",
       "\n",
       "                                               lead_name             type  \\\n",
       "0                                                    NaN            Жилой   \n",
       "1                                                    NaN            Жилой   \n",
       "2                                                    NaN            Жилой   \n",
       "3                                                    NaN            Жилой   \n",
       "4                                                    NaN            Жилой   \n",
       "...                                                  ...              ...   \n",
       "66795  ОБЩЕСТВО С ОГРАНИЧЕННОЙ ОТВЕТСТВЕННОСТЬЮ \"ТСЖ ...  Многоквартирный   \n",
       "66796  ГОСУДАРСТВЕННОЕ БЮДЖЕТНОЕ УЧРЕЖДЕНИЕ ГОРОДА МО...  Многоквартирный   \n",
       "66797  ГОСУДАРСТВЕННОЕ БЮДЖЕТНОЕ УЧРЕЖДЕНИЕ ГОРОДА МО...  Многоквартирный   \n",
       "66798  ГОСУДАРСТВЕННОЕ БЮДЖЕТНОЕ УЧРЕЖДЕНИЕ ГОРОДА МО...  Многоквартирный   \n",
       "66799  ГОСУДАРСТВЕННОЕ БЮДЖЕТНОЕ УЧРЕЖДЕНИЕ ГОРОДА МО...  Многоквартирный   \n",
       "\n",
       "            cond    space  living_space dorm_federal dorm_municipal dorm_type  \\\n",
       "0      Исправный     90.0           NaN            -              -         -   \n",
       "1      Исправный    211.0           NaN            -              -         -   \n",
       "2      Исправный    113.0           NaN            -              -         -   \n",
       "3      Исправный    275.0           NaN            -              -         -   \n",
       "4      Исправный     69.0           NaN            -              -         -   \n",
       "...          ...      ...           ...          ...            ...       ...   \n",
       "66795  Исправный  23595.3       16519.0          нет            нет         -   \n",
       "66796  Исправный  13540.5       11495.0            -              -         -   \n",
       "66797  Исправный   2652.6        1948.0            -              -         -   \n",
       "66798  Исправный   5328.6        1241.0            -              -         -   \n",
       "66799  Исправный   2503.2        2007.0            -              -         -   \n",
       "\n",
       "      room_type demolition_date                       geometry        lat  \\\n",
       "0           NaN             NaN  POINT (37.1898994 55.6071768)  55.607177   \n",
       "1           NaN             NaN  POINT (37.1898994 55.6071768)  55.607177   \n",
       "2           NaN             NaN  POINT (37.1898994 55.6071768)  55.607177   \n",
       "3           NaN             NaN  POINT (37.1928963 55.6036271)  55.603627   \n",
       "4           NaN             NaN  POINT (37.1898994 55.6071768)  55.607177   \n",
       "...         ...             ...                            ...        ...   \n",
       "66795       NaN             NaN    POINT (37.598968 55.791289)  55.791289   \n",
       "66796       NaN             NaN    POINT (37.600882 55.785939)  55.785939   \n",
       "66797       NaN             NaN    POINT (37.600783 55.786779)  55.786779   \n",
       "66798       NaN             NaN    POINT (37.600352 55.787275)  55.787275   \n",
       "66799       NaN             NaN    POINT (37.600415 55.787082)  55.787082   \n",
       "\n",
       "             lon  area_num  \n",
       "0      37.189899         0  \n",
       "1      37.189899         0  \n",
       "2      37.189899         0  \n",
       "3      37.192896         0  \n",
       "4      37.189899         0  \n",
       "...          ...       ...  \n",
       "66795  37.598968        97  \n",
       "66796  37.600882        97  \n",
       "66797  37.600783        97  \n",
       "66798  37.600352        97  \n",
       "66799  37.600415        97  \n",
       "\n",
       "[66800 rows x 17 columns]"
      ]
     },
     "execution_count": 12,
     "metadata": {},
     "output_type": "execute_result"
    }
   ],
   "source": [
    "houses = houses[head_dict.keys()]\n",
    "houses = houses.rename(columns=head_dict)\n",
    "houses"
   ]
  },
  {
   "cell_type": "code",
   "execution_count": 48,
   "metadata": {},
   "outputs": [
    {
     "name": "stdout",
     "output_type": "stream",
     "text": [
      "Requirement already satisfied: sklearn in /usr/local/lib/python3.11/site-packages (0.0.post5)\n",
      "\n",
      "\u001b[1m[\u001b[0m\u001b[34;49mnotice\u001b[0m\u001b[1;39;49m]\u001b[0m\u001b[39;49m A new release of pip available: \u001b[0m\u001b[31;49m22.3.1\u001b[0m\u001b[39;49m -> \u001b[0m\u001b[32;49m23.1.2\u001b[0m\n",
      "\u001b[1m[\u001b[0m\u001b[34;49mnotice\u001b[0m\u001b[1;39;49m]\u001b[0m\u001b[39;49m To update, run: \u001b[0m\u001b[32;49mpython3.11 -m pip install --upgrade pip\u001b[0m\n"
     ]
    }
   ],
   "source": [
    "!pip3 install sklearn"
   ]
  },
  {
   "cell_type": "code",
   "execution_count": 50,
   "metadata": {},
   "outputs": [
    {
     "ename": "ModuleNotFoundError",
     "evalue": "No module named 'sklearn'",
     "output_type": "error",
     "traceback": [
      "\u001b[0;31m---------------------------------------------------------------------------\u001b[0m",
      "\u001b[0;31mModuleNotFoundError\u001b[0m                       Traceback (most recent call last)",
      "Cell \u001b[0;32mIn[50], line 1\u001b[0m\n\u001b[0;32m----> 1\u001b[0m \u001b[38;5;28;01mfrom\u001b[39;00m \u001b[38;5;21;01msklearn\u001b[39;00m\u001b[38;5;21;01m.\u001b[39;00m\u001b[38;5;21;01mcluster\u001b[39;00m \u001b[38;5;28;01mimport\u001b[39;00m KMeans\n\u001b[1;32m      2\u001b[0m \u001b[38;5;28;01mimport\u001b[39;00m \u001b[38;5;21;01mseaborn\u001b[39;00m \u001b[38;5;28;01mas\u001b[39;00m \u001b[38;5;21;01msns\u001b[39;00m; sns\u001b[38;5;241m.\u001b[39mset()\n\u001b[1;32m      3\u001b[0m \u001b[38;5;28;01mimport\u001b[39;00m \u001b[38;5;21;01mcsv\u001b[39;00m\n",
      "\u001b[0;31mModuleNotFoundError\u001b[0m: No module named 'sklearn'"
     ]
    }
   ],
   "source": [
    "from sklearn.cluster import KMeans\n",
    "import seaborn as sns; sns.set()\n",
    "import csv\n",
    "import matplotlib.pyplot as plt"
   ]
  },
  {
   "cell_type": "code",
   "execution_count": 100,
   "metadata": {},
   "outputs": [
    {
     "data": {
      "text/html": [
       "<div>\n",
       "<style scoped>\n",
       "    .dataframe tbody tr th:only-of-type {\n",
       "        vertical-align: middle;\n",
       "    }\n",
       "\n",
       "    .dataframe tbody tr th {\n",
       "        vertical-align: top;\n",
       "    }\n",
       "\n",
       "    .dataframe thead th {\n",
       "        text-align: right;\n",
       "    }\n",
       "</style>\n",
       "<table border=\"1\" class=\"dataframe\">\n",
       "  <thead>\n",
       "    <tr style=\"text-align: right;\">\n",
       "      <th></th>\n",
       "      <th>addr</th>\n",
       "      <th>fias_code</th>\n",
       "      <th>lead_type</th>\n",
       "      <th>lead_name</th>\n",
       "      <th>type</th>\n",
       "      <th>cond</th>\n",
       "      <th>space</th>\n",
       "      <th>living_space</th>\n",
       "      <th>dorm_federal</th>\n",
       "      <th>dorm_municipal</th>\n",
       "      <th>dorm_type</th>\n",
       "      <th>room_type</th>\n",
       "      <th>demolition_date</th>\n",
       "      <th>geometry</th>\n",
       "      <th>lat</th>\n",
       "      <th>lon</th>\n",
       "      <th>area_num</th>\n",
       "    </tr>\n",
       "  </thead>\n",
       "  <tbody>\n",
       "    <tr>\n",
       "      <th>0</th>\n",
       "      <td>108809, Москва г, д. Толстопальцево, ул. Совет...</td>\n",
       "      <td>e2b601d1-9dce-4daa-93c2-633ee59f7f5c</td>\n",
       "      <td>Не выбран</td>\n",
       "      <td>NaN</td>\n",
       "      <td>Жилой</td>\n",
       "      <td>Исправный</td>\n",
       "      <td>90.0</td>\n",
       "      <td>NaN</td>\n",
       "      <td>-</td>\n",
       "      <td>-</td>\n",
       "      <td>-</td>\n",
       "      <td>NaN</td>\n",
       "      <td>NaN</td>\n",
       "      <td>POINT (37.1898994 55.6071768)</td>\n",
       "      <td>55.607177</td>\n",
       "      <td>37.189899</td>\n",
       "      <td>0</td>\n",
       "    </tr>\n",
       "    <tr>\n",
       "      <th>1</th>\n",
       "      <td>108809, Москва г, д. Толстопальцево, ул. Совет...</td>\n",
       "      <td>1389f7e1-1948-43c5-a769-944efdf1777d</td>\n",
       "      <td>Не выбран</td>\n",
       "      <td>NaN</td>\n",
       "      <td>Жилой</td>\n",
       "      <td>Исправный</td>\n",
       "      <td>211.0</td>\n",
       "      <td>NaN</td>\n",
       "      <td>-</td>\n",
       "      <td>-</td>\n",
       "      <td>-</td>\n",
       "      <td>NaN</td>\n",
       "      <td>NaN</td>\n",
       "      <td>POINT (37.1898994 55.6071768)</td>\n",
       "      <td>55.607177</td>\n",
       "      <td>37.189899</td>\n",
       "      <td>0</td>\n",
       "    </tr>\n",
       "    <tr>\n",
       "      <th>2</th>\n",
       "      <td>108809, Москва г, д. Толстопальцево, ул. Совет...</td>\n",
       "      <td>1bd548bd-d46a-4991-9062-57eeb638a2ce</td>\n",
       "      <td>Не выбран</td>\n",
       "      <td>NaN</td>\n",
       "      <td>Жилой</td>\n",
       "      <td>Исправный</td>\n",
       "      <td>113.0</td>\n",
       "      <td>NaN</td>\n",
       "      <td>-</td>\n",
       "      <td>-</td>\n",
       "      <td>-</td>\n",
       "      <td>NaN</td>\n",
       "      <td>NaN</td>\n",
       "      <td>POINT (37.1898994 55.6071768)</td>\n",
       "      <td>55.607177</td>\n",
       "      <td>37.189899</td>\n",
       "      <td>0</td>\n",
       "    </tr>\n",
       "    <tr>\n",
       "      <th>3</th>\n",
       "      <td>108809, Москва г, д. Толстопальцево, ул. Совет...</td>\n",
       "      <td>ac2010c3-0c83-47e6-b67e-ea555f181975</td>\n",
       "      <td>Не выбран</td>\n",
       "      <td>NaN</td>\n",
       "      <td>Жилой</td>\n",
       "      <td>Исправный</td>\n",
       "      <td>275.0</td>\n",
       "      <td>NaN</td>\n",
       "      <td>-</td>\n",
       "      <td>-</td>\n",
       "      <td>-</td>\n",
       "      <td>NaN</td>\n",
       "      <td>NaN</td>\n",
       "      <td>POINT (37.1928963 55.6036271)</td>\n",
       "      <td>55.603627</td>\n",
       "      <td>37.192896</td>\n",
       "      <td>0</td>\n",
       "    </tr>\n",
       "    <tr>\n",
       "      <th>4</th>\n",
       "      <td>108809, Москва г, д. Толстопальцево, ул. Совет...</td>\n",
       "      <td>55cc8c65-03a7-46f2-ae61-e8a6e3420b25</td>\n",
       "      <td>Не выбран</td>\n",
       "      <td>NaN</td>\n",
       "      <td>Жилой</td>\n",
       "      <td>Исправный</td>\n",
       "      <td>69.0</td>\n",
       "      <td>NaN</td>\n",
       "      <td>-</td>\n",
       "      <td>-</td>\n",
       "      <td>-</td>\n",
       "      <td>NaN</td>\n",
       "      <td>NaN</td>\n",
       "      <td>POINT (37.1898994 55.6071768)</td>\n",
       "      <td>55.607177</td>\n",
       "      <td>37.189899</td>\n",
       "      <td>0</td>\n",
       "    </tr>\n",
       "    <tr>\n",
       "      <th>...</th>\n",
       "      <td>...</td>\n",
       "      <td>...</td>\n",
       "      <td>...</td>\n",
       "      <td>...</td>\n",
       "      <td>...</td>\n",
       "      <td>...</td>\n",
       "      <td>...</td>\n",
       "      <td>...</td>\n",
       "      <td>...</td>\n",
       "      <td>...</td>\n",
       "      <td>...</td>\n",
       "      <td>...</td>\n",
       "      <td>...</td>\n",
       "      <td>...</td>\n",
       "      <td>...</td>\n",
       "      <td>...</td>\n",
       "      <td>...</td>\n",
       "    </tr>\n",
       "    <tr>\n",
       "      <th>66795</th>\n",
       "      <td>127055, Москва г, ул. Тихвинская, д. 39</td>\n",
       "      <td>adf12acf-cfca-4b7e-acab-af962a58a5de</td>\n",
       "      <td>УО</td>\n",
       "      <td>ОБЩЕСТВО С ОГРАНИЧЕННОЙ ОТВЕТСТВЕННОСТЬЮ \"ТСЖ ...</td>\n",
       "      <td>Многоквартирный</td>\n",
       "      <td>Исправный</td>\n",
       "      <td>23595.3</td>\n",
       "      <td>16519.0</td>\n",
       "      <td>нет</td>\n",
       "      <td>нет</td>\n",
       "      <td>-</td>\n",
       "      <td>NaN</td>\n",
       "      <td>NaN</td>\n",
       "      <td>POINT (37.598968 55.791289)</td>\n",
       "      <td>55.791289</td>\n",
       "      <td>37.598968</td>\n",
       "      <td>97</td>\n",
       "    </tr>\n",
       "    <tr>\n",
       "      <th>66796</th>\n",
       "      <td>127055, Москва г, ул. Тихвинская, д. 3, корп. 1</td>\n",
       "      <td>01a3cfd9-65de-4712-b305-a8e9420a5576</td>\n",
       "      <td>УО</td>\n",
       "      <td>ГОСУДАРСТВЕННОЕ БЮДЖЕТНОЕ УЧРЕЖДЕНИЕ ГОРОДА МО...</td>\n",
       "      <td>Многоквартирный</td>\n",
       "      <td>Исправный</td>\n",
       "      <td>13540.5</td>\n",
       "      <td>11495.0</td>\n",
       "      <td>-</td>\n",
       "      <td>-</td>\n",
       "      <td>-</td>\n",
       "      <td>NaN</td>\n",
       "      <td>NaN</td>\n",
       "      <td>POINT (37.600882 55.785939)</td>\n",
       "      <td>55.785939</td>\n",
       "      <td>37.600882</td>\n",
       "      <td>97</td>\n",
       "    </tr>\n",
       "    <tr>\n",
       "      <th>66797</th>\n",
       "      <td>127055, Москва г, ул. Тихвинская, д. 7</td>\n",
       "      <td>7136e1b0-e4a6-44aa-a94d-ed4f956f561c</td>\n",
       "      <td>УО</td>\n",
       "      <td>ГОСУДАРСТВЕННОЕ БЮДЖЕТНОЕ УЧРЕЖДЕНИЕ ГОРОДА МО...</td>\n",
       "      <td>Многоквартирный</td>\n",
       "      <td>Исправный</td>\n",
       "      <td>2652.6</td>\n",
       "      <td>1948.0</td>\n",
       "      <td>-</td>\n",
       "      <td>-</td>\n",
       "      <td>-</td>\n",
       "      <td>NaN</td>\n",
       "      <td>NaN</td>\n",
       "      <td>POINT (37.600783 55.786779)</td>\n",
       "      <td>55.786779</td>\n",
       "      <td>37.600783</td>\n",
       "      <td>97</td>\n",
       "    </tr>\n",
       "    <tr>\n",
       "      <th>66798</th>\n",
       "      <td>127055, Москва г, ул. Тихвинская, д. 9</td>\n",
       "      <td>7ade45e2-1084-4c3a-8cc3-c4abc3129173</td>\n",
       "      <td>УО</td>\n",
       "      <td>ГОСУДАРСТВЕННОЕ БЮДЖЕТНОЕ УЧРЕЖДЕНИЕ ГОРОДА МО...</td>\n",
       "      <td>Многоквартирный</td>\n",
       "      <td>Исправный</td>\n",
       "      <td>5328.6</td>\n",
       "      <td>1241.0</td>\n",
       "      <td>-</td>\n",
       "      <td>-</td>\n",
       "      <td>-</td>\n",
       "      <td>NaN</td>\n",
       "      <td>NaN</td>\n",
       "      <td>POINT (37.600352 55.787275)</td>\n",
       "      <td>55.787275</td>\n",
       "      <td>37.600352</td>\n",
       "      <td>97</td>\n",
       "    </tr>\n",
       "    <tr>\n",
       "      <th>66799</th>\n",
       "      <td>127055, Москва г, ул. Тихвинская, д. 9А</td>\n",
       "      <td>4fc407a9-24ec-4d55-b13d-a6269022f478</td>\n",
       "      <td>УО</td>\n",
       "      <td>ГОСУДАРСТВЕННОЕ БЮДЖЕТНОЕ УЧРЕЖДЕНИЕ ГОРОДА МО...</td>\n",
       "      <td>Многоквартирный</td>\n",
       "      <td>Исправный</td>\n",
       "      <td>2503.2</td>\n",
       "      <td>2007.0</td>\n",
       "      <td>-</td>\n",
       "      <td>-</td>\n",
       "      <td>-</td>\n",
       "      <td>NaN</td>\n",
       "      <td>NaN</td>\n",
       "      <td>POINT (37.600415 55.787082)</td>\n",
       "      <td>55.787082</td>\n",
       "      <td>37.600415</td>\n",
       "      <td>97</td>\n",
       "    </tr>\n",
       "  </tbody>\n",
       "</table>\n",
       "<p>66800 rows × 17 columns</p>\n",
       "</div>"
      ],
      "text/plain": [
       "                                                    addr  \\\n",
       "0      108809, Москва г, д. Толстопальцево, ул. Совет...   \n",
       "1      108809, Москва г, д. Толстопальцево, ул. Совет...   \n",
       "2      108809, Москва г, д. Толстопальцево, ул. Совет...   \n",
       "3      108809, Москва г, д. Толстопальцево, ул. Совет...   \n",
       "4      108809, Москва г, д. Толстопальцево, ул. Совет...   \n",
       "...                                                  ...   \n",
       "66795            127055, Москва г, ул. Тихвинская, д. 39   \n",
       "66796    127055, Москва г, ул. Тихвинская, д. 3, корп. 1   \n",
       "66797             127055, Москва г, ул. Тихвинская, д. 7   \n",
       "66798             127055, Москва г, ул. Тихвинская, д. 9   \n",
       "66799            127055, Москва г, ул. Тихвинская, д. 9А   \n",
       "\n",
       "                                  fias_code  lead_type  \\\n",
       "0      e2b601d1-9dce-4daa-93c2-633ee59f7f5c  Не выбран   \n",
       "1      1389f7e1-1948-43c5-a769-944efdf1777d  Не выбран   \n",
       "2      1bd548bd-d46a-4991-9062-57eeb638a2ce  Не выбран   \n",
       "3      ac2010c3-0c83-47e6-b67e-ea555f181975  Не выбран   \n",
       "4      55cc8c65-03a7-46f2-ae61-e8a6e3420b25  Не выбран   \n",
       "...                                     ...        ...   \n",
       "66795  adf12acf-cfca-4b7e-acab-af962a58a5de         УО   \n",
       "66796  01a3cfd9-65de-4712-b305-a8e9420a5576         УО   \n",
       "66797  7136e1b0-e4a6-44aa-a94d-ed4f956f561c         УО   \n",
       "66798  7ade45e2-1084-4c3a-8cc3-c4abc3129173         УО   \n",
       "66799  4fc407a9-24ec-4d55-b13d-a6269022f478         УО   \n",
       "\n",
       "                                               lead_name             type  \\\n",
       "0                                                    NaN            Жилой   \n",
       "1                                                    NaN            Жилой   \n",
       "2                                                    NaN            Жилой   \n",
       "3                                                    NaN            Жилой   \n",
       "4                                                    NaN            Жилой   \n",
       "...                                                  ...              ...   \n",
       "66795  ОБЩЕСТВО С ОГРАНИЧЕННОЙ ОТВЕТСТВЕННОСТЬЮ \"ТСЖ ...  Многоквартирный   \n",
       "66796  ГОСУДАРСТВЕННОЕ БЮДЖЕТНОЕ УЧРЕЖДЕНИЕ ГОРОДА МО...  Многоквартирный   \n",
       "66797  ГОСУДАРСТВЕННОЕ БЮДЖЕТНОЕ УЧРЕЖДЕНИЕ ГОРОДА МО...  Многоквартирный   \n",
       "66798  ГОСУДАРСТВЕННОЕ БЮДЖЕТНОЕ УЧРЕЖДЕНИЕ ГОРОДА МО...  Многоквартирный   \n",
       "66799  ГОСУДАРСТВЕННОЕ БЮДЖЕТНОЕ УЧРЕЖДЕНИЕ ГОРОДА МО...  Многоквартирный   \n",
       "\n",
       "            cond    space  living_space dorm_federal dorm_municipal dorm_type  \\\n",
       "0      Исправный     90.0           NaN            -              -         -   \n",
       "1      Исправный    211.0           NaN            -              -         -   \n",
       "2      Исправный    113.0           NaN            -              -         -   \n",
       "3      Исправный    275.0           NaN            -              -         -   \n",
       "4      Исправный     69.0           NaN            -              -         -   \n",
       "...          ...      ...           ...          ...            ...       ...   \n",
       "66795  Исправный  23595.3       16519.0          нет            нет         -   \n",
       "66796  Исправный  13540.5       11495.0            -              -         -   \n",
       "66797  Исправный   2652.6        1948.0            -              -         -   \n",
       "66798  Исправный   5328.6        1241.0            -              -         -   \n",
       "66799  Исправный   2503.2        2007.0            -              -         -   \n",
       "\n",
       "      room_type demolition_date                       geometry        lat  \\\n",
       "0           NaN             NaN  POINT (37.1898994 55.6071768)  55.607177   \n",
       "1           NaN             NaN  POINT (37.1898994 55.6071768)  55.607177   \n",
       "2           NaN             NaN  POINT (37.1898994 55.6071768)  55.607177   \n",
       "3           NaN             NaN  POINT (37.1928963 55.6036271)  55.603627   \n",
       "4           NaN             NaN  POINT (37.1898994 55.6071768)  55.607177   \n",
       "...         ...             ...                            ...        ...   \n",
       "66795       NaN             NaN    POINT (37.598968 55.791289)  55.791289   \n",
       "66796       NaN             NaN    POINT (37.600882 55.785939)  55.785939   \n",
       "66797       NaN             NaN    POINT (37.600783 55.786779)  55.786779   \n",
       "66798       NaN             NaN    POINT (37.600352 55.787275)  55.787275   \n",
       "66799       NaN             NaN    POINT (37.600415 55.787082)  55.787082   \n",
       "\n",
       "             lon  area_num  \n",
       "0      37.189899         0  \n",
       "1      37.189899         0  \n",
       "2      37.189899         0  \n",
       "3      37.192896         0  \n",
       "4      37.189899         0  \n",
       "...          ...       ...  \n",
       "66795  37.598968        97  \n",
       "66796  37.600882        97  \n",
       "66797  37.600783        97  \n",
       "66798  37.600352        97  \n",
       "66799  37.600415        97  \n",
       "\n",
       "[66800 rows x 17 columns]"
      ]
     },
     "execution_count": 100,
     "metadata": {},
     "output_type": "execute_result"
    }
   ],
   "source": [
    "\n",
    "houses"
   ]
  },
  {
   "cell_type": "code",
   "execution_count": 101,
   "metadata": {},
   "outputs": [],
   "source": [
    "# import numpy as np\n",
    "# import matplotlib.pyplot as plt\n",
    "# from sklearn.cluster import KMeans\n",
    "# from sklearn import metrics\n",
    "# latitudes =  houses['lat'].values.reshape(-1, 1)\n",
    "# longitudes =  houses['lon'].values.reshape(-1, 1)\n",
    "#\n",
    "# coordinates = np.column_stack((latitudes, longitudes))\n",
    "#\n",
    "# print(coordinates)\n",
    "#\n",
    "# # Define the range of possible cluster numbers to try\n",
    "# k_values = range(2, 50)\n",
    "#\n",
    "# # Initialize a list to store the within-cluster sum of squares (inertia) for each k value\n",
    "# inertia_values = []\n",
    "#\n",
    "# # Calculate the inertia for each k value\n",
    "# for k in k_values:\n",
    "#     kmeans = KMeans(n_clusters=k, random_state=0).fit(coordinates)\n",
    "#     kmeans.fit(coordinates)\n",
    "#     inertia_values.append(kmeans.inertia_)\n",
    "#\n",
    "# # Plot the elbow curve\n",
    "# plt.plot(k_values, inertia_values, 'bx-')\n",
    "# plt.xticks(np.arange(min(k_values), max(k_values)+1, 5.0))\n",
    "# plt.yticks(np.arange(min(inertia_values), max(inertia_values)+1, 100.0))\n",
    "# plt.xlabel('Number of Clusters (k)')\n",
    "# plt.ylabel('Inertia')\n",
    "# plt.title('Elbow Method for Geographic Coordinates')\n",
    "# plt.show()"
   ]
  },
  {
   "cell_type": "code",
   "execution_count": 102,
   "metadata": {},
   "outputs": [],
   "source": [
    "# houses"
   ]
  },
  {
   "cell_type": "code",
   "execution_count": 103,
   "metadata": {},
   "outputs": [],
   "source": [
    "# cut_houses = houses\n",
    "# df_features = pd.get_dummies(cut_houses['lead_type'], prefix='lead_type')\n",
    "# cut_houses = pd.concat([cut_houses, df_features], axis=1)\n",
    "#\n",
    "# df_features = pd.get_dummies(cut_houses['type'], prefix='type')\n",
    "# cut_houses = pd.concat([cut_houses, df_features], axis=1)\n",
    "#\n",
    "# df_features = pd.get_dummies(cut_houses['cond'], prefix='cond')\n",
    "# cut_houses = pd.concat([cut_houses, df_features], axis=1)\n",
    "#\n",
    "# df_features = pd.get_dummies(cut_houses['dorm_federal'], prefix='dorm_federal')\n",
    "# cut_houses = pd.concat([cut_houses, df_features], axis=1)\n",
    "#\n",
    "# df_features = pd.get_dummies(cut_houses['dorm_municipal'], prefix='dorm_municipal')\n",
    "# cut_houses = pd.concat([cut_houses, df_features], axis=1)\n",
    "#\n",
    "# df_features = pd.get_dummies(cut_houses['dorm_type'], prefix='dorm_type')\n",
    "# cut_houses = pd.concat([cut_houses, df_features], axis=1)\n",
    "#\n",
    "# df_features = pd.get_dummies(cut_houses['room_type'], prefix='room_type')\n",
    "# cut_houses = pd.concat([cut_houses, df_features], axis=1)\n",
    "#\n",
    "# cols =  ['area_num', 'cond_Аварийный', 'cond_Ветхий',\n",
    "#         'cond_Исправный', 'dorm_federal_-',\n",
    "#         'dorm_federal_нет',  'dorm_municipal_-',\n",
    "#         'dorm_municipal_да', 'dorm_municipal_нет',  'dorm_type_-',\n",
    "#         'dorm_type_Гостиничный', 'dorm_type_Коридорный',\n",
    "#          'lat', 'lead_type_ЖК',\n",
    "#         'lead_type_Иной кооператив', 'lead_type_Не выбран',\n",
    "#         'lead_type_Непосредственное управление', 'lead_type_ТСЖ',\n",
    "#         'lead_type_УО', 'living_space', 'lon', 'room_type_Жилое',\n",
    "#         'space',  'type_Жилой', 'type_Жилой дом блокированной застройки',\n",
    "#         'type_Многоквартирный']\n",
    "# cut_houses = cut_houses[cols]\n",
    "# cut_houses['living_space'] = cut_houses['living_space'].fillna(0)\n",
    "# cut_houses['space'] = cut_houses['living_space'].fillna(0)\n",
    "#\n",
    "# cut_houses"
   ]
  },
  {
   "cell_type": "code",
   "execution_count": 104,
   "metadata": {},
   "outputs": [],
   "source": [
    "# import numpy as np\n",
    "# import matplotlib.pyplot as plt\n",
    "# from sklearn.cluster import KMeans\n",
    "# from sklearn import metrics\n",
    "# latitudes =  houses['lat'].values.reshape(-1, 1)\n",
    "# longitudes =  houses['lon'].values.reshape(-1, 1)\n",
    "#\n",
    "# coordinates = np.column_stack((latitudes, longitudes))\n",
    "#\n",
    "# print(coordinates)\n",
    "#\n",
    "# # Define the range of possible cluster numbers to try\n",
    "# k_values = range(2, 10)\n",
    "#\n",
    "# # Initialize a list to store the within-cluster sum of squares (inertia) for each k value\n",
    "# inertia_values = []\n",
    "#\n",
    "# # Calculate the inertia for each k value\n",
    "# for k in k_values:\n",
    "#     kmeans = KMeans(n_clusters=k, random_state=0).fit(cut_houses)\n",
    "#     kmeans.fit(cut_houses)\n",
    "#     inertia_values.append(kmeans.inertia_)\n",
    "#\n",
    "# # Plot the elbow curve\n",
    "# plt.plot(k_values, inertia_values, 'bx-')\n",
    "# plt.xticks(np.arange(min(k_values), max(k_values)+1, 5.0))\n",
    "# plt.yticks(np.arange(min(inertia_values), max(inertia_values)+1, 100.0))\n",
    "# plt.xlabel('Number of Clusters (k)')\n",
    "# plt.ylabel('Inertia')\n",
    "# plt.title('Elbow Method for Geographic Coordinates')\n",
    "# plt.show()"
   ]
  },
  {
   "cell_type": "code",
   "execution_count": 105,
   "metadata": {},
   "outputs": [],
   "source": [
    "\n",
    "# kmeans = KMeans(n_clusters = 7, init ='k-means++')\n",
    "# kmeans.fit(cut_houses[cols]) # Compute k-means clustering.\n",
    "# cut_houses['cluster_label'] = kmeans.fit_predict(cut_houses[cols])\n",
    "# centers = kmeans.cluster_centers_ # Coordinates of cluster centers.\n",
    "# labels = kmeans.predict(cut_houses[cols]) # Labels of each point\n",
    "\n",
    "# cut_houses.head(10)"
   ]
  },
  {
   "cell_type": "code",
   "execution_count": 105,
   "metadata": {},
   "outputs": [],
   "source": []
  },
  {
   "cell_type": "code",
   "execution_count": 106,
   "metadata": {},
   "outputs": [],
   "source": [
    "# houses_geom = gpd.GeoDataFrame(\n",
    "#     cut_houses, geometry=gpd.points_from_xy(cut_houses.lon, cut_houses.lat), crs=\"EPSG:4326\")\n",
    "# houses_geom.head()"
   ]
  },
  {
   "cell_type": "code",
   "execution_count": 107,
   "metadata": {},
   "outputs": [],
   "source": [
    "# X = houses_geom.drop(columns=['geometry', 'cluster_label'])\n",
    "#\n",
    "# from sklearn.metrics import davies_bouldin_score, silhouette_score\n",
    "# from sklearn.cluster import KMeans\n",
    "#\n",
    "# # Calculate the Davies-Bouldin Index\n",
    "# dbi = davies_bouldin_score(X, houses_geom['cluster_label'])\n",
    "# print(\"KMEANS - Davies-Bouldin Index:\", dbi)\n",
    "# silhouette_avg = silhouette_score(X, houses_geom['cluster_label'])\n",
    "# print(\"KMEANS - Silhouette Score:\", silhouette_avg)"
   ]
  },
  {
   "cell_type": "code",
   "execution_count": 108,
   "metadata": {},
   "outputs": [],
   "source": [
    "# import plotly.express as px\n",
    "# houses_geom[\"cluster_label\"] = houses_geom[\"cluster_label\"].astype(str)\n",
    "#\n",
    "# px.set_mapbox_access_token(open(\".mapbox_token\").read())\n",
    "# fig = px.scatter_geo(houses_geom,\n",
    "#                      lat=houses_geom.geometry.y,\n",
    "#                      lon=houses_geom.geometry.x,\n",
    "#                      color=\"cluster_label\", # which column to use to set the color of markers\n",
    "#                      projection=\"natural earth\",\n",
    "#                      size_max=0.2)\n",
    "# fig.update_geos(fitbounds=\"locations\")\n",
    "# fig.update_layout(height=1000, margin={\"r\":0,\"t\":0,\"l\":0,\"b\":0})\n",
    "# fig.show()\n",
    "#\n",
    "#\n"
   ]
  },
  {
   "cell_type": "code",
   "execution_count": 109,
   "metadata": {},
   "outputs": [],
   "source": [
    "# import plotly.express as px\n",
    "# px.set_mapbox_access_token(open(\".mapbox_token\").read())\n",
    "# df = px.data.carshare()\n",
    "# fig = px.scatter_mapbox(df, lat=\"centroid_lat\", lon=\"centroid_lon\",     color=\"peak_hour\", size=\"car_hours\",\n",
    "#                         color_continuous_scale=px.colors.cyclical.IceFire, size_max=15, zoom=10)\n",
    "# fig.show()"
   ]
  },
  {
   "cell_type": "code",
   "execution_count": 110,
   "metadata": {},
   "outputs": [],
   "source": [
    "import hdbscan\n",
    "import re\n"
   ]
  },
  {
   "cell_type": "code",
   "execution_count": 110,
   "metadata": {},
   "outputs": [],
   "source": []
  },
  {
   "cell_type": "code",
   "execution_count": 111,
   "metadata": {},
   "outputs": [],
   "source": [
    "# model = hdbscan.HDBSCAN(min_cluster_size=5, min_samples=2,\n",
    "#                         cluster_selection_epsilon=0.01)\n",
    "# #min_cluster_size\n",
    "# #min_samples\n",
    "# #cluster_slection_epsilon\n",
    "#\n",
    "#\n",
    "# class_predictions = model.fit_predict(cut_houses[cols])\n",
    "# cut_houses['CLUSTER_HDBSCAN'] = class_predictions"
   ]
  },
  {
   "cell_type": "code",
   "execution_count": 112,
   "metadata": {},
   "outputs": [
    {
     "ename": "AttributeError",
     "evalue": "'DataFrame' object has no attribute 'to'",
     "output_type": "error",
     "traceback": [
      "\u001b[0;31m---------------------------------------------------------------------------\u001b[0m",
      "\u001b[0;31mAttributeError\u001b[0m                            Traceback (most recent call last)",
      "\u001b[0;32m/var/folders/xq/qzhlj_357vs3kfkjsn1vg4rm0000gn/T/ipykernel_28428/2178580825.py\u001b[0m in \u001b[0;36m<module>\u001b[0;34m\u001b[0m\n\u001b[0;32m----> 1\u001b[0;31m \u001b[0mcut_houses\u001b[0m\u001b[0;34m.\u001b[0m\u001b[0mto\u001b[0m\u001b[0;34m\u001b[0m\u001b[0;34m\u001b[0m\u001b[0m\n\u001b[0m",
      "\u001b[0;32m~/opt/anaconda3/lib/python3.9/site-packages/pandas/core/generic.py\u001b[0m in \u001b[0;36m__getattr__\u001b[0;34m(self, name)\u001b[0m\n\u001b[1;32m   5900\u001b[0m         ):\n\u001b[1;32m   5901\u001b[0m             \u001b[0;32mreturn\u001b[0m \u001b[0mself\u001b[0m\u001b[0;34m[\u001b[0m\u001b[0mname\u001b[0m\u001b[0;34m]\u001b[0m\u001b[0;34m\u001b[0m\u001b[0;34m\u001b[0m\u001b[0m\n\u001b[0;32m-> 5902\u001b[0;31m         \u001b[0;32mreturn\u001b[0m \u001b[0mobject\u001b[0m\u001b[0;34m.\u001b[0m\u001b[0m__getattribute__\u001b[0m\u001b[0;34m(\u001b[0m\u001b[0mself\u001b[0m\u001b[0;34m,\u001b[0m \u001b[0mname\u001b[0m\u001b[0;34m)\u001b[0m\u001b[0;34m\u001b[0m\u001b[0;34m\u001b[0m\u001b[0m\n\u001b[0m\u001b[1;32m   5903\u001b[0m \u001b[0;34m\u001b[0m\u001b[0m\n\u001b[1;32m   5904\u001b[0m     \u001b[0;32mdef\u001b[0m \u001b[0m__setattr__\u001b[0m\u001b[0;34m(\u001b[0m\u001b[0mself\u001b[0m\u001b[0;34m,\u001b[0m \u001b[0mname\u001b[0m\u001b[0;34m:\u001b[0m \u001b[0mstr\u001b[0m\u001b[0;34m,\u001b[0m \u001b[0mvalue\u001b[0m\u001b[0;34m)\u001b[0m \u001b[0;34m->\u001b[0m \u001b[0;32mNone\u001b[0m\u001b[0;34m:\u001b[0m\u001b[0;34m\u001b[0m\u001b[0;34m\u001b[0m\u001b[0m\n",
      "\u001b[0;31mAttributeError\u001b[0m: 'DataFrame' object has no attribute 'to'"
     ]
    }
   ],
   "source": [
    "cut_houses.to"
   ]
  },
  {
   "cell_type": "code",
   "execution_count": null,
   "metadata": {},
   "outputs": [],
   "source": [
    "# import plotly.express as px\n",
    "# houses_geom[\"CLUSTER_HDBSCAN\"] = houses_geom[\"CLUSTER_HDBSCAN\"].astype(str)\n",
    "#\n",
    "# fig = px.scatter_geo(houses_geom,\n",
    "#                      lat=houses_geom.geometry.y,\n",
    "#                      lon=houses_geom.geometry.x,\n",
    "#                      color=\"cluster_label\", # which column to use to set the color of markers\n",
    "#                      projection=\"natural earth\")\n",
    "# fig.update_geos(fitbounds=\"locations\")\n",
    "# fig.update_layout(height=8000, margin={\"r\":0,\"t\":0,\"l\":0,\"b\":0})\n",
    "# fig.show()\n"
   ]
  },
  {
   "cell_type": "code",
   "execution_count": 113,
   "metadata": {},
   "outputs": [
    {
     "data": {
      "application/vnd.plotly.v1+json": {
       "config": {
        "plotlyServerURL": "https://plot.ly"
       },
       "data": [
        {
         "hovertemplate": "lat=%{lat}<br>lon=%{lon}<extra></extra>",
         "lat": [
          -20.25866
         ],
         "legendgroup": "",
         "lon": [
          148.90635
         ],
         "marker": {
          "color": "#636efa"
         },
         "mode": "markers",
         "name": "",
         "showlegend": false,
         "subplot": "mapbox",
         "type": "scattermapbox"
        }
       ],
       "layout": {
        "legend": {
         "tracegroupgap": 0
        },
        "mapbox": {
         "accesstoken": "pk.eyJ1IjoibXlyYW15c3RpbiIsImEiOiJja2Q2MTRwNHoyNW9lMnJvN2IzNG9wenU0In0.PMCJCoACS5W4oD_gcJo-VA",
         "center": {
          "lat": -20.25866,
          "lon": 148.90635
         },
         "domain": {
          "x": [
           0,
           1
          ],
          "y": [
           0,
           1
          ]
         },
         "layers": [
          {
           "below": "traces",
           "color": "purple",
           "line": {
            "width": 1.5
           },
           "source": {
            "bbox": [
             148.9058505179724,
             -20.25925369113863,
             148.9069546902887,
             -20.257912796994663
            ],
            "features": [
             {
              "bbox": [
               148.9058505179724,
               -20.25925369113863,
               148.9069546902887,
               -20.257912796994663
              ],
              "geometry": {
               "coordinates": [
                [
                 [
                  148.90694393116658,
                  -20.259096202918855
                 ],
                 [
                  148.90692143286026,
                  -20.259141198606248
                 ],
                 [
                  148.906754946292,
                  -20.25925369113863
                 ],
                 [
                  148.90668745227148,
                  -20.25925369113863
                 ],
                 [
                  148.90665595464267,
                  -20.259244690660317
                 ],
                 [
                  148.90661995735258,
                  -20.259235691867
                 ],
                 [
                  148.9065704610788,
                  -20.25923119162736
                 ],
                 [
                  148.90651646604195,
                  -20.259222192833235
                 ],
                 [
                  148.9063023418142,
                  -20.259159602404967
                 ],
                 [
                  148.90622398895852,
                  -20.259136699206643
                 ],
                 [
                  148.90619699099096,
                  -20.259132199806906
                 ],
                 [
                  148.90615649403966,
                  -20.259123201007046
                 ],
                 [
                  148.90612499730918,
                  -20.2591187007642
                 ],
                 [
                  148.90598526077346,
                  -20.259177555334624
                 ],
                 [
                  148.9059360124346,
                  -20.259145698848446
                 ],
                 [
                  148.90590001514457,
                  -20.25911420220666
                 ],
                 [
                  148.9058820156012,
                  -20.259078205314452
                 ],
                 [
                  148.90587301717702,
                  -20.259037707325927
                 ],
                 [
                  148.9058640178545,
                  -20.25899721101232
                 ],
                 [
                  148.90585951819324,
                  -20.258961213250245
                 ],
                 [
                  148.9058505188707,
                  -20.258925217165245
                 ],
                 [
                  148.9058505179724,
                  -20.25888471997957
                 ],
                 [
                  148.9058505188707,
                  -20.258844222783306
                 ],
                 [
                  148.90585441755903,
                  -20.25880628498949
                 ],
                 [
                  148.90585951819324,
                  -20.25878122768551
                 ],
                 [
                  148.90585951819324,
                  -20.2587362318938
                 ],
                 [
                  148.9058505179724,
                  -20.25868223642083
                 ],
                 [
                  148.90585951819324,
                  -20.25865523825597
                 ],
                 [
                  148.9058505188707,
                  -20.25861924125733
                 ],
                 [
                  148.9058505179724,
                  -20.258592243081473
                 ],
                 [
                  148.9058505188707,
                  -20.25855174580892
                 ],
                 [
                  148.90586401695614,
                  -20.25850674995067
                 ],
                 [
                  148.9058685166174,
                  -20.258470752917578
                 ],
                 [
                  148.9058685184141,
                  -20.258434755876166
                 ],
                 [
                  148.90587301717702,
                  -20.25838076029835
                 ],
                 [
                  148.90588651616082,
                  -20.25832676470177
                 ],
                 [
                  148.90589101492372,
                  -20.25828626820272
                 ],
                 [
                  148.90590001424627,
                  -20.25825476970104
                 ],
                 [
                  148.90590451480583,
                  -20.258218772609524
                 ],
                 [
                  148.90592251255254,
                  -20.25818277635242
                 ],
                 [
                  148.90592251255254,
                  -20.258146779244225
                 ],
                 [
                  148.90599858009418,
                  -20.258045355404413
                 ],
                 [
                  148.9060575032886,
                  -20.257966792735232
                 ],
                 [
                  148.9061069977658,
                  -20.257926296984994
                 ],
                 [
                  148.90616549426045,
                  -20.257912796994663
                 ],
                 [
                  148.90620599031348,
                  -20.25792179670741
                 ],
                 [
                  148.90623298828103,
                  -20.257935295854242
                 ],
                 [
                  148.90627348523233,
                  -20.25794879499985
                 ],
                 [
                  148.9062959826403,
                  -20.25796679273522
                 ],
                 [
                  148.9064624701069,
                  -20.258097282996108
                 ],
                 [
                  148.90649396773566,
                  -20.258119780986227
                 ],
                 [
                  148.90651646514365,
                  -20.25815127867249
                 ],
                 [
                  148.90654796277246,
                  -20.258191775206793
                 ],
                 [
                  148.90657046197708,
                  -20.258218772609524
                 ],
                 [
                  148.90659295938508,
                  -20.258259269968963
                 ],
                 [
                  148.90662445701383,
                  -20.258304265898925
                 ],
                 [
                  148.90664695532016,
                  -20.258349262658626
                 ],
                 [
                  148.90675044663075,
                  -20.258515749629034
                 ],
                 [
                  148.90679094268376,
                  -20.258542746975422
                 ],
                 [
                  148.90683143963514,
                  -20.258556246068217
                 ],
                 [
                  148.9068719365864,
                  -20.2585607463274
                 ],
                 [
                  148.906898934554,
                  -20.258574243733147
                 ],
                 [
                  148.90694393206485,
                  -20.258601242754846
                 ],
                 [
                  148.9069546902887,
                  -20.25865413426049
                 ],
                 [
                  148.90694843082784,
                  -20.258713733993034
                 ],
                 [
                  148.90693493184406,
                  -20.258740732147746
                 ],
                 [
                  148.90692593341987,
                  -20.258961214092974
                 ],
                 [
                  148.90694393116658,
                  -20.259010710065613
                 ],
                 [
                  148.90694843082784,
                  -20.259064706267022
                 ],
                 [
                  148.90694393116658,
                  -20.259096202918855
                 ]
                ]
               ],
               "type": "Polygon"
              },
              "id": "0",
              "properties": {},
              "type": "Feature"
             }
            ],
            "type": "FeatureCollection"
           },
           "type": "line"
          }
         ],
         "style": "open-street-map",
         "zoom": 16
        },
        "margin": {
         "b": 0,
         "l": 0,
         "r": 0,
         "t": 0
        },
        "template": {
         "data": {
          "bar": [
           {
            "error_x": {
             "color": "#2a3f5f"
            },
            "error_y": {
             "color": "#2a3f5f"
            },
            "marker": {
             "line": {
              "color": "#E5ECF6",
              "width": 0.5
             },
             "pattern": {
              "fillmode": "overlay",
              "size": 10,
              "solidity": 0.2
             }
            },
            "type": "bar"
           }
          ],
          "barpolar": [
           {
            "marker": {
             "line": {
              "color": "#E5ECF6",
              "width": 0.5
             },
             "pattern": {
              "fillmode": "overlay",
              "size": 10,
              "solidity": 0.2
             }
            },
            "type": "barpolar"
           }
          ],
          "carpet": [
           {
            "aaxis": {
             "endlinecolor": "#2a3f5f",
             "gridcolor": "white",
             "linecolor": "white",
             "minorgridcolor": "white",
             "startlinecolor": "#2a3f5f"
            },
            "baxis": {
             "endlinecolor": "#2a3f5f",
             "gridcolor": "white",
             "linecolor": "white",
             "minorgridcolor": "white",
             "startlinecolor": "#2a3f5f"
            },
            "type": "carpet"
           }
          ],
          "choropleth": [
           {
            "colorbar": {
             "outlinewidth": 0,
             "ticks": ""
            },
            "type": "choropleth"
           }
          ],
          "contour": [
           {
            "colorbar": {
             "outlinewidth": 0,
             "ticks": ""
            },
            "colorscale": [
             [
              0,
              "#0d0887"
             ],
             [
              0.1111111111111111,
              "#46039f"
             ],
             [
              0.2222222222222222,
              "#7201a8"
             ],
             [
              0.3333333333333333,
              "#9c179e"
             ],
             [
              0.4444444444444444,
              "#bd3786"
             ],
             [
              0.5555555555555556,
              "#d8576b"
             ],
             [
              0.6666666666666666,
              "#ed7953"
             ],
             [
              0.7777777777777778,
              "#fb9f3a"
             ],
             [
              0.8888888888888888,
              "#fdca26"
             ],
             [
              1,
              "#f0f921"
             ]
            ],
            "type": "contour"
           }
          ],
          "contourcarpet": [
           {
            "colorbar": {
             "outlinewidth": 0,
             "ticks": ""
            },
            "type": "contourcarpet"
           }
          ],
          "heatmap": [
           {
            "colorbar": {
             "outlinewidth": 0,
             "ticks": ""
            },
            "colorscale": [
             [
              0,
              "#0d0887"
             ],
             [
              0.1111111111111111,
              "#46039f"
             ],
             [
              0.2222222222222222,
              "#7201a8"
             ],
             [
              0.3333333333333333,
              "#9c179e"
             ],
             [
              0.4444444444444444,
              "#bd3786"
             ],
             [
              0.5555555555555556,
              "#d8576b"
             ],
             [
              0.6666666666666666,
              "#ed7953"
             ],
             [
              0.7777777777777778,
              "#fb9f3a"
             ],
             [
              0.8888888888888888,
              "#fdca26"
             ],
             [
              1,
              "#f0f921"
             ]
            ],
            "type": "heatmap"
           }
          ],
          "heatmapgl": [
           {
            "colorbar": {
             "outlinewidth": 0,
             "ticks": ""
            },
            "colorscale": [
             [
              0,
              "#0d0887"
             ],
             [
              0.1111111111111111,
              "#46039f"
             ],
             [
              0.2222222222222222,
              "#7201a8"
             ],
             [
              0.3333333333333333,
              "#9c179e"
             ],
             [
              0.4444444444444444,
              "#bd3786"
             ],
             [
              0.5555555555555556,
              "#d8576b"
             ],
             [
              0.6666666666666666,
              "#ed7953"
             ],
             [
              0.7777777777777778,
              "#fb9f3a"
             ],
             [
              0.8888888888888888,
              "#fdca26"
             ],
             [
              1,
              "#f0f921"
             ]
            ],
            "type": "heatmapgl"
           }
          ],
          "histogram": [
           {
            "marker": {
             "pattern": {
              "fillmode": "overlay",
              "size": 10,
              "solidity": 0.2
             }
            },
            "type": "histogram"
           }
          ],
          "histogram2d": [
           {
            "colorbar": {
             "outlinewidth": 0,
             "ticks": ""
            },
            "colorscale": [
             [
              0,
              "#0d0887"
             ],
             [
              0.1111111111111111,
              "#46039f"
             ],
             [
              0.2222222222222222,
              "#7201a8"
             ],
             [
              0.3333333333333333,
              "#9c179e"
             ],
             [
              0.4444444444444444,
              "#bd3786"
             ],
             [
              0.5555555555555556,
              "#d8576b"
             ],
             [
              0.6666666666666666,
              "#ed7953"
             ],
             [
              0.7777777777777778,
              "#fb9f3a"
             ],
             [
              0.8888888888888888,
              "#fdca26"
             ],
             [
              1,
              "#f0f921"
             ]
            ],
            "type": "histogram2d"
           }
          ],
          "histogram2dcontour": [
           {
            "colorbar": {
             "outlinewidth": 0,
             "ticks": ""
            },
            "colorscale": [
             [
              0,
              "#0d0887"
             ],
             [
              0.1111111111111111,
              "#46039f"
             ],
             [
              0.2222222222222222,
              "#7201a8"
             ],
             [
              0.3333333333333333,
              "#9c179e"
             ],
             [
              0.4444444444444444,
              "#bd3786"
             ],
             [
              0.5555555555555556,
              "#d8576b"
             ],
             [
              0.6666666666666666,
              "#ed7953"
             ],
             [
              0.7777777777777778,
              "#fb9f3a"
             ],
             [
              0.8888888888888888,
              "#fdca26"
             ],
             [
              1,
              "#f0f921"
             ]
            ],
            "type": "histogram2dcontour"
           }
          ],
          "mesh3d": [
           {
            "colorbar": {
             "outlinewidth": 0,
             "ticks": ""
            },
            "type": "mesh3d"
           }
          ],
          "parcoords": [
           {
            "line": {
             "colorbar": {
              "outlinewidth": 0,
              "ticks": ""
             }
            },
            "type": "parcoords"
           }
          ],
          "pie": [
           {
            "automargin": true,
            "type": "pie"
           }
          ],
          "scatter": [
           {
            "fillpattern": {
             "fillmode": "overlay",
             "size": 10,
             "solidity": 0.2
            },
            "type": "scatter"
           }
          ],
          "scatter3d": [
           {
            "line": {
             "colorbar": {
              "outlinewidth": 0,
              "ticks": ""
             }
            },
            "marker": {
             "colorbar": {
              "outlinewidth": 0,
              "ticks": ""
             }
            },
            "type": "scatter3d"
           }
          ],
          "scattercarpet": [
           {
            "marker": {
             "colorbar": {
              "outlinewidth": 0,
              "ticks": ""
             }
            },
            "type": "scattercarpet"
           }
          ],
          "scattergeo": [
           {
            "marker": {
             "colorbar": {
              "outlinewidth": 0,
              "ticks": ""
             }
            },
            "type": "scattergeo"
           }
          ],
          "scattergl": [
           {
            "marker": {
             "colorbar": {
              "outlinewidth": 0,
              "ticks": ""
             }
            },
            "type": "scattergl"
           }
          ],
          "scattermapbox": [
           {
            "marker": {
             "colorbar": {
              "outlinewidth": 0,
              "ticks": ""
             }
            },
            "type": "scattermapbox"
           }
          ],
          "scatterpolar": [
           {
            "marker": {
             "colorbar": {
              "outlinewidth": 0,
              "ticks": ""
             }
            },
            "type": "scatterpolar"
           }
          ],
          "scatterpolargl": [
           {
            "marker": {
             "colorbar": {
              "outlinewidth": 0,
              "ticks": ""
             }
            },
            "type": "scatterpolargl"
           }
          ],
          "scatterternary": [
           {
            "marker": {
             "colorbar": {
              "outlinewidth": 0,
              "ticks": ""
             }
            },
            "type": "scatterternary"
           }
          ],
          "surface": [
           {
            "colorbar": {
             "outlinewidth": 0,
             "ticks": ""
            },
            "colorscale": [
             [
              0,
              "#0d0887"
             ],
             [
              0.1111111111111111,
              "#46039f"
             ],
             [
              0.2222222222222222,
              "#7201a8"
             ],
             [
              0.3333333333333333,
              "#9c179e"
             ],
             [
              0.4444444444444444,
              "#bd3786"
             ],
             [
              0.5555555555555556,
              "#d8576b"
             ],
             [
              0.6666666666666666,
              "#ed7953"
             ],
             [
              0.7777777777777778,
              "#fb9f3a"
             ],
             [
              0.8888888888888888,
              "#fdca26"
             ],
             [
              1,
              "#f0f921"
             ]
            ],
            "type": "surface"
           }
          ],
          "table": [
           {
            "cells": {
             "fill": {
              "color": "#EBF0F8"
             },
             "line": {
              "color": "white"
             }
            },
            "header": {
             "fill": {
              "color": "#C8D4E3"
             },
             "line": {
              "color": "white"
             }
            },
            "type": "table"
           }
          ]
         },
         "layout": {
          "annotationdefaults": {
           "arrowcolor": "#2a3f5f",
           "arrowhead": 0,
           "arrowwidth": 1
          },
          "autotypenumbers": "strict",
          "coloraxis": {
           "colorbar": {
            "outlinewidth": 0,
            "ticks": ""
           }
          },
          "colorscale": {
           "diverging": [
            [
             0,
             "#8e0152"
            ],
            [
             0.1,
             "#c51b7d"
            ],
            [
             0.2,
             "#de77ae"
            ],
            [
             0.3,
             "#f1b6da"
            ],
            [
             0.4,
             "#fde0ef"
            ],
            [
             0.5,
             "#f7f7f7"
            ],
            [
             0.6,
             "#e6f5d0"
            ],
            [
             0.7,
             "#b8e186"
            ],
            [
             0.8,
             "#7fbc41"
            ],
            [
             0.9,
             "#4d9221"
            ],
            [
             1,
             "#276419"
            ]
           ],
           "sequential": [
            [
             0,
             "#0d0887"
            ],
            [
             0.1111111111111111,
             "#46039f"
            ],
            [
             0.2222222222222222,
             "#7201a8"
            ],
            [
             0.3333333333333333,
             "#9c179e"
            ],
            [
             0.4444444444444444,
             "#bd3786"
            ],
            [
             0.5555555555555556,
             "#d8576b"
            ],
            [
             0.6666666666666666,
             "#ed7953"
            ],
            [
             0.7777777777777778,
             "#fb9f3a"
            ],
            [
             0.8888888888888888,
             "#fdca26"
            ],
            [
             1,
             "#f0f921"
            ]
           ],
           "sequentialminus": [
            [
             0,
             "#0d0887"
            ],
            [
             0.1111111111111111,
             "#46039f"
            ],
            [
             0.2222222222222222,
             "#7201a8"
            ],
            [
             0.3333333333333333,
             "#9c179e"
            ],
            [
             0.4444444444444444,
             "#bd3786"
            ],
            [
             0.5555555555555556,
             "#d8576b"
            ],
            [
             0.6666666666666666,
             "#ed7953"
            ],
            [
             0.7777777777777778,
             "#fb9f3a"
            ],
            [
             0.8888888888888888,
             "#fdca26"
            ],
            [
             1,
             "#f0f921"
            ]
           ]
          },
          "colorway": [
           "#636efa",
           "#EF553B",
           "#00cc96",
           "#ab63fa",
           "#FFA15A",
           "#19d3f3",
           "#FF6692",
           "#B6E880",
           "#FF97FF",
           "#FECB52"
          ],
          "font": {
           "color": "#2a3f5f"
          },
          "geo": {
           "bgcolor": "white",
           "lakecolor": "white",
           "landcolor": "#E5ECF6",
           "showlakes": true,
           "showland": true,
           "subunitcolor": "white"
          },
          "hoverlabel": {
           "align": "left"
          },
          "hovermode": "closest",
          "mapbox": {
           "style": "light"
          },
          "paper_bgcolor": "white",
          "plot_bgcolor": "#E5ECF6",
          "polar": {
           "angularaxis": {
            "gridcolor": "white",
            "linecolor": "white",
            "ticks": ""
           },
           "bgcolor": "#E5ECF6",
           "radialaxis": {
            "gridcolor": "white",
            "linecolor": "white",
            "ticks": ""
           }
          },
          "scene": {
           "xaxis": {
            "backgroundcolor": "#E5ECF6",
            "gridcolor": "white",
            "gridwidth": 2,
            "linecolor": "white",
            "showbackground": true,
            "ticks": "",
            "zerolinecolor": "white"
           },
           "yaxis": {
            "backgroundcolor": "#E5ECF6",
            "gridcolor": "white",
            "gridwidth": 2,
            "linecolor": "white",
            "showbackground": true,
            "ticks": "",
            "zerolinecolor": "white"
           },
           "zaxis": {
            "backgroundcolor": "#E5ECF6",
            "gridcolor": "white",
            "gridwidth": 2,
            "linecolor": "white",
            "showbackground": true,
            "ticks": "",
            "zerolinecolor": "white"
           }
          },
          "shapedefaults": {
           "line": {
            "color": "#2a3f5f"
           }
          },
          "ternary": {
           "aaxis": {
            "gridcolor": "white",
            "linecolor": "white",
            "ticks": ""
           },
           "baxis": {
            "gridcolor": "white",
            "linecolor": "white",
            "ticks": ""
           },
           "bgcolor": "#E5ECF6",
           "caxis": {
            "gridcolor": "white",
            "linecolor": "white",
            "ticks": ""
           }
          },
          "title": {
           "x": 0.05
          },
          "xaxis": {
           "automargin": true,
           "gridcolor": "white",
           "linecolor": "white",
           "ticks": "",
           "title": {
            "standoff": 15
           },
           "zerolinecolor": "white",
           "zerolinewidth": 2
          },
          "yaxis": {
           "automargin": true,
           "gridcolor": "white",
           "linecolor": "white",
           "ticks": "",
           "title": {
            "standoff": 15
           },
           "zerolinecolor": "white",
           "zerolinewidth": 2
          }
         }
        }
       }
      },
      "text/html": [
       "<div>                            <div id=\"84a617cf-4beb-4bae-99e0-9ef6c8e4a2fe\" class=\"plotly-graph-div\" style=\"height:525px; width:100%;\"></div>            <script type=\"text/javascript\">                require([\"plotly\"], function(Plotly) {                    window.PLOTLYENV=window.PLOTLYENV || {};                                    if (document.getElementById(\"84a617cf-4beb-4bae-99e0-9ef6c8e4a2fe\")) {                    Plotly.newPlot(                        \"84a617cf-4beb-4bae-99e0-9ef6c8e4a2fe\",                        [{\"hovertemplate\":\"lat=%{lat}<br>lon=%{lon}<extra></extra>\",\"lat\":[-20.25866],\"legendgroup\":\"\",\"lon\":[148.90635],\"marker\":{\"color\":\"#636efa\"},\"mode\":\"markers\",\"name\":\"\",\"showlegend\":false,\"subplot\":\"mapbox\",\"type\":\"scattermapbox\"}],                        {\"template\":{\"data\":{\"histogram2dcontour\":[{\"type\":\"histogram2dcontour\",\"colorbar\":{\"outlinewidth\":0,\"ticks\":\"\"},\"colorscale\":[[0.0,\"#0d0887\"],[0.1111111111111111,\"#46039f\"],[0.2222222222222222,\"#7201a8\"],[0.3333333333333333,\"#9c179e\"],[0.4444444444444444,\"#bd3786\"],[0.5555555555555556,\"#d8576b\"],[0.6666666666666666,\"#ed7953\"],[0.7777777777777778,\"#fb9f3a\"],[0.8888888888888888,\"#fdca26\"],[1.0,\"#f0f921\"]]}],\"choropleth\":[{\"type\":\"choropleth\",\"colorbar\":{\"outlinewidth\":0,\"ticks\":\"\"}}],\"histogram2d\":[{\"type\":\"histogram2d\",\"colorbar\":{\"outlinewidth\":0,\"ticks\":\"\"},\"colorscale\":[[0.0,\"#0d0887\"],[0.1111111111111111,\"#46039f\"],[0.2222222222222222,\"#7201a8\"],[0.3333333333333333,\"#9c179e\"],[0.4444444444444444,\"#bd3786\"],[0.5555555555555556,\"#d8576b\"],[0.6666666666666666,\"#ed7953\"],[0.7777777777777778,\"#fb9f3a\"],[0.8888888888888888,\"#fdca26\"],[1.0,\"#f0f921\"]]}],\"heatmap\":[{\"type\":\"heatmap\",\"colorbar\":{\"outlinewidth\":0,\"ticks\":\"\"},\"colorscale\":[[0.0,\"#0d0887\"],[0.1111111111111111,\"#46039f\"],[0.2222222222222222,\"#7201a8\"],[0.3333333333333333,\"#9c179e\"],[0.4444444444444444,\"#bd3786\"],[0.5555555555555556,\"#d8576b\"],[0.6666666666666666,\"#ed7953\"],[0.7777777777777778,\"#fb9f3a\"],[0.8888888888888888,\"#fdca26\"],[1.0,\"#f0f921\"]]}],\"heatmapgl\":[{\"type\":\"heatmapgl\",\"colorbar\":{\"outlinewidth\":0,\"ticks\":\"\"},\"colorscale\":[[0.0,\"#0d0887\"],[0.1111111111111111,\"#46039f\"],[0.2222222222222222,\"#7201a8\"],[0.3333333333333333,\"#9c179e\"],[0.4444444444444444,\"#bd3786\"],[0.5555555555555556,\"#d8576b\"],[0.6666666666666666,\"#ed7953\"],[0.7777777777777778,\"#fb9f3a\"],[0.8888888888888888,\"#fdca26\"],[1.0,\"#f0f921\"]]}],\"contourcarpet\":[{\"type\":\"contourcarpet\",\"colorbar\":{\"outlinewidth\":0,\"ticks\":\"\"}}],\"contour\":[{\"type\":\"contour\",\"colorbar\":{\"outlinewidth\":0,\"ticks\":\"\"},\"colorscale\":[[0.0,\"#0d0887\"],[0.1111111111111111,\"#46039f\"],[0.2222222222222222,\"#7201a8\"],[0.3333333333333333,\"#9c179e\"],[0.4444444444444444,\"#bd3786\"],[0.5555555555555556,\"#d8576b\"],[0.6666666666666666,\"#ed7953\"],[0.7777777777777778,\"#fb9f3a\"],[0.8888888888888888,\"#fdca26\"],[1.0,\"#f0f921\"]]}],\"surface\":[{\"type\":\"surface\",\"colorbar\":{\"outlinewidth\":0,\"ticks\":\"\"},\"colorscale\":[[0.0,\"#0d0887\"],[0.1111111111111111,\"#46039f\"],[0.2222222222222222,\"#7201a8\"],[0.3333333333333333,\"#9c179e\"],[0.4444444444444444,\"#bd3786\"],[0.5555555555555556,\"#d8576b\"],[0.6666666666666666,\"#ed7953\"],[0.7777777777777778,\"#fb9f3a\"],[0.8888888888888888,\"#fdca26\"],[1.0,\"#f0f921\"]]}],\"mesh3d\":[{\"type\":\"mesh3d\",\"colorbar\":{\"outlinewidth\":0,\"ticks\":\"\"}}],\"scatter\":[{\"fillpattern\":{\"fillmode\":\"overlay\",\"size\":10,\"solidity\":0.2},\"type\":\"scatter\"}],\"parcoords\":[{\"type\":\"parcoords\",\"line\":{\"colorbar\":{\"outlinewidth\":0,\"ticks\":\"\"}}}],\"scatterpolargl\":[{\"type\":\"scatterpolargl\",\"marker\":{\"colorbar\":{\"outlinewidth\":0,\"ticks\":\"\"}}}],\"bar\":[{\"error_x\":{\"color\":\"#2a3f5f\"},\"error_y\":{\"color\":\"#2a3f5f\"},\"marker\":{\"line\":{\"color\":\"#E5ECF6\",\"width\":0.5},\"pattern\":{\"fillmode\":\"overlay\",\"size\":10,\"solidity\":0.2}},\"type\":\"bar\"}],\"scattergeo\":[{\"type\":\"scattergeo\",\"marker\":{\"colorbar\":{\"outlinewidth\":0,\"ticks\":\"\"}}}],\"scatterpolar\":[{\"type\":\"scatterpolar\",\"marker\":{\"colorbar\":{\"outlinewidth\":0,\"ticks\":\"\"}}}],\"histogram\":[{\"marker\":{\"pattern\":{\"fillmode\":\"overlay\",\"size\":10,\"solidity\":0.2}},\"type\":\"histogram\"}],\"scattergl\":[{\"type\":\"scattergl\",\"marker\":{\"colorbar\":{\"outlinewidth\":0,\"ticks\":\"\"}}}],\"scatter3d\":[{\"type\":\"scatter3d\",\"line\":{\"colorbar\":{\"outlinewidth\":0,\"ticks\":\"\"}},\"marker\":{\"colorbar\":{\"outlinewidth\":0,\"ticks\":\"\"}}}],\"scattermapbox\":[{\"type\":\"scattermapbox\",\"marker\":{\"colorbar\":{\"outlinewidth\":0,\"ticks\":\"\"}}}],\"scatterternary\":[{\"type\":\"scatterternary\",\"marker\":{\"colorbar\":{\"outlinewidth\":0,\"ticks\":\"\"}}}],\"scattercarpet\":[{\"type\":\"scattercarpet\",\"marker\":{\"colorbar\":{\"outlinewidth\":0,\"ticks\":\"\"}}}],\"carpet\":[{\"aaxis\":{\"endlinecolor\":\"#2a3f5f\",\"gridcolor\":\"white\",\"linecolor\":\"white\",\"minorgridcolor\":\"white\",\"startlinecolor\":\"#2a3f5f\"},\"baxis\":{\"endlinecolor\":\"#2a3f5f\",\"gridcolor\":\"white\",\"linecolor\":\"white\",\"minorgridcolor\":\"white\",\"startlinecolor\":\"#2a3f5f\"},\"type\":\"carpet\"}],\"table\":[{\"cells\":{\"fill\":{\"color\":\"#EBF0F8\"},\"line\":{\"color\":\"white\"}},\"header\":{\"fill\":{\"color\":\"#C8D4E3\"},\"line\":{\"color\":\"white\"}},\"type\":\"table\"}],\"barpolar\":[{\"marker\":{\"line\":{\"color\":\"#E5ECF6\",\"width\":0.5},\"pattern\":{\"fillmode\":\"overlay\",\"size\":10,\"solidity\":0.2}},\"type\":\"barpolar\"}],\"pie\":[{\"automargin\":true,\"type\":\"pie\"}]},\"layout\":{\"autotypenumbers\":\"strict\",\"colorway\":[\"#636efa\",\"#EF553B\",\"#00cc96\",\"#ab63fa\",\"#FFA15A\",\"#19d3f3\",\"#FF6692\",\"#B6E880\",\"#FF97FF\",\"#FECB52\"],\"font\":{\"color\":\"#2a3f5f\"},\"hovermode\":\"closest\",\"hoverlabel\":{\"align\":\"left\"},\"paper_bgcolor\":\"white\",\"plot_bgcolor\":\"#E5ECF6\",\"polar\":{\"bgcolor\":\"#E5ECF6\",\"angularaxis\":{\"gridcolor\":\"white\",\"linecolor\":\"white\",\"ticks\":\"\"},\"radialaxis\":{\"gridcolor\":\"white\",\"linecolor\":\"white\",\"ticks\":\"\"}},\"ternary\":{\"bgcolor\":\"#E5ECF6\",\"aaxis\":{\"gridcolor\":\"white\",\"linecolor\":\"white\",\"ticks\":\"\"},\"baxis\":{\"gridcolor\":\"white\",\"linecolor\":\"white\",\"ticks\":\"\"},\"caxis\":{\"gridcolor\":\"white\",\"linecolor\":\"white\",\"ticks\":\"\"}},\"coloraxis\":{\"colorbar\":{\"outlinewidth\":0,\"ticks\":\"\"}},\"colorscale\":{\"sequential\":[[0.0,\"#0d0887\"],[0.1111111111111111,\"#46039f\"],[0.2222222222222222,\"#7201a8\"],[0.3333333333333333,\"#9c179e\"],[0.4444444444444444,\"#bd3786\"],[0.5555555555555556,\"#d8576b\"],[0.6666666666666666,\"#ed7953\"],[0.7777777777777778,\"#fb9f3a\"],[0.8888888888888888,\"#fdca26\"],[1.0,\"#f0f921\"]],\"sequentialminus\":[[0.0,\"#0d0887\"],[0.1111111111111111,\"#46039f\"],[0.2222222222222222,\"#7201a8\"],[0.3333333333333333,\"#9c179e\"],[0.4444444444444444,\"#bd3786\"],[0.5555555555555556,\"#d8576b\"],[0.6666666666666666,\"#ed7953\"],[0.7777777777777778,\"#fb9f3a\"],[0.8888888888888888,\"#fdca26\"],[1.0,\"#f0f921\"]],\"diverging\":[[0,\"#8e0152\"],[0.1,\"#c51b7d\"],[0.2,\"#de77ae\"],[0.3,\"#f1b6da\"],[0.4,\"#fde0ef\"],[0.5,\"#f7f7f7\"],[0.6,\"#e6f5d0\"],[0.7,\"#b8e186\"],[0.8,\"#7fbc41\"],[0.9,\"#4d9221\"],[1,\"#276419\"]]},\"xaxis\":{\"gridcolor\":\"white\",\"linecolor\":\"white\",\"ticks\":\"\",\"title\":{\"standoff\":15},\"zerolinecolor\":\"white\",\"automargin\":true,\"zerolinewidth\":2},\"yaxis\":{\"gridcolor\":\"white\",\"linecolor\":\"white\",\"ticks\":\"\",\"title\":{\"standoff\":15},\"zerolinecolor\":\"white\",\"automargin\":true,\"zerolinewidth\":2},\"scene\":{\"xaxis\":{\"backgroundcolor\":\"#E5ECF6\",\"gridcolor\":\"white\",\"linecolor\":\"white\",\"showbackground\":true,\"ticks\":\"\",\"zerolinecolor\":\"white\",\"gridwidth\":2},\"yaxis\":{\"backgroundcolor\":\"#E5ECF6\",\"gridcolor\":\"white\",\"linecolor\":\"white\",\"showbackground\":true,\"ticks\":\"\",\"zerolinecolor\":\"white\",\"gridwidth\":2},\"zaxis\":{\"backgroundcolor\":\"#E5ECF6\",\"gridcolor\":\"white\",\"linecolor\":\"white\",\"showbackground\":true,\"ticks\":\"\",\"zerolinecolor\":\"white\",\"gridwidth\":2}},\"shapedefaults\":{\"line\":{\"color\":\"#2a3f5f\"}},\"annotationdefaults\":{\"arrowcolor\":\"#2a3f5f\",\"arrowhead\":0,\"arrowwidth\":1},\"geo\":{\"bgcolor\":\"white\",\"landcolor\":\"#E5ECF6\",\"subunitcolor\":\"white\",\"showland\":true,\"showlakes\":true,\"lakecolor\":\"white\"},\"title\":{\"x\":0.05},\"mapbox\":{\"style\":\"light\"}}},\"mapbox\":{\"domain\":{\"x\":[0.0,1.0],\"y\":[0.0,1.0]},\"center\":{\"lat\":-20.25866,\"lon\":148.90635},\"accesstoken\":\"pk.eyJ1IjoibXlyYW15c3RpbiIsImEiOiJja2Q2MTRwNHoyNW9lMnJvN2IzNG9wenU0In0.PMCJCoACS5W4oD_gcJo-VA\",\"zoom\":16,\"style\":\"open-street-map\",\"layers\":[{\"below\":\"traces\",\"color\":\"purple\",\"line\":{\"width\":1.5},\"source\":{\"type\":\"FeatureCollection\",\"features\":[{\"id\":\"0\",\"type\":\"Feature\",\"properties\":{},\"geometry\":{\"type\":\"Polygon\",\"coordinates\":[[[148.90694393116658,-20.259096202918855],[148.90692143286026,-20.259141198606248],[148.906754946292,-20.25925369113863],[148.90668745227148,-20.25925369113863],[148.90665595464267,-20.259244690660317],[148.90661995735258,-20.259235691867],[148.9065704610788,-20.25923119162736],[148.90651646604195,-20.259222192833235],[148.9063023418142,-20.259159602404967],[148.90622398895852,-20.259136699206643],[148.90619699099096,-20.259132199806906],[148.90615649403966,-20.259123201007046],[148.90612499730918,-20.2591187007642],[148.90598526077346,-20.259177555334624],[148.9059360124346,-20.259145698848446],[148.90590001514457,-20.25911420220666],[148.9058820156012,-20.259078205314452],[148.90587301717702,-20.259037707325927],[148.9058640178545,-20.25899721101232],[148.90585951819324,-20.258961213250245],[148.9058505188707,-20.258925217165245],[148.9058505179724,-20.25888471997957],[148.9058505188707,-20.258844222783306],[148.90585441755903,-20.25880628498949],[148.90585951819324,-20.25878122768551],[148.90585951819324,-20.2587362318938],[148.9058505179724,-20.25868223642083],[148.90585951819324,-20.25865523825597],[148.9058505188707,-20.25861924125733],[148.9058505179724,-20.258592243081473],[148.9058505188707,-20.25855174580892],[148.90586401695614,-20.25850674995067],[148.9058685166174,-20.258470752917578],[148.9058685184141,-20.258434755876166],[148.90587301717702,-20.25838076029835],[148.90588651616082,-20.25832676470177],[148.90589101492372,-20.25828626820272],[148.90590001424627,-20.25825476970104],[148.90590451480583,-20.258218772609524],[148.90592251255254,-20.25818277635242],[148.90592251255254,-20.258146779244225],[148.90599858009418,-20.258045355404413],[148.9060575032886,-20.257966792735232],[148.9061069977658,-20.257926296984994],[148.90616549426045,-20.257912796994663],[148.90620599031348,-20.25792179670741],[148.90623298828103,-20.257935295854242],[148.90627348523233,-20.25794879499985],[148.9062959826403,-20.25796679273522],[148.9064624701069,-20.258097282996108],[148.90649396773566,-20.258119780986227],[148.90651646514365,-20.25815127867249],[148.90654796277246,-20.258191775206793],[148.90657046197708,-20.258218772609524],[148.90659295938508,-20.258259269968963],[148.90662445701383,-20.258304265898925],[148.90664695532016,-20.258349262658626],[148.90675044663075,-20.258515749629034],[148.90679094268376,-20.258542746975422],[148.90683143963514,-20.258556246068217],[148.9068719365864,-20.2585607463274],[148.906898934554,-20.258574243733147],[148.90694393206485,-20.258601242754846],[148.9069546902887,-20.25865413426049],[148.90694843082784,-20.258713733993034],[148.90693493184406,-20.258740732147746],[148.90692593341987,-20.258961214092974],[148.90694393116658,-20.259010710065613],[148.90694843082784,-20.259064706267022],[148.90694393116658,-20.259096202918855]]]},\"bbox\":[148.9058505179724,-20.25925369113863,148.9069546902887,-20.257912796994663]}],\"bbox\":[148.9058505179724,-20.25925369113863,148.9069546902887,-20.257912796994663]},\"type\":\"line\"}]},\"legend\":{\"tracegroupgap\":0},\"margin\":{\"t\":0,\"l\":0,\"r\":0,\"b\":0}},                        {\"responsive\": true}                    ).then(function(){\n",
       "                            \n",
       "var gd = document.getElementById('84a617cf-4beb-4bae-99e0-9ef6c8e4a2fe');\n",
       "var x = new MutationObserver(function (mutations, observer) {{\n",
       "        var display = window.getComputedStyle(gd).display;\n",
       "        if (!display || display === 'none') {{\n",
       "            console.log([gd, 'removed!']);\n",
       "            Plotly.purge(gd);\n",
       "            observer.disconnect();\n",
       "        }}\n",
       "}});\n",
       "\n",
       "// Listen for the removal of the full notebook cells\n",
       "var notebookContainer = gd.closest('#notebook-container');\n",
       "if (notebookContainer) {{\n",
       "    x.observe(notebookContainer, {childList: true});\n",
       "}}\n",
       "\n",
       "// Listen for the clearing of the current output cell\n",
       "var outputEl = gd.closest('.output');\n",
       "if (outputEl) {{\n",
       "    x.observe(outputEl, {childList: true});\n",
       "}}\n",
       "\n",
       "                        })                };                });            </script>        </div>"
      ]
     },
     "metadata": {},
     "output_type": "display_data"
    }
   ],
   "source": [
    "import geopandas as gpd\n",
    "import plotly.express as px\n",
    "import json\n",
    "# geojson = {\n",
    "#     \"type\": \"FeatureCollection\",\n",
    "#     \"crs\": { \"type\": \"name\", \"properties\": { \"name\": \"urn:ogc:def:crs:EPSG::4283\" } },\n",
    "#     \"features\": [\n",
    "#         { \"type\": \"Feature\", \"properties\": { \"OBJECTID\": 2282, \"SORT_GBR_I\": \"20039\", \"LABEL_ID\": \"20-039\", \"SUB_NO\": 100, \"CODE\": \"20-039-100-106\", \"UNIQUE_ID\": \"20039100106\", \"FEATURE_C\": 106, \"GBR_NAME\": \"Hill Rock\", \"FEAT_NAME\": \"Rock\", \"QLD_NAME\": \"Hill Rock\", \"X_LABEL\": \"20-039S\", \"GBR_ID\": \"20039\", \"LOC_NAME_S\": \"Hill Rock (20-039)\", \"LOC_NAME_L\": \"Hill Rock (20-039)\", \"X_COORD\": 148.90635681000001, \"Y_COORD\": -20.25865936, \"Area_HA\": 0.0, \"GlobalID\": \"{6CFEA6F6-33A2-444A-835B-0003206EBA49}\", \"Shape_STAr\": 14139.6796875, \"Shape_STLe\": 471.01884611600002 }, \"geometry\": { \"type\": \"Polygon\", \"coordinates\": [ [ [ 148.90694393116658, -20.259096202918855 ], [ 148.906921432860258, -20.259141198606248 ], [ 148.906754946292011, -20.259253691138628 ], [ 148.906687452271484, -20.259253691138628 ], [ 148.906655954642673, -20.259244690660317 ], [ 148.906619957352575, -20.259235691867001 ], [ 148.906570461078786, -20.259231191627361 ], [ 148.90651646604195, -20.259222192833235 ], [ 148.906302341814211, -20.259159602404967 ], [ 148.906223988958516, -20.259136699206643 ], [ 148.906196990990964, -20.259132199806906 ], [ 148.906156494039664, -20.259123201007046 ], [ 148.906124997309178, -20.259118700764201 ], [ 148.905985260773463, -20.259177555334624 ], [ 148.905936012434609, -20.259145698848446 ], [ 148.905900015144567, -20.259114202206661 ], [ 148.905882015601208, -20.259078205314452 ], [ 148.905873017177015, -20.259037707325927 ], [ 148.905864017854498, -20.258997211012321 ], [ 148.905859518193239, -20.258961213250245 ], [ 148.905850518870693, -20.258925217165245 ], [ 148.905850517972397, -20.258884719979569 ], [ 148.905850518870693, -20.258844222783306 ], [ 148.905854417559027, -20.25880628498949 ], [ 148.905859518193239, -20.25878122768551 ], [ 148.905859518193239, -20.258736231893799 ], [ 148.905850517972397, -20.258682236420832 ], [ 148.905859518193239, -20.258655238255969 ], [ 148.905850518870693, -20.258619241257328 ], [ 148.905850517972397, -20.258592243081473 ], [ 148.905850518870693, -20.258551745808919 ], [ 148.905864016956144, -20.258506749950669 ], [ 148.905868516617403, -20.258470752917578 ], [ 148.90586851841411, -20.258434755876166 ], [ 148.905873017177015, -20.258380760298351 ], [ 148.90588651616082, -20.258326764701771 ], [ 148.905891014923725, -20.25828626820272 ], [ 148.905900014246271, -20.25825476970104 ], [ 148.905904514805826, -20.258218772609524 ], [ 148.905922512552536, -20.25818277635242 ], [ 148.905922512552536, -20.258146779244225 ], [ 148.905998580094177, -20.258045355404413 ], [ 148.906057503288594, -20.257966792735232 ], [ 148.906106997765789, -20.257926296984994 ], [ 148.906165494260449, -20.257912796994663 ], [ 148.906205990313481, -20.257921796707411 ], [ 148.906232988281033, -20.257935295854242 ], [ 148.906273485232333, -20.257948794999852 ], [ 148.906295982640302, -20.257966792735221 ], [ 148.906462470106902, -20.258097282996108 ], [ 148.906493967735656, -20.258119780986227 ], [ 148.906516465143653, -20.258151278672489 ], [ 148.906547962772464, -20.258191775206793 ], [ 148.906570461977083, -20.258218772609524 ], [ 148.90659295938508, -20.258259269968963 ], [ 148.906624457013834, -20.258304265898925 ], [ 148.906646955320156, -20.258349262658626 ], [ 148.906750446630753, -20.258515749629034 ], [ 148.906790942683756, -20.258542746975422 ], [ 148.906831439635141, -20.258556246068217 ], [ 148.906871936586413, -20.258560746327401 ], [ 148.906898934553993, -20.258574243733147 ], [ 148.906943932064848, -20.258601242754846 ], [ 148.9069546902887, -20.258654134260489 ], [ 148.906948430827839, -20.258713733993034 ], [ 148.906934931844063, -20.258740732147746 ], [ 148.90692593341987, -20.258961214092974 ], [ 148.90694393116658, -20.259010710065613 ], [ 148.906948430827839, -20.259064706267022 ], [ 148.90694393116658, -20.259096202918855 ] ] ] } }]\n",
    "# }\n",
    "#\n",
    "# gdf = gpd.GeoDataFrame.from_features(geojson)\n",
    "point = (148.90635, -20.25866)\n",
    "\n",
    "px.scatter_mapbox(lat=[point[1]], lon=[[0]]).update_layout(\n",
    "    mapbox={\n",
    "        \"style\": \"open-street-map\",\n",
    "        \"zoom\": 16,\n",
    "        \"layers\": [\n",
    "            {\n",
    "                \"source\": json.loads(gdf.geometry.to_json()),\n",
    "                \"below\": \"traces\",\n",
    "                \"type\": \"line\",\n",
    "                \"color\": \"purple\",\n",
    "                \"line\": {\"width\": 1.5},\n",
    "            }\n",
    "        ],\n",
    "    },\n",
    "    margin={\"l\": 0, \"r\": 0, \"t\": 0, \"b\": 0},\n",
    ")\n"
   ]
  },
  {
   "cell_type": "code",
   "execution_count": null,
   "metadata": {},
   "outputs": [],
   "source": []
  },
  {
   "cell_type": "code",
   "execution_count": null,
   "metadata": {},
   "outputs": [],
   "source": []
  }
 ],
 "metadata": {
  "kernelspec": {
   "display_name": "Python 3 (ipykernel)",
   "language": "python",
   "name": "python3"
  },
  "language_info": {
   "codemirror_mode": {
    "name": "ipython",
    "version": 3
   },
   "file_extension": ".py",
   "mimetype": "text/x-python",
   "name": "python",
   "nbconvert_exporter": "python",
   "pygments_lexer": "ipython3",
   "version": "3.11.2"
  }
 },
 "nbformat": 4,
 "nbformat_minor": 1
}
