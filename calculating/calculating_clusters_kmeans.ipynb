{
 "cells": [
  {
   "cell_type": "markdown",
   "metadata": {},
   "source": [
    "## Kmeans\n"
   ]
  },
  {
   "cell_type": "code",
   "execution_count": 3,
   "metadata": {},
   "outputs": [
    {
     "name": "stderr",
     "output_type": "stream",
     "text": [
      "/Users/dariaonikova/opt/anaconda3/lib/python3.9/site-packages/geopandas/_compat.py:123: UserWarning: The Shapely GEOS version (3.11.1-CAPI-1.17.1) is incompatible with the GEOS version PyGEOS was compiled with (3.10.4-CAPI-1.16.2). Conversions between both will be slow.\n",
      "  warnings.warn(\n",
      "/var/folders/xq/qzhlj_357vs3kfkjsn1vg4rm0000gn/T/ipykernel_57692/778130093.py:3: UserWarning: Shapely 2.0 is installed, but because PyGEOS is also installed, GeoPandas will still use PyGEOS by default for now. To force to use and test Shapely 2.0, you have to set the environment variable USE_PYGEOS=0. You can do this before starting the Python process, or in your code before importing geopandas:\n",
      "\n",
      "import os\n",
      "os.environ['USE_PYGEOS'] = '0'\n",
      "import geopandas\n",
      "\n",
      "In a future release, GeoPandas will switch to using Shapely by default. If you are using PyGEOS directly (calling PyGEOS functions on geometries from GeoPandas), this will then stop working and you are encouraged to migrate from PyGEOS to Shapely 2.0 (https://shapely.readthedocs.io/en/latest/migration_pygeos.html).\n",
      "  import geopandas as gpd\n"
     ]
    }
   ],
   "source": [
    "import pandas as pd\n",
    "import numpy as np\n",
    "import geopandas as gpd\n",
    "import warnings\n",
    "from shapely import wkt, Polygon, Point\n",
    "warnings.simplefilter(action='ignore', category=FutureWarning)"
   ]
  },
  {
   "cell_type": "code",
   "execution_count": 4,
   "metadata": {},
   "outputs": [
    {
     "data": {
      "text/plain": "   district_code       area_name  population  \\\n0             zo         Внуково       24687   \n1             zo       Можайский      137634   \n2            svo        Бибирево      158939   \n3             vo     Богородское      110049   \n4             uo        Братеево      108582   \n..           ...             ...         ...   \n87           tso  Красносельский       47865   \n88           tso       Мещанский       60044   \n89           tso     Пресненский      128784   \n90           tso       Таганский      123382   \n91           tso        Тверской       77091   \n\n                                             geometry       space  \\\n0   POLYGON ((37.2458 55.6019109, 37.2418516 55.59...   378945.00   \n1   POLYGON ((37.3307568 55.685325, 37.3294276 55....  3525138.10   \n2   POLYGON ((37.6440665 55.8976996, 37.6356092 55...  2572168.20   \n3   POLYGON ((37.6874473 55.8167675, 37.6878233 55...  2338132.30   \n4   POLYGON ((37.7295024 55.6408925, 37.7453811 55...  1844167.50   \n..                                                ...         ...   \n87  POLYGON ((37.684842 55.7808113, 37.684818 55.7...  1209627.35   \n88  POLYGON ((37.620909 55.7589912, 37.6215936 55....  1788118.70   \n89  POLYGON ((37.5812267 55.7745578, 37.5814805 55...  4685420.60   \n90  POLYGON ((37.6352868 55.7538551, 37.6352315 55...  3213656.90   \n91  POLYGON ((37.5893281 55.7924067, 37.5892442 55...  6002651.29   \n\n    living_space  \n0      169846.50  \n1     2951192.00  \n2     2430648.30  \n3     2171861.02  \n4     1758697.07  \n..           ...  \n87     855932.54  \n88    1274209.79  \n89    3314867.87  \n90    2499755.06  \n91    4248432.60  \n\n[92 rows x 6 columns]",
      "text/html": "<div>\n<style scoped>\n    .dataframe tbody tr th:only-of-type {\n        vertical-align: middle;\n    }\n\n    .dataframe tbody tr th {\n        vertical-align: top;\n    }\n\n    .dataframe thead th {\n        text-align: right;\n    }\n</style>\n<table border=\"1\" class=\"dataframe\">\n  <thead>\n    <tr style=\"text-align: right;\">\n      <th></th>\n      <th>district_code</th>\n      <th>area_name</th>\n      <th>population</th>\n      <th>geometry</th>\n      <th>space</th>\n      <th>living_space</th>\n    </tr>\n  </thead>\n  <tbody>\n    <tr>\n      <th>0</th>\n      <td>zo</td>\n      <td>Внуково</td>\n      <td>24687</td>\n      <td>POLYGON ((37.2458 55.6019109, 37.2418516 55.59...</td>\n      <td>378945.00</td>\n      <td>169846.50</td>\n    </tr>\n    <tr>\n      <th>1</th>\n      <td>zo</td>\n      <td>Можайский</td>\n      <td>137634</td>\n      <td>POLYGON ((37.3307568 55.685325, 37.3294276 55....</td>\n      <td>3525138.10</td>\n      <td>2951192.00</td>\n    </tr>\n    <tr>\n      <th>2</th>\n      <td>svo</td>\n      <td>Бибирево</td>\n      <td>158939</td>\n      <td>POLYGON ((37.6440665 55.8976996, 37.6356092 55...</td>\n      <td>2572168.20</td>\n      <td>2430648.30</td>\n    </tr>\n    <tr>\n      <th>3</th>\n      <td>vo</td>\n      <td>Богородское</td>\n      <td>110049</td>\n      <td>POLYGON ((37.6874473 55.8167675, 37.6878233 55...</td>\n      <td>2338132.30</td>\n      <td>2171861.02</td>\n    </tr>\n    <tr>\n      <th>4</th>\n      <td>uo</td>\n      <td>Братеево</td>\n      <td>108582</td>\n      <td>POLYGON ((37.7295024 55.6408925, 37.7453811 55...</td>\n      <td>1844167.50</td>\n      <td>1758697.07</td>\n    </tr>\n    <tr>\n      <th>...</th>\n      <td>...</td>\n      <td>...</td>\n      <td>...</td>\n      <td>...</td>\n      <td>...</td>\n      <td>...</td>\n    </tr>\n    <tr>\n      <th>87</th>\n      <td>tso</td>\n      <td>Красносельский</td>\n      <td>47865</td>\n      <td>POLYGON ((37.684842 55.7808113, 37.684818 55.7...</td>\n      <td>1209627.35</td>\n      <td>855932.54</td>\n    </tr>\n    <tr>\n      <th>88</th>\n      <td>tso</td>\n      <td>Мещанский</td>\n      <td>60044</td>\n      <td>POLYGON ((37.620909 55.7589912, 37.6215936 55....</td>\n      <td>1788118.70</td>\n      <td>1274209.79</td>\n    </tr>\n    <tr>\n      <th>89</th>\n      <td>tso</td>\n      <td>Пресненский</td>\n      <td>128784</td>\n      <td>POLYGON ((37.5812267 55.7745578, 37.5814805 55...</td>\n      <td>4685420.60</td>\n      <td>3314867.87</td>\n    </tr>\n    <tr>\n      <th>90</th>\n      <td>tso</td>\n      <td>Таганский</td>\n      <td>123382</td>\n      <td>POLYGON ((37.6352868 55.7538551, 37.6352315 55...</td>\n      <td>3213656.90</td>\n      <td>2499755.06</td>\n    </tr>\n    <tr>\n      <th>91</th>\n      <td>tso</td>\n      <td>Тверской</td>\n      <td>77091</td>\n      <td>POLYGON ((37.5893281 55.7924067, 37.5892442 55...</td>\n      <td>6002651.29</td>\n      <td>4248432.60</td>\n    </tr>\n  </tbody>\n</table>\n<p>92 rows × 6 columns</p>\n</div>"
     },
     "execution_count": 4,
     "metadata": {},
     "output_type": "execute_result"
    }
   ],
   "source": [
    "areas = pd.read_csv('areas-pop-geom-space.csv')\n",
    "areas = areas.drop(columns=['field_1'])\n",
    "areas['geometry'] = areas['geometry'].apply(wkt.loads)\n",
    "areas"
   ]
  },
  {
   "cell_type": "code",
   "execution_count": 5,
   "metadata": {},
   "outputs": [
    {
     "data": {
      "text/plain": "  district_code    area_name  population  \\\n0            zo      Внуково       24687   \n1            zo    Можайский      137634   \n2           svo     Бибирево      158939   \n3            vo  Богородское      110049   \n4            uo     Братеево      108582   \n\n                                            geometry      space  living_space  \n0  POLYGON ((37.24580 55.60191, 37.24185 55.59705...   378945.0     169846.50  \n1  POLYGON ((37.33076 55.68532, 37.32943 55.68579...  3525138.1    2951192.00  \n2  POLYGON ((37.64407 55.89770, 37.63561 55.89368...  2572168.2    2430648.30  \n3  POLYGON ((37.68745 55.81677, 37.68782 55.81691...  2338132.3    2171861.02  \n4  POLYGON ((37.72950 55.64089, 37.74538 55.63990...  1844167.5    1758697.07  ",
      "text/html": "<div>\n<style scoped>\n    .dataframe tbody tr th:only-of-type {\n        vertical-align: middle;\n    }\n\n    .dataframe tbody tr th {\n        vertical-align: top;\n    }\n\n    .dataframe thead th {\n        text-align: right;\n    }\n</style>\n<table border=\"1\" class=\"dataframe\">\n  <thead>\n    <tr style=\"text-align: right;\">\n      <th></th>\n      <th>district_code</th>\n      <th>area_name</th>\n      <th>population</th>\n      <th>geometry</th>\n      <th>space</th>\n      <th>living_space</th>\n    </tr>\n  </thead>\n  <tbody>\n    <tr>\n      <th>0</th>\n      <td>zo</td>\n      <td>Внуково</td>\n      <td>24687</td>\n      <td>POLYGON ((37.24580 55.60191, 37.24185 55.59705...</td>\n      <td>378945.0</td>\n      <td>169846.50</td>\n    </tr>\n    <tr>\n      <th>1</th>\n      <td>zo</td>\n      <td>Можайский</td>\n      <td>137634</td>\n      <td>POLYGON ((37.33076 55.68532, 37.32943 55.68579...</td>\n      <td>3525138.1</td>\n      <td>2951192.00</td>\n    </tr>\n    <tr>\n      <th>2</th>\n      <td>svo</td>\n      <td>Бибирево</td>\n      <td>158939</td>\n      <td>POLYGON ((37.64407 55.89770, 37.63561 55.89368...</td>\n      <td>2572168.2</td>\n      <td>2430648.30</td>\n    </tr>\n    <tr>\n      <th>3</th>\n      <td>vo</td>\n      <td>Богородское</td>\n      <td>110049</td>\n      <td>POLYGON ((37.68745 55.81677, 37.68782 55.81691...</td>\n      <td>2338132.3</td>\n      <td>2171861.02</td>\n    </tr>\n    <tr>\n      <th>4</th>\n      <td>uo</td>\n      <td>Братеево</td>\n      <td>108582</td>\n      <td>POLYGON ((37.72950 55.64089, 37.74538 55.63990...</td>\n      <td>1844167.5</td>\n      <td>1758697.07</td>\n    </tr>\n  </tbody>\n</table>\n</div>"
     },
     "execution_count": 5,
     "metadata": {},
     "output_type": "execute_result"
    }
   ],
   "source": [
    "areas_geom = gpd.GeoDataFrame(\n",
    "    areas, geometry=areas.geometry)\n",
    "areas_geom.head()"
   ]
  },
  {
   "cell_type": "code",
   "execution_count": 6,
   "metadata": {},
   "outputs": [],
   "source": [
    "head_dict = {\n",
    "    \"Адрес ОЖФ\": \"addr\",\n",
    "    \"Глобальный уникальный идентификатор дома по ФИАС\": \"fias_code\",\n",
    "    \"Способ управления\": \"lead_type\",\n",
    "    \"Наименование организации, осуществляющей управление домом\": \"lead_name\",\n",
    "    \"Тип дома\" : \"type\",\n",
    "    \"Состояние\": \"cond\",\n",
    "    \"Общая площадь дома\": \"space\",\n",
    "    \"Жилая площадь в доме\": \"living_space\",\n",
    "    \"Дом находится в собственности субъекта Российской Федерации и в полном объеме используется в качестве общежития\" : \"dorm_federal\",\n",
    "    \"Дом находится в муниципальной собственности и в полном объеме используется в качестве общежития\" : \"dorm_municipal\",\n",
    "    \"Тип общежития\" : \"dorm_type\",\n",
    "    \"Тип помещения (блока)\": \"room_type\",\n",
    "    \"Дата сноса объекта\" : \"demolition_date\",\n",
    "    \"geometry\" : \"geometry\",\n",
    "    \"lat\": \"lat\",\n",
    "    \"lon\": \"lon\",\n",
    "    \"area_num\": \"area_num\",\n",
    "}"
   ]
  },
  {
   "cell_type": "code",
   "execution_count": 7,
   "metadata": {},
   "outputs": [
    {
     "name": "stdout",
     "output_type": "stream",
     "text": [
      "0 Внуково\n",
      "1 Можайский\n",
      "2 Бибирево\n",
      "3 Богородское\n",
      "4 Братеево\n",
      "5 Коптево\n",
      "6 Крылатское\n",
      "7 Некрасовка\n",
      "8 Проспект Вернадского\n",
      "9 Ростокино\n",
      "10 Свиблово\n",
      "11 Северный\n",
      "12 Сокольники\n",
      "13 Академический\n",
      "14 Алексеевский\n",
      "15 Алтуфьевский\n",
      "16 Бабушкинский\n",
      "17 Бутырский\n",
      "18 Войковский\n",
      "19 Головинский\n",
      "20 Лосиноостровский\n",
      "21 Молжаниновский\n",
      "22 Нагорный\n",
      "23 Нижегородский\n",
      "24 Ново-Переделкино\n",
      "25 Обручевский\n",
      "26 Беговой\n",
      "27 Бирюлёво Восточное\n",
      "28 Бирюлёво Западное\n",
      "29 Вешняки\n",
      "30 Восточное Дегунино\n",
      "31 Дорогомилово\n",
      "32 Зюзино\n",
      "33 Капотня\n",
      "34 Косино-Ухтомский\n",
      "35 Котловка\n",
      "36 Кузьминки\n",
      "37 Куркино\n",
      "38 Лефортово\n",
      "39 Лианозово\n",
      "40 Люблино\n",
      "41 Марьино\n",
      "42 Метрогородок\n",
      "43 Митино\n",
      "44 Нагатинский Затон\n",
      "45 Новогиреево\n",
      "46 Новокосино\n",
      "47 Очаково-Матвеевское\n",
      "48 Перово\n",
      "49 Печатники\n",
      "50 Покровское-Стрешнево\n",
      "51 Раменки\n",
      "52 Северное Бутово\n",
      "53 Северное Медведково\n",
      "54 Северное Тушино\n",
      "55 Сокол\n",
      "56 Солнцево\n",
      "57 Строгино\n",
      "58 Текстильщики\n",
      "59 Тёплый Стан\n",
      "60 Фили-Давыдково\n",
      "61 Хамовники\n",
      "62 Хорошёво-Мнёвники\n",
      "63 Царицыно\n",
      "64 Чертаново Северное\n",
      "65 Чертаново Центральное\n",
      "66 Чертаново Южное\n",
      "67 Щукино\n",
      "68 Южное Бутово\n",
      "69 Южное Медведково\n",
      "70 Южное Тушино\n",
      "71 Рязанский\n",
      "72 Тимирязевский\n",
      "73 Тропарёво-Никулино\n",
      "74 Хорошёвский\n",
      "75 Ярославский\n",
      "76 Выхино-Жулебино\n",
      "77 Северный\n",
      "78 Алексеевский\n",
      "79 Лосиноостровский\n",
      "80 Филёвский парк\n",
      "81 Тропарёво-Никулино\n",
      "82 Хамовники\n",
      "83 Якиманка\n",
      "84 Арбат\n",
      "85 Басманный\n",
      "86 Замоскворечье\n",
      "87 Красносельский\n",
      "88 Мещанский\n",
      "89 Пресненский\n",
      "90 Таганский\n",
      "91 Тверской\n"
     ]
    }
   ],
   "source": [
    "\n",
    "import os\n",
    "\n",
    "\n",
    "df_list = []\n",
    "houses_dict = dict()\n",
    "houses_real_order = dict()\n",
    "i = 0\n",
    "\n",
    "for areas_geom_index, areas_geom_row in areas_geom.iterrows():\n",
    "    area_name = areas_geom_row['area_name']\n",
    "    houses_dict[area_name] = areas_geom_index\n",
    "    houses_real_order[area_name] = i\n",
    "    print(areas_geom_index, area_name)\n",
    "    \n",
    "    path = os.path.join('mow-reestr-areas', f'{area_name}.csv')\n",
    "    df = pd.read_csv(path)\n",
    "    df_list.append(df)\n",
    "    i += 1\n",
    "\n",
    "houses = pd.concat(df_list, ignore_index=True)\n",
    "\n"
   ]
  },
  {
   "cell_type": "code",
   "execution_count": 8,
   "metadata": {
    "scrolled": true
   },
   "outputs": [
    {
     "data": {
      "text/plain": "                                                    addr  \\\n0      108809, Москва г, д. Толстопальцево, ул. Совет...   \n1      108809, Москва г, д. Толстопальцево, ул. Совет...   \n2      108809, Москва г, д. Толстопальцево, ул. Совет...   \n3      108809, Москва г, д. Толстопальцево, ул. Совет...   \n4      108809, Москва г, д. Толстопальцево, ул. Совет...   \n...                                                  ...   \n66795            127055, Москва г, ул. Тихвинская, д. 39   \n66796    127055, Москва г, ул. Тихвинская, д. 3, корп. 1   \n66797             127055, Москва г, ул. Тихвинская, д. 7   \n66798             127055, Москва г, ул. Тихвинская, д. 9   \n66799            127055, Москва г, ул. Тихвинская, д. 9А   \n\n                                  fias_code  lead_type  \\\n0      e2b601d1-9dce-4daa-93c2-633ee59f7f5c  Не выбран   \n1      1389f7e1-1948-43c5-a769-944efdf1777d  Не выбран   \n2      1bd548bd-d46a-4991-9062-57eeb638a2ce  Не выбран   \n3      ac2010c3-0c83-47e6-b67e-ea555f181975  Не выбран   \n4      55cc8c65-03a7-46f2-ae61-e8a6e3420b25  Не выбран   \n...                                     ...        ...   \n66795  adf12acf-cfca-4b7e-acab-af962a58a5de         УО   \n66796  01a3cfd9-65de-4712-b305-a8e9420a5576         УО   \n66797  7136e1b0-e4a6-44aa-a94d-ed4f956f561c         УО   \n66798  7ade45e2-1084-4c3a-8cc3-c4abc3129173         УО   \n66799  4fc407a9-24ec-4d55-b13d-a6269022f478         УО   \n\n                                               lead_name             type  \\\n0                                                    NaN            Жилой   \n1                                                    NaN            Жилой   \n2                                                    NaN            Жилой   \n3                                                    NaN            Жилой   \n4                                                    NaN            Жилой   \n...                                                  ...              ...   \n66795  ОБЩЕСТВО С ОГРАНИЧЕННОЙ ОТВЕТСТВЕННОСТЬЮ \"ТСЖ ...  Многоквартирный   \n66796  ГОСУДАРСТВЕННОЕ БЮДЖЕТНОЕ УЧРЕЖДЕНИЕ ГОРОДА МО...  Многоквартирный   \n66797  ГОСУДАРСТВЕННОЕ БЮДЖЕТНОЕ УЧРЕЖДЕНИЕ ГОРОДА МО...  Многоквартирный   \n66798  ГОСУДАРСТВЕННОЕ БЮДЖЕТНОЕ УЧРЕЖДЕНИЕ ГОРОДА МО...  Многоквартирный   \n66799  ГОСУДАРСТВЕННОЕ БЮДЖЕТНОЕ УЧРЕЖДЕНИЕ ГОРОДА МО...  Многоквартирный   \n\n            cond    space  living_space dorm_federal dorm_municipal dorm_type  \\\n0      Исправный     90.0           NaN            -              -         -   \n1      Исправный    211.0           NaN            -              -         -   \n2      Исправный    113.0           NaN            -              -         -   \n3      Исправный    275.0           NaN            -              -         -   \n4      Исправный     69.0           NaN            -              -         -   \n...          ...      ...           ...          ...            ...       ...   \n66795  Исправный  23595.3       16519.0          нет            нет         -   \n66796  Исправный  13540.5       11495.0            -              -         -   \n66797  Исправный   2652.6        1948.0            -              -         -   \n66798  Исправный   5328.6        1241.0            -              -         -   \n66799  Исправный   2503.2        2007.0            -              -         -   \n\n      room_type demolition_date                       geometry        lat  \\\n0           NaN             NaN  POINT (37.1898994 55.6071768)  55.607177   \n1           NaN             NaN  POINT (37.1898994 55.6071768)  55.607177   \n2           NaN             NaN  POINT (37.1898994 55.6071768)  55.607177   \n3           NaN             NaN  POINT (37.1928963 55.6036271)  55.603627   \n4           NaN             NaN  POINT (37.1898994 55.6071768)  55.607177   \n...         ...             ...                            ...        ...   \n66795       NaN             NaN    POINT (37.598968 55.791289)  55.791289   \n66796       NaN             NaN    POINT (37.600882 55.785939)  55.785939   \n66797       NaN             NaN    POINT (37.600783 55.786779)  55.786779   \n66798       NaN             NaN    POINT (37.600352 55.787275)  55.787275   \n66799       NaN             NaN    POINT (37.600415 55.787082)  55.787082   \n\n             lon  area_num  \n0      37.189899         0  \n1      37.189899         0  \n2      37.189899         0  \n3      37.192896         0  \n4      37.189899         0  \n...          ...       ...  \n66795  37.598968        97  \n66796  37.600882        97  \n66797  37.600783        97  \n66798  37.600352        97  \n66799  37.600415        97  \n\n[66800 rows x 17 columns]",
      "text/html": "<div>\n<style scoped>\n    .dataframe tbody tr th:only-of-type {\n        vertical-align: middle;\n    }\n\n    .dataframe tbody tr th {\n        vertical-align: top;\n    }\n\n    .dataframe thead th {\n        text-align: right;\n    }\n</style>\n<table border=\"1\" class=\"dataframe\">\n  <thead>\n    <tr style=\"text-align: right;\">\n      <th></th>\n      <th>addr</th>\n      <th>fias_code</th>\n      <th>lead_type</th>\n      <th>lead_name</th>\n      <th>type</th>\n      <th>cond</th>\n      <th>space</th>\n      <th>living_space</th>\n      <th>dorm_federal</th>\n      <th>dorm_municipal</th>\n      <th>dorm_type</th>\n      <th>room_type</th>\n      <th>demolition_date</th>\n      <th>geometry</th>\n      <th>lat</th>\n      <th>lon</th>\n      <th>area_num</th>\n    </tr>\n  </thead>\n  <tbody>\n    <tr>\n      <th>0</th>\n      <td>108809, Москва г, д. Толстопальцево, ул. Совет...</td>\n      <td>e2b601d1-9dce-4daa-93c2-633ee59f7f5c</td>\n      <td>Не выбран</td>\n      <td>NaN</td>\n      <td>Жилой</td>\n      <td>Исправный</td>\n      <td>90.0</td>\n      <td>NaN</td>\n      <td>-</td>\n      <td>-</td>\n      <td>-</td>\n      <td>NaN</td>\n      <td>NaN</td>\n      <td>POINT (37.1898994 55.6071768)</td>\n      <td>55.607177</td>\n      <td>37.189899</td>\n      <td>0</td>\n    </tr>\n    <tr>\n      <th>1</th>\n      <td>108809, Москва г, д. Толстопальцево, ул. Совет...</td>\n      <td>1389f7e1-1948-43c5-a769-944efdf1777d</td>\n      <td>Не выбран</td>\n      <td>NaN</td>\n      <td>Жилой</td>\n      <td>Исправный</td>\n      <td>211.0</td>\n      <td>NaN</td>\n      <td>-</td>\n      <td>-</td>\n      <td>-</td>\n      <td>NaN</td>\n      <td>NaN</td>\n      <td>POINT (37.1898994 55.6071768)</td>\n      <td>55.607177</td>\n      <td>37.189899</td>\n      <td>0</td>\n    </tr>\n    <tr>\n      <th>2</th>\n      <td>108809, Москва г, д. Толстопальцево, ул. Совет...</td>\n      <td>1bd548bd-d46a-4991-9062-57eeb638a2ce</td>\n      <td>Не выбран</td>\n      <td>NaN</td>\n      <td>Жилой</td>\n      <td>Исправный</td>\n      <td>113.0</td>\n      <td>NaN</td>\n      <td>-</td>\n      <td>-</td>\n      <td>-</td>\n      <td>NaN</td>\n      <td>NaN</td>\n      <td>POINT (37.1898994 55.6071768)</td>\n      <td>55.607177</td>\n      <td>37.189899</td>\n      <td>0</td>\n    </tr>\n    <tr>\n      <th>3</th>\n      <td>108809, Москва г, д. Толстопальцево, ул. Совет...</td>\n      <td>ac2010c3-0c83-47e6-b67e-ea555f181975</td>\n      <td>Не выбран</td>\n      <td>NaN</td>\n      <td>Жилой</td>\n      <td>Исправный</td>\n      <td>275.0</td>\n      <td>NaN</td>\n      <td>-</td>\n      <td>-</td>\n      <td>-</td>\n      <td>NaN</td>\n      <td>NaN</td>\n      <td>POINT (37.1928963 55.6036271)</td>\n      <td>55.603627</td>\n      <td>37.192896</td>\n      <td>0</td>\n    </tr>\n    <tr>\n      <th>4</th>\n      <td>108809, Москва г, д. Толстопальцево, ул. Совет...</td>\n      <td>55cc8c65-03a7-46f2-ae61-e8a6e3420b25</td>\n      <td>Не выбран</td>\n      <td>NaN</td>\n      <td>Жилой</td>\n      <td>Исправный</td>\n      <td>69.0</td>\n      <td>NaN</td>\n      <td>-</td>\n      <td>-</td>\n      <td>-</td>\n      <td>NaN</td>\n      <td>NaN</td>\n      <td>POINT (37.1898994 55.6071768)</td>\n      <td>55.607177</td>\n      <td>37.189899</td>\n      <td>0</td>\n    </tr>\n    <tr>\n      <th>...</th>\n      <td>...</td>\n      <td>...</td>\n      <td>...</td>\n      <td>...</td>\n      <td>...</td>\n      <td>...</td>\n      <td>...</td>\n      <td>...</td>\n      <td>...</td>\n      <td>...</td>\n      <td>...</td>\n      <td>...</td>\n      <td>...</td>\n      <td>...</td>\n      <td>...</td>\n      <td>...</td>\n      <td>...</td>\n    </tr>\n    <tr>\n      <th>66795</th>\n      <td>127055, Москва г, ул. Тихвинская, д. 39</td>\n      <td>adf12acf-cfca-4b7e-acab-af962a58a5de</td>\n      <td>УО</td>\n      <td>ОБЩЕСТВО С ОГРАНИЧЕННОЙ ОТВЕТСТВЕННОСТЬЮ \"ТСЖ ...</td>\n      <td>Многоквартирный</td>\n      <td>Исправный</td>\n      <td>23595.3</td>\n      <td>16519.0</td>\n      <td>нет</td>\n      <td>нет</td>\n      <td>-</td>\n      <td>NaN</td>\n      <td>NaN</td>\n      <td>POINT (37.598968 55.791289)</td>\n      <td>55.791289</td>\n      <td>37.598968</td>\n      <td>97</td>\n    </tr>\n    <tr>\n      <th>66796</th>\n      <td>127055, Москва г, ул. Тихвинская, д. 3, корп. 1</td>\n      <td>01a3cfd9-65de-4712-b305-a8e9420a5576</td>\n      <td>УО</td>\n      <td>ГОСУДАРСТВЕННОЕ БЮДЖЕТНОЕ УЧРЕЖДЕНИЕ ГОРОДА МО...</td>\n      <td>Многоквартирный</td>\n      <td>Исправный</td>\n      <td>13540.5</td>\n      <td>11495.0</td>\n      <td>-</td>\n      <td>-</td>\n      <td>-</td>\n      <td>NaN</td>\n      <td>NaN</td>\n      <td>POINT (37.600882 55.785939)</td>\n      <td>55.785939</td>\n      <td>37.600882</td>\n      <td>97</td>\n    </tr>\n    <tr>\n      <th>66797</th>\n      <td>127055, Москва г, ул. Тихвинская, д. 7</td>\n      <td>7136e1b0-e4a6-44aa-a94d-ed4f956f561c</td>\n      <td>УО</td>\n      <td>ГОСУДАРСТВЕННОЕ БЮДЖЕТНОЕ УЧРЕЖДЕНИЕ ГОРОДА МО...</td>\n      <td>Многоквартирный</td>\n      <td>Исправный</td>\n      <td>2652.6</td>\n      <td>1948.0</td>\n      <td>-</td>\n      <td>-</td>\n      <td>-</td>\n      <td>NaN</td>\n      <td>NaN</td>\n      <td>POINT (37.600783 55.786779)</td>\n      <td>55.786779</td>\n      <td>37.600783</td>\n      <td>97</td>\n    </tr>\n    <tr>\n      <th>66798</th>\n      <td>127055, Москва г, ул. Тихвинская, д. 9</td>\n      <td>7ade45e2-1084-4c3a-8cc3-c4abc3129173</td>\n      <td>УО</td>\n      <td>ГОСУДАРСТВЕННОЕ БЮДЖЕТНОЕ УЧРЕЖДЕНИЕ ГОРОДА МО...</td>\n      <td>Многоквартирный</td>\n      <td>Исправный</td>\n      <td>5328.6</td>\n      <td>1241.0</td>\n      <td>-</td>\n      <td>-</td>\n      <td>-</td>\n      <td>NaN</td>\n      <td>NaN</td>\n      <td>POINT (37.600352 55.787275)</td>\n      <td>55.787275</td>\n      <td>37.600352</td>\n      <td>97</td>\n    </tr>\n    <tr>\n      <th>66799</th>\n      <td>127055, Москва г, ул. Тихвинская, д. 9А</td>\n      <td>4fc407a9-24ec-4d55-b13d-a6269022f478</td>\n      <td>УО</td>\n      <td>ГОСУДАРСТВЕННОЕ БЮДЖЕТНОЕ УЧРЕЖДЕНИЕ ГОРОДА МО...</td>\n      <td>Многоквартирный</td>\n      <td>Исправный</td>\n      <td>2503.2</td>\n      <td>2007.0</td>\n      <td>-</td>\n      <td>-</td>\n      <td>-</td>\n      <td>NaN</td>\n      <td>NaN</td>\n      <td>POINT (37.600415 55.787082)</td>\n      <td>55.787082</td>\n      <td>37.600415</td>\n      <td>97</td>\n    </tr>\n  </tbody>\n</table>\n<p>66800 rows × 17 columns</p>\n</div>"
     },
     "execution_count": 8,
     "metadata": {},
     "output_type": "execute_result"
    }
   ],
   "source": [
    "houses = houses[head_dict.keys()]\n",
    "houses = houses.rename(columns=head_dict)\n",
    "houses"
   ]
  },
  {
   "cell_type": "code",
   "execution_count": 9,
   "metadata": {},
   "outputs": [],
   "source": [
    "from sklearn.cluster import KMeans\n",
    "import seaborn as sns; sns.set()\n",
    "import csv\n",
    "import matplotlib.pyplot as plt"
   ]
  },
  {
   "cell_type": "code",
   "execution_count": 10,
   "metadata": {},
   "outputs": [
    {
     "data": {
      "text/plain": "                                                    addr  \\\n0      108809, Москва г, д. Толстопальцево, ул. Совет...   \n1      108809, Москва г, д. Толстопальцево, ул. Совет...   \n2      108809, Москва г, д. Толстопальцево, ул. Совет...   \n3      108809, Москва г, д. Толстопальцево, ул. Совет...   \n4      108809, Москва г, д. Толстопальцево, ул. Совет...   \n...                                                  ...   \n66795            127055, Москва г, ул. Тихвинская, д. 39   \n66796    127055, Москва г, ул. Тихвинская, д. 3, корп. 1   \n66797             127055, Москва г, ул. Тихвинская, д. 7   \n66798             127055, Москва г, ул. Тихвинская, д. 9   \n66799            127055, Москва г, ул. Тихвинская, д. 9А   \n\n                                  fias_code  lead_type  \\\n0      e2b601d1-9dce-4daa-93c2-633ee59f7f5c  Не выбран   \n1      1389f7e1-1948-43c5-a769-944efdf1777d  Не выбран   \n2      1bd548bd-d46a-4991-9062-57eeb638a2ce  Не выбран   \n3      ac2010c3-0c83-47e6-b67e-ea555f181975  Не выбран   \n4      55cc8c65-03a7-46f2-ae61-e8a6e3420b25  Не выбран   \n...                                     ...        ...   \n66795  adf12acf-cfca-4b7e-acab-af962a58a5de         УО   \n66796  01a3cfd9-65de-4712-b305-a8e9420a5576         УО   \n66797  7136e1b0-e4a6-44aa-a94d-ed4f956f561c         УО   \n66798  7ade45e2-1084-4c3a-8cc3-c4abc3129173         УО   \n66799  4fc407a9-24ec-4d55-b13d-a6269022f478         УО   \n\n                                               lead_name             type  \\\n0                                                    NaN            Жилой   \n1                                                    NaN            Жилой   \n2                                                    NaN            Жилой   \n3                                                    NaN            Жилой   \n4                                                    NaN            Жилой   \n...                                                  ...              ...   \n66795  ОБЩЕСТВО С ОГРАНИЧЕННОЙ ОТВЕТСТВЕННОСТЬЮ \"ТСЖ ...  Многоквартирный   \n66796  ГОСУДАРСТВЕННОЕ БЮДЖЕТНОЕ УЧРЕЖДЕНИЕ ГОРОДА МО...  Многоквартирный   \n66797  ГОСУДАРСТВЕННОЕ БЮДЖЕТНОЕ УЧРЕЖДЕНИЕ ГОРОДА МО...  Многоквартирный   \n66798  ГОСУДАРСТВЕННОЕ БЮДЖЕТНОЕ УЧРЕЖДЕНИЕ ГОРОДА МО...  Многоквартирный   \n66799  ГОСУДАРСТВЕННОЕ БЮДЖЕТНОЕ УЧРЕЖДЕНИЕ ГОРОДА МО...  Многоквартирный   \n\n            cond    space  living_space dorm_federal dorm_municipal dorm_type  \\\n0      Исправный     90.0           NaN            -              -         -   \n1      Исправный    211.0           NaN            -              -         -   \n2      Исправный    113.0           NaN            -              -         -   \n3      Исправный    275.0           NaN            -              -         -   \n4      Исправный     69.0           NaN            -              -         -   \n...          ...      ...           ...          ...            ...       ...   \n66795  Исправный  23595.3       16519.0          нет            нет         -   \n66796  Исправный  13540.5       11495.0            -              -         -   \n66797  Исправный   2652.6        1948.0            -              -         -   \n66798  Исправный   5328.6        1241.0            -              -         -   \n66799  Исправный   2503.2        2007.0            -              -         -   \n\n      room_type demolition_date                       geometry        lat  \\\n0           NaN             NaN  POINT (37.1898994 55.6071768)  55.607177   \n1           NaN             NaN  POINT (37.1898994 55.6071768)  55.607177   \n2           NaN             NaN  POINT (37.1898994 55.6071768)  55.607177   \n3           NaN             NaN  POINT (37.1928963 55.6036271)  55.603627   \n4           NaN             NaN  POINT (37.1898994 55.6071768)  55.607177   \n...         ...             ...                            ...        ...   \n66795       NaN             NaN    POINT (37.598968 55.791289)  55.791289   \n66796       NaN             NaN    POINT (37.600882 55.785939)  55.785939   \n66797       NaN             NaN    POINT (37.600783 55.786779)  55.786779   \n66798       NaN             NaN    POINT (37.600352 55.787275)  55.787275   \n66799       NaN             NaN    POINT (37.600415 55.787082)  55.787082   \n\n             lon  area_num  \n0      37.189899         0  \n1      37.189899         0  \n2      37.189899         0  \n3      37.192896         0  \n4      37.189899         0  \n...          ...       ...  \n66795  37.598968        97  \n66796  37.600882        97  \n66797  37.600783        97  \n66798  37.600352        97  \n66799  37.600415        97  \n\n[66800 rows x 17 columns]",
      "text/html": "<div>\n<style scoped>\n    .dataframe tbody tr th:only-of-type {\n        vertical-align: middle;\n    }\n\n    .dataframe tbody tr th {\n        vertical-align: top;\n    }\n\n    .dataframe thead th {\n        text-align: right;\n    }\n</style>\n<table border=\"1\" class=\"dataframe\">\n  <thead>\n    <tr style=\"text-align: right;\">\n      <th></th>\n      <th>addr</th>\n      <th>fias_code</th>\n      <th>lead_type</th>\n      <th>lead_name</th>\n      <th>type</th>\n      <th>cond</th>\n      <th>space</th>\n      <th>living_space</th>\n      <th>dorm_federal</th>\n      <th>dorm_municipal</th>\n      <th>dorm_type</th>\n      <th>room_type</th>\n      <th>demolition_date</th>\n      <th>geometry</th>\n      <th>lat</th>\n      <th>lon</th>\n      <th>area_num</th>\n    </tr>\n  </thead>\n  <tbody>\n    <tr>\n      <th>0</th>\n      <td>108809, Москва г, д. Толстопальцево, ул. Совет...</td>\n      <td>e2b601d1-9dce-4daa-93c2-633ee59f7f5c</td>\n      <td>Не выбран</td>\n      <td>NaN</td>\n      <td>Жилой</td>\n      <td>Исправный</td>\n      <td>90.0</td>\n      <td>NaN</td>\n      <td>-</td>\n      <td>-</td>\n      <td>-</td>\n      <td>NaN</td>\n      <td>NaN</td>\n      <td>POINT (37.1898994 55.6071768)</td>\n      <td>55.607177</td>\n      <td>37.189899</td>\n      <td>0</td>\n    </tr>\n    <tr>\n      <th>1</th>\n      <td>108809, Москва г, д. Толстопальцево, ул. Совет...</td>\n      <td>1389f7e1-1948-43c5-a769-944efdf1777d</td>\n      <td>Не выбран</td>\n      <td>NaN</td>\n      <td>Жилой</td>\n      <td>Исправный</td>\n      <td>211.0</td>\n      <td>NaN</td>\n      <td>-</td>\n      <td>-</td>\n      <td>-</td>\n      <td>NaN</td>\n      <td>NaN</td>\n      <td>POINT (37.1898994 55.6071768)</td>\n      <td>55.607177</td>\n      <td>37.189899</td>\n      <td>0</td>\n    </tr>\n    <tr>\n      <th>2</th>\n      <td>108809, Москва г, д. Толстопальцево, ул. Совет...</td>\n      <td>1bd548bd-d46a-4991-9062-57eeb638a2ce</td>\n      <td>Не выбран</td>\n      <td>NaN</td>\n      <td>Жилой</td>\n      <td>Исправный</td>\n      <td>113.0</td>\n      <td>NaN</td>\n      <td>-</td>\n      <td>-</td>\n      <td>-</td>\n      <td>NaN</td>\n      <td>NaN</td>\n      <td>POINT (37.1898994 55.6071768)</td>\n      <td>55.607177</td>\n      <td>37.189899</td>\n      <td>0</td>\n    </tr>\n    <tr>\n      <th>3</th>\n      <td>108809, Москва г, д. Толстопальцево, ул. Совет...</td>\n      <td>ac2010c3-0c83-47e6-b67e-ea555f181975</td>\n      <td>Не выбран</td>\n      <td>NaN</td>\n      <td>Жилой</td>\n      <td>Исправный</td>\n      <td>275.0</td>\n      <td>NaN</td>\n      <td>-</td>\n      <td>-</td>\n      <td>-</td>\n      <td>NaN</td>\n      <td>NaN</td>\n      <td>POINT (37.1928963 55.6036271)</td>\n      <td>55.603627</td>\n      <td>37.192896</td>\n      <td>0</td>\n    </tr>\n    <tr>\n      <th>4</th>\n      <td>108809, Москва г, д. Толстопальцево, ул. Совет...</td>\n      <td>55cc8c65-03a7-46f2-ae61-e8a6e3420b25</td>\n      <td>Не выбран</td>\n      <td>NaN</td>\n      <td>Жилой</td>\n      <td>Исправный</td>\n      <td>69.0</td>\n      <td>NaN</td>\n      <td>-</td>\n      <td>-</td>\n      <td>-</td>\n      <td>NaN</td>\n      <td>NaN</td>\n      <td>POINT (37.1898994 55.6071768)</td>\n      <td>55.607177</td>\n      <td>37.189899</td>\n      <td>0</td>\n    </tr>\n    <tr>\n      <th>...</th>\n      <td>...</td>\n      <td>...</td>\n      <td>...</td>\n      <td>...</td>\n      <td>...</td>\n      <td>...</td>\n      <td>...</td>\n      <td>...</td>\n      <td>...</td>\n      <td>...</td>\n      <td>...</td>\n      <td>...</td>\n      <td>...</td>\n      <td>...</td>\n      <td>...</td>\n      <td>...</td>\n      <td>...</td>\n    </tr>\n    <tr>\n      <th>66795</th>\n      <td>127055, Москва г, ул. Тихвинская, д. 39</td>\n      <td>adf12acf-cfca-4b7e-acab-af962a58a5de</td>\n      <td>УО</td>\n      <td>ОБЩЕСТВО С ОГРАНИЧЕННОЙ ОТВЕТСТВЕННОСТЬЮ \"ТСЖ ...</td>\n      <td>Многоквартирный</td>\n      <td>Исправный</td>\n      <td>23595.3</td>\n      <td>16519.0</td>\n      <td>нет</td>\n      <td>нет</td>\n      <td>-</td>\n      <td>NaN</td>\n      <td>NaN</td>\n      <td>POINT (37.598968 55.791289)</td>\n      <td>55.791289</td>\n      <td>37.598968</td>\n      <td>97</td>\n    </tr>\n    <tr>\n      <th>66796</th>\n      <td>127055, Москва г, ул. Тихвинская, д. 3, корп. 1</td>\n      <td>01a3cfd9-65de-4712-b305-a8e9420a5576</td>\n      <td>УО</td>\n      <td>ГОСУДАРСТВЕННОЕ БЮДЖЕТНОЕ УЧРЕЖДЕНИЕ ГОРОДА МО...</td>\n      <td>Многоквартирный</td>\n      <td>Исправный</td>\n      <td>13540.5</td>\n      <td>11495.0</td>\n      <td>-</td>\n      <td>-</td>\n      <td>-</td>\n      <td>NaN</td>\n      <td>NaN</td>\n      <td>POINT (37.600882 55.785939)</td>\n      <td>55.785939</td>\n      <td>37.600882</td>\n      <td>97</td>\n    </tr>\n    <tr>\n      <th>66797</th>\n      <td>127055, Москва г, ул. Тихвинская, д. 7</td>\n      <td>7136e1b0-e4a6-44aa-a94d-ed4f956f561c</td>\n      <td>УО</td>\n      <td>ГОСУДАРСТВЕННОЕ БЮДЖЕТНОЕ УЧРЕЖДЕНИЕ ГОРОДА МО...</td>\n      <td>Многоквартирный</td>\n      <td>Исправный</td>\n      <td>2652.6</td>\n      <td>1948.0</td>\n      <td>-</td>\n      <td>-</td>\n      <td>-</td>\n      <td>NaN</td>\n      <td>NaN</td>\n      <td>POINT (37.600783 55.786779)</td>\n      <td>55.786779</td>\n      <td>37.600783</td>\n      <td>97</td>\n    </tr>\n    <tr>\n      <th>66798</th>\n      <td>127055, Москва г, ул. Тихвинская, д. 9</td>\n      <td>7ade45e2-1084-4c3a-8cc3-c4abc3129173</td>\n      <td>УО</td>\n      <td>ГОСУДАРСТВЕННОЕ БЮДЖЕТНОЕ УЧРЕЖДЕНИЕ ГОРОДА МО...</td>\n      <td>Многоквартирный</td>\n      <td>Исправный</td>\n      <td>5328.6</td>\n      <td>1241.0</td>\n      <td>-</td>\n      <td>-</td>\n      <td>-</td>\n      <td>NaN</td>\n      <td>NaN</td>\n      <td>POINT (37.600352 55.787275)</td>\n      <td>55.787275</td>\n      <td>37.600352</td>\n      <td>97</td>\n    </tr>\n    <tr>\n      <th>66799</th>\n      <td>127055, Москва г, ул. Тихвинская, д. 9А</td>\n      <td>4fc407a9-24ec-4d55-b13d-a6269022f478</td>\n      <td>УО</td>\n      <td>ГОСУДАРСТВЕННОЕ БЮДЖЕТНОЕ УЧРЕЖДЕНИЕ ГОРОДА МО...</td>\n      <td>Многоквартирный</td>\n      <td>Исправный</td>\n      <td>2503.2</td>\n      <td>2007.0</td>\n      <td>-</td>\n      <td>-</td>\n      <td>-</td>\n      <td>NaN</td>\n      <td>NaN</td>\n      <td>POINT (37.600415 55.787082)</td>\n      <td>55.787082</td>\n      <td>37.600415</td>\n      <td>97</td>\n    </tr>\n  </tbody>\n</table>\n<p>66800 rows × 17 columns</p>\n</div>"
     },
     "execution_count": 10,
     "metadata": {},
     "output_type": "execute_result"
    }
   ],
   "source": [
    "\n",
    "houses"
   ]
  },
  {
   "cell_type": "code",
   "execution_count": 11,
   "metadata": {},
   "outputs": [
    {
     "name": "stdout",
     "output_type": "stream",
     "text": [
      "[[55.6071768 37.1898994]\n",
      " [55.6071768 37.1898994]\n",
      " [55.6071768 37.1898994]\n",
      " ...\n",
      " [55.786779  37.600783 ]\n",
      " [55.787275  37.600352 ]\n",
      " [55.787082  37.600415 ]]\n"
     ]
    },
    {
     "data": {
      "text/plain": "<Figure size 432x288 with 1 Axes>",
      "image/png": "[encoded data removed]"
     },
     "metadata": {
      "needs_background": "light"
     },
     "output_type": "display_data"
    }
   ],
   "source": [
    "import numpy as np\n",
    "import matplotlib.pyplot as plt\n",
    "from sklearn.cluster import KMeans\n",
    "from sklearn import metrics\n",
    "latitudes =  houses['lat'].values.reshape(-1, 1)\n",
    "longitudes =  houses['lon'].values.reshape(-1, 1)\n",
    "\n",
    "coordinates = np.column_stack((latitudes, longitudes))\n",
    "\n",
    "print(coordinates)\n",
    "\n",
    "# Define the range of possible cluster numbers to try\n",
    "k_values = range(2, 20)\n",
    "\n",
    "# Initialize a list to store the within-cluster sum of squares (inertia) for each k value\n",
    "inertia_values = []\n",
    "\n",
    "# Calculate the inertia for each k value\n",
    "for k in k_values:\n",
    "    kmeans = KMeans(n_clusters=k, random_state=0).fit(coordinates)\n",
    "    kmeans.fit(coordinates)\n",
    "    inertia_values.append(kmeans.inertia_)\n",
    "\n",
    "# Plot the elbow curve\n",
    "plt.plot(k_values, inertia_values, 'bx-')\n",
    "plt.xticks(np.arange(min(k_values), max(k_values)+1, 5.0))\n",
    "plt.yticks(np.arange(min(inertia_values), max(inertia_values)+1, 100.0))\n",
    "plt.xlabel('Number of Clusters (k)')\n",
    "plt.ylabel('Inertia')\n",
    "plt.title('Elbow Method for Geographic Coordinates')\n",
    "plt.show()"
   ]
  },
  {
   "cell_type": "code",
   "execution_count": 12,
   "metadata": {},
   "outputs": [
    {
     "data": {
      "text/plain": "                                                    addr  \\\n0      108809, Москва г, д. Толстопальцево, ул. Совет...   \n1      108809, Москва г, д. Толстопальцево, ул. Совет...   \n2      108809, Москва г, д. Толстопальцево, ул. Совет...   \n3      108809, Москва г, д. Толстопальцево, ул. Совет...   \n4      108809, Москва г, д. Толстопальцево, ул. Совет...   \n...                                                  ...   \n66795            127055, Москва г, ул. Тихвинская, д. 39   \n66796    127055, Москва г, ул. Тихвинская, д. 3, корп. 1   \n66797             127055, Москва г, ул. Тихвинская, д. 7   \n66798             127055, Москва г, ул. Тихвинская, д. 9   \n66799            127055, Москва г, ул. Тихвинская, д. 9А   \n\n                                  fias_code  lead_type  \\\n0      e2b601d1-9dce-4daa-93c2-633ee59f7f5c  Не выбран   \n1      1389f7e1-1948-43c5-a769-944efdf1777d  Не выбран   \n2      1bd548bd-d46a-4991-9062-57eeb638a2ce  Не выбран   \n3      ac2010c3-0c83-47e6-b67e-ea555f181975  Не выбран   \n4      55cc8c65-03a7-46f2-ae61-e8a6e3420b25  Не выбран   \n...                                     ...        ...   \n66795  adf12acf-cfca-4b7e-acab-af962a58a5de         УО   \n66796  01a3cfd9-65de-4712-b305-a8e9420a5576         УО   \n66797  7136e1b0-e4a6-44aa-a94d-ed4f956f561c         УО   \n66798  7ade45e2-1084-4c3a-8cc3-c4abc3129173         УО   \n66799  4fc407a9-24ec-4d55-b13d-a6269022f478         УО   \n\n                                               lead_name             type  \\\n0                                                    NaN            Жилой   \n1                                                    NaN            Жилой   \n2                                                    NaN            Жилой   \n3                                                    NaN            Жилой   \n4                                                    NaN            Жилой   \n...                                                  ...              ...   \n66795  ОБЩЕСТВО С ОГРАНИЧЕННОЙ ОТВЕТСТВЕННОСТЬЮ \"ТСЖ ...  Многоквартирный   \n66796  ГОСУДАРСТВЕННОЕ БЮДЖЕТНОЕ УЧРЕЖДЕНИЕ ГОРОДА МО...  Многоквартирный   \n66797  ГОСУДАРСТВЕННОЕ БЮДЖЕТНОЕ УЧРЕЖДЕНИЕ ГОРОДА МО...  Многоквартирный   \n66798  ГОСУДАРСТВЕННОЕ БЮДЖЕТНОЕ УЧРЕЖДЕНИЕ ГОРОДА МО...  Многоквартирный   \n66799  ГОСУДАРСТВЕННОЕ БЮДЖЕТНОЕ УЧРЕЖДЕНИЕ ГОРОДА МО...  Многоквартирный   \n\n            cond    space  living_space dorm_federal dorm_municipal dorm_type  \\\n0      Исправный     90.0           NaN            -              -         -   \n1      Исправный    211.0           NaN            -              -         -   \n2      Исправный    113.0           NaN            -              -         -   \n3      Исправный    275.0           NaN            -              -         -   \n4      Исправный     69.0           NaN            -              -         -   \n...          ...      ...           ...          ...            ...       ...   \n66795  Исправный  23595.3       16519.0          нет            нет         -   \n66796  Исправный  13540.5       11495.0            -              -         -   \n66797  Исправный   2652.6        1948.0            -              -         -   \n66798  Исправный   5328.6        1241.0            -              -         -   \n66799  Исправный   2503.2        2007.0            -              -         -   \n\n      room_type demolition_date                       geometry        lat  \\\n0           NaN             NaN  POINT (37.1898994 55.6071768)  55.607177   \n1           NaN             NaN  POINT (37.1898994 55.6071768)  55.607177   \n2           NaN             NaN  POINT (37.1898994 55.6071768)  55.607177   \n3           NaN             NaN  POINT (37.1928963 55.6036271)  55.603627   \n4           NaN             NaN  POINT (37.1898994 55.6071768)  55.607177   \n...         ...             ...                            ...        ...   \n66795       NaN             NaN    POINT (37.598968 55.791289)  55.791289   \n66796       NaN             NaN    POINT (37.600882 55.785939)  55.785939   \n66797       NaN             NaN    POINT (37.600783 55.786779)  55.786779   \n66798       NaN             NaN    POINT (37.600352 55.787275)  55.787275   \n66799       NaN             NaN    POINT (37.600415 55.787082)  55.787082   \n\n             lon  area_num  \n0      37.189899         0  \n1      37.189899         0  \n2      37.189899         0  \n3      37.192896         0  \n4      37.189899         0  \n...          ...       ...  \n66795  37.598968        97  \n66796  37.600882        97  \n66797  37.600783        97  \n66798  37.600352        97  \n66799  37.600415        97  \n\n[66800 rows x 17 columns]",
      "text/html": "<div>\n<style scoped>\n    .dataframe tbody tr th:only-of-type {\n        vertical-align: middle;\n    }\n\n    .dataframe tbody tr th {\n        vertical-align: top;\n    }\n\n    .dataframe thead th {\n        text-align: right;\n    }\n</style>\n<table border=\"1\" class=\"dataframe\">\n  <thead>\n    <tr style=\"text-align: right;\">\n      <th></th>\n      <th>addr</th>\n      <th>fias_code</th>\n      <th>lead_type</th>\n      <th>lead_name</th>\n      <th>type</th>\n      <th>cond</th>\n      <th>space</th>\n      <th>living_space</th>\n      <th>dorm_federal</th>\n      <th>dorm_municipal</th>\n      <th>dorm_type</th>\n      <th>room_type</th>\n      <th>demolition_date</th>\n      <th>geometry</th>\n      <th>lat</th>\n      <th>lon</th>\n      <th>area_num</th>\n    </tr>\n  </thead>\n  <tbody>\n    <tr>\n      <th>0</th>\n      <td>108809, Москва г, д. Толстопальцево, ул. Совет...</td>\n      <td>e2b601d1-9dce-4daa-93c2-633ee59f7f5c</td>\n      <td>Не выбран</td>\n      <td>NaN</td>\n      <td>Жилой</td>\n      <td>Исправный</td>\n      <td>90.0</td>\n      <td>NaN</td>\n      <td>-</td>\n      <td>-</td>\n      <td>-</td>\n      <td>NaN</td>\n      <td>NaN</td>\n      <td>POINT (37.1898994 55.6071768)</td>\n      <td>55.607177</td>\n      <td>37.189899</td>\n      <td>0</td>\n    </tr>\n    <tr>\n      <th>1</th>\n      <td>108809, Москва г, д. Толстопальцево, ул. Совет...</td>\n      <td>1389f7e1-1948-43c5-a769-944efdf1777d</td>\n      <td>Не выбран</td>\n      <td>NaN</td>\n      <td>Жилой</td>\n      <td>Исправный</td>\n      <td>211.0</td>\n      <td>NaN</td>\n      <td>-</td>\n      <td>-</td>\n      <td>-</td>\n      <td>NaN</td>\n      <td>NaN</td>\n      <td>POINT (37.1898994 55.6071768)</td>\n      <td>55.607177</td>\n      <td>37.189899</td>\n      <td>0</td>\n    </tr>\n    <tr>\n      <th>2</th>\n      <td>108809, Москва г, д. Толстопальцево, ул. Совет...</td>\n      <td>1bd548bd-d46a-4991-9062-57eeb638a2ce</td>\n      <td>Не выбран</td>\n      <td>NaN</td>\n      <td>Жилой</td>\n      <td>Исправный</td>\n      <td>113.0</td>\n      <td>NaN</td>\n      <td>-</td>\n      <td>-</td>\n      <td>-</td>\n      <td>NaN</td>\n      <td>NaN</td>\n      <td>POINT (37.1898994 55.6071768)</td>\n      <td>55.607177</td>\n      <td>37.189899</td>\n      <td>0</td>\n    </tr>\n    <tr>\n      <th>3</th>\n      <td>108809, Москва г, д. Толстопальцево, ул. Совет...</td>\n      <td>ac2010c3-0c83-47e6-b67e-ea555f181975</td>\n      <td>Не выбран</td>\n      <td>NaN</td>\n      <td>Жилой</td>\n      <td>Исправный</td>\n      <td>275.0</td>\n      <td>NaN</td>\n      <td>-</td>\n      <td>-</td>\n      <td>-</td>\n      <td>NaN</td>\n      <td>NaN</td>\n      <td>POINT (37.1928963 55.6036271)</td>\n      <td>55.603627</td>\n      <td>37.192896</td>\n      <td>0</td>\n    </tr>\n    <tr>\n      <th>4</th>\n      <td>108809, Москва г, д. Толстопальцево, ул. Совет...</td>\n      <td>55cc8c65-03a7-46f2-ae61-e8a6e3420b25</td>\n      <td>Не выбран</td>\n      <td>NaN</td>\n      <td>Жилой</td>\n      <td>Исправный</td>\n      <td>69.0</td>\n      <td>NaN</td>\n      <td>-</td>\n      <td>-</td>\n      <td>-</td>\n      <td>NaN</td>\n      <td>NaN</td>\n      <td>POINT (37.1898994 55.6071768)</td>\n      <td>55.607177</td>\n      <td>37.189899</td>\n      <td>0</td>\n    </tr>\n    <tr>\n      <th>...</th>\n      <td>...</td>\n      <td>...</td>\n      <td>...</td>\n      <td>...</td>\n      <td>...</td>\n      <td>...</td>\n      <td>...</td>\n      <td>...</td>\n      <td>...</td>\n      <td>...</td>\n      <td>...</td>\n      <td>...</td>\n      <td>...</td>\n      <td>...</td>\n      <td>...</td>\n      <td>...</td>\n      <td>...</td>\n    </tr>\n    <tr>\n      <th>66795</th>\n      <td>127055, Москва г, ул. Тихвинская, д. 39</td>\n      <td>adf12acf-cfca-4b7e-acab-af962a58a5de</td>\n      <td>УО</td>\n      <td>ОБЩЕСТВО С ОГРАНИЧЕННОЙ ОТВЕТСТВЕННОСТЬЮ \"ТСЖ ...</td>\n      <td>Многоквартирный</td>\n      <td>Исправный</td>\n      <td>23595.3</td>\n      <td>16519.0</td>\n      <td>нет</td>\n      <td>нет</td>\n      <td>-</td>\n      <td>NaN</td>\n      <td>NaN</td>\n      <td>POINT (37.598968 55.791289)</td>\n      <td>55.791289</td>\n      <td>37.598968</td>\n      <td>97</td>\n    </tr>\n    <tr>\n      <th>66796</th>\n      <td>127055, Москва г, ул. Тихвинская, д. 3, корп. 1</td>\n      <td>01a3cfd9-65de-4712-b305-a8e9420a5576</td>\n      <td>УО</td>\n      <td>ГОСУДАРСТВЕННОЕ БЮДЖЕТНОЕ УЧРЕЖДЕНИЕ ГОРОДА МО...</td>\n      <td>Многоквартирный</td>\n      <td>Исправный</td>\n      <td>13540.5</td>\n      <td>11495.0</td>\n      <td>-</td>\n      <td>-</td>\n      <td>-</td>\n      <td>NaN</td>\n      <td>NaN</td>\n      <td>POINT (37.600882 55.785939)</td>\n      <td>55.785939</td>\n      <td>37.600882</td>\n      <td>97</td>\n    </tr>\n    <tr>\n      <th>66797</th>\n      <td>127055, Москва г, ул. Тихвинская, д. 7</td>\n      <td>7136e1b0-e4a6-44aa-a94d-ed4f956f561c</td>\n      <td>УО</td>\n      <td>ГОСУДАРСТВЕННОЕ БЮДЖЕТНОЕ УЧРЕЖДЕНИЕ ГОРОДА МО...</td>\n      <td>Многоквартирный</td>\n      <td>Исправный</td>\n      <td>2652.6</td>\n      <td>1948.0</td>\n      <td>-</td>\n      <td>-</td>\n      <td>-</td>\n      <td>NaN</td>\n      <td>NaN</td>\n      <td>POINT (37.600783 55.786779)</td>\n      <td>55.786779</td>\n      <td>37.600783</td>\n      <td>97</td>\n    </tr>\n    <tr>\n      <th>66798</th>\n      <td>127055, Москва г, ул. Тихвинская, д. 9</td>\n      <td>7ade45e2-1084-4c3a-8cc3-c4abc3129173</td>\n      <td>УО</td>\n      <td>ГОСУДАРСТВЕННОЕ БЮДЖЕТНОЕ УЧРЕЖДЕНИЕ ГОРОДА МО...</td>\n      <td>Многоквартирный</td>\n      <td>Исправный</td>\n      <td>5328.6</td>\n      <td>1241.0</td>\n      <td>-</td>\n      <td>-</td>\n      <td>-</td>\n      <td>NaN</td>\n      <td>NaN</td>\n      <td>POINT (37.600352 55.787275)</td>\n      <td>55.787275</td>\n      <td>37.600352</td>\n      <td>97</td>\n    </tr>\n    <tr>\n      <th>66799</th>\n      <td>127055, Москва г, ул. Тихвинская, д. 9А</td>\n      <td>4fc407a9-24ec-4d55-b13d-a6269022f478</td>\n      <td>УО</td>\n      <td>ГОСУДАРСТВЕННОЕ БЮДЖЕТНОЕ УЧРЕЖДЕНИЕ ГОРОДА МО...</td>\n      <td>Многоквартирный</td>\n      <td>Исправный</td>\n      <td>2503.2</td>\n      <td>2007.0</td>\n      <td>-</td>\n      <td>-</td>\n      <td>-</td>\n      <td>NaN</td>\n      <td>NaN</td>\n      <td>POINT (37.600415 55.787082)</td>\n      <td>55.787082</td>\n      <td>37.600415</td>\n      <td>97</td>\n    </tr>\n  </tbody>\n</table>\n<p>66800 rows × 17 columns</p>\n</div>"
     },
     "execution_count": 12,
     "metadata": {},
     "output_type": "execute_result"
    }
   ],
   "source": [
    "houses"
   ]
  },
  {
   "cell_type": "code",
   "execution_count": 13,
   "metadata": {},
   "outputs": [
    {
     "data": {
      "text/plain": "       area_num  cond_Аварийный  cond_Ветхий  cond_Исправный  dorm_federal_-  \\\n0             0               0            0               1               1   \n1             0               0            0               1               1   \n2             0               0            0               1               1   \n3             0               0            0               1               1   \n4             0               0            0               1               1   \n...         ...             ...          ...             ...             ...   \n66795        97               0            0               1               0   \n66796        97               0            0               1               1   \n66797        97               0            0               1               1   \n66798        97               0            0               1               1   \n66799        97               0            0               1               1   \n\n       dorm_federal_нет  dorm_municipal_-  dorm_municipal_да  \\\n0                     0                 1                  0   \n1                     0                 1                  0   \n2                     0                 1                  0   \n3                     0                 1                  0   \n4                     0                 1                  0   \n...                 ...               ...                ...   \n66795                 1                 0                  0   \n66796                 0                 1                  0   \n66797                 0                 1                  0   \n66798                 0                 1                  0   \n66799                 0                 1                  0   \n\n       dorm_municipal_нет  dorm_type_-  ...  \\\n0                       0            1  ...   \n1                       0            1  ...   \n2                       0            1  ...   \n3                       0            1  ...   \n4                       0            1  ...   \n...                   ...          ...  ...   \n66795                   1            1  ...   \n66796                   0            1  ...   \n66797                   0            1  ...   \n66798                   0            1  ...   \n66799                   0            1  ...   \n\n       lead_type_Непосредственное управление  lead_type_ТСЖ  lead_type_УО  \\\n0                                          0              0             0   \n1                                          0              0             0   \n2                                          0              0             0   \n3                                          0              0             0   \n4                                          0              0             0   \n...                                      ...            ...           ...   \n66795                                      0              0             1   \n66796                                      0              0             1   \n66797                                      0              0             1   \n66798                                      0              0             1   \n66799                                      0              0             1   \n\n       living_space        lon  room_type_Жилое    space  type_Жилой  \\\n0               0.0  37.189899                0      0.0           1   \n1               0.0  37.189899                0      0.0           1   \n2               0.0  37.189899                0      0.0           1   \n3               0.0  37.192896                0      0.0           1   \n4               0.0  37.189899                0      0.0           1   \n...             ...        ...              ...      ...         ...   \n66795       16519.0  37.598968                0  16519.0           0   \n66796       11495.0  37.600882                0  11495.0           0   \n66797        1948.0  37.600783                0   1948.0           0   \n66798        1241.0  37.600352                0   1241.0           0   \n66799        2007.0  37.600415                0   2007.0           0   \n\n       type_Жилой дом блокированной застройки  type_Многоквартирный  \n0                                           0                     0  \n1                                           0                     0  \n2                                           0                     0  \n3                                           0                     0  \n4                                           0                     0  \n...                                       ...                   ...  \n66795                                       0                     1  \n66796                                       0                     1  \n66797                                       0                     1  \n66798                                       0                     1  \n66799                                       0                     1  \n\n[66800 rows x 26 columns]",
      "text/html": "<div>\n<style scoped>\n    .dataframe tbody tr th:only-of-type {\n        vertical-align: middle;\n    }\n\n    .dataframe tbody tr th {\n        vertical-align: top;\n    }\n\n    .dataframe thead th {\n        text-align: right;\n    }\n</style>\n<table border=\"1\" class=\"dataframe\">\n  <thead>\n    <tr style=\"text-align: right;\">\n      <th></th>\n      <th>area_num</th>\n      <th>cond_Аварийный</th>\n      <th>cond_Ветхий</th>\n      <th>cond_Исправный</th>\n      <th>dorm_federal_-</th>\n      <th>dorm_federal_нет</th>\n      <th>dorm_municipal_-</th>\n      <th>dorm_municipal_да</th>\n      <th>dorm_municipal_нет</th>\n      <th>dorm_type_-</th>\n      <th>...</th>\n      <th>lead_type_Непосредственное управление</th>\n      <th>lead_type_ТСЖ</th>\n      <th>lead_type_УО</th>\n      <th>living_space</th>\n      <th>lon</th>\n      <th>room_type_Жилое</th>\n      <th>space</th>\n      <th>type_Жилой</th>\n      <th>type_Жилой дом блокированной застройки</th>\n      <th>type_Многоквартирный</th>\n    </tr>\n  </thead>\n  <tbody>\n    <tr>\n      <th>0</th>\n      <td>0</td>\n      <td>0</td>\n      <td>0</td>\n      <td>1</td>\n      <td>1</td>\n      <td>0</td>\n      <td>1</td>\n      <td>0</td>\n      <td>0</td>\n      <td>1</td>\n      <td>...</td>\n      <td>0</td>\n      <td>0</td>\n      <td>0</td>\n      <td>0.0</td>\n      <td>37.189899</td>\n      <td>0</td>\n      <td>0.0</td>\n      <td>1</td>\n      <td>0</td>\n      <td>0</td>\n    </tr>\n    <tr>\n      <th>1</th>\n      <td>0</td>\n      <td>0</td>\n      <td>0</td>\n      <td>1</td>\n      <td>1</td>\n      <td>0</td>\n      <td>1</td>\n      <td>0</td>\n      <td>0</td>\n      <td>1</td>\n      <td>...</td>\n      <td>0</td>\n      <td>0</td>\n      <td>0</td>\n      <td>0.0</td>\n      <td>37.189899</td>\n      <td>0</td>\n      <td>0.0</td>\n      <td>1</td>\n      <td>0</td>\n      <td>0</td>\n    </tr>\n    <tr>\n      <th>2</th>\n      <td>0</td>\n      <td>0</td>\n      <td>0</td>\n      <td>1</td>\n      <td>1</td>\n      <td>0</td>\n      <td>1</td>\n      <td>0</td>\n      <td>0</td>\n      <td>1</td>\n      <td>...</td>\n      <td>0</td>\n      <td>0</td>\n      <td>0</td>\n      <td>0.0</td>\n      <td>37.189899</td>\n      <td>0</td>\n      <td>0.0</td>\n      <td>1</td>\n      <td>0</td>\n      <td>0</td>\n    </tr>\n    <tr>\n      <th>3</th>\n      <td>0</td>\n      <td>0</td>\n      <td>0</td>\n      <td>1</td>\n      <td>1</td>\n      <td>0</td>\n      <td>1</td>\n      <td>0</td>\n      <td>0</td>\n      <td>1</td>\n      <td>...</td>\n      <td>0</td>\n      <td>0</td>\n      <td>0</td>\n      <td>0.0</td>\n      <td>37.192896</td>\n      <td>0</td>\n      <td>0.0</td>\n      <td>1</td>\n      <td>0</td>\n      <td>0</td>\n    </tr>\n    <tr>\n      <th>4</th>\n      <td>0</td>\n      <td>0</td>\n      <td>0</td>\n      <td>1</td>\n      <td>1</td>\n      <td>0</td>\n      <td>1</td>\n      <td>0</td>\n      <td>0</td>\n      <td>1</td>\n      <td>...</td>\n      <td>0</td>\n      <td>0</td>\n      <td>0</td>\n      <td>0.0</td>\n      <td>37.189899</td>\n      <td>0</td>\n      <td>0.0</td>\n      <td>1</td>\n      <td>0</td>\n      <td>0</td>\n    </tr>\n    <tr>\n      <th>...</th>\n      <td>...</td>\n      <td>...</td>\n      <td>...</td>\n      <td>...</td>\n      <td>...</td>\n      <td>...</td>\n      <td>...</td>\n      <td>...</td>\n      <td>...</td>\n      <td>...</td>\n      <td>...</td>\n      <td>...</td>\n      <td>...</td>\n      <td>...</td>\n      <td>...</td>\n      <td>...</td>\n      <td>...</td>\n      <td>...</td>\n      <td>...</td>\n      <td>...</td>\n      <td>...</td>\n    </tr>\n    <tr>\n      <th>66795</th>\n      <td>97</td>\n      <td>0</td>\n      <td>0</td>\n      <td>1</td>\n      <td>0</td>\n      <td>1</td>\n      <td>0</td>\n      <td>0</td>\n      <td>1</td>\n      <td>1</td>\n      <td>...</td>\n      <td>0</td>\n      <td>0</td>\n      <td>1</td>\n      <td>16519.0</td>\n      <td>37.598968</td>\n      <td>0</td>\n      <td>16519.0</td>\n      <td>0</td>\n      <td>0</td>\n      <td>1</td>\n    </tr>\n    <tr>\n      <th>66796</th>\n      <td>97</td>\n      <td>0</td>\n      <td>0</td>\n      <td>1</td>\n      <td>1</td>\n      <td>0</td>\n      <td>1</td>\n      <td>0</td>\n      <td>0</td>\n      <td>1</td>\n      <td>...</td>\n      <td>0</td>\n      <td>0</td>\n      <td>1</td>\n      <td>11495.0</td>\n      <td>37.600882</td>\n      <td>0</td>\n      <td>11495.0</td>\n      <td>0</td>\n      <td>0</td>\n      <td>1</td>\n    </tr>\n    <tr>\n      <th>66797</th>\n      <td>97</td>\n      <td>0</td>\n      <td>0</td>\n      <td>1</td>\n      <td>1</td>\n      <td>0</td>\n      <td>1</td>\n      <td>0</td>\n      <td>0</td>\n      <td>1</td>\n      <td>...</td>\n      <td>0</td>\n      <td>0</td>\n      <td>1</td>\n      <td>1948.0</td>\n      <td>37.600783</td>\n      <td>0</td>\n      <td>1948.0</td>\n      <td>0</td>\n      <td>0</td>\n      <td>1</td>\n    </tr>\n    <tr>\n      <th>66798</th>\n      <td>97</td>\n      <td>0</td>\n      <td>0</td>\n      <td>1</td>\n      <td>1</td>\n      <td>0</td>\n      <td>1</td>\n      <td>0</td>\n      <td>0</td>\n      <td>1</td>\n      <td>...</td>\n      <td>0</td>\n      <td>0</td>\n      <td>1</td>\n      <td>1241.0</td>\n      <td>37.600352</td>\n      <td>0</td>\n      <td>1241.0</td>\n      <td>0</td>\n      <td>0</td>\n      <td>1</td>\n    </tr>\n    <tr>\n      <th>66799</th>\n      <td>97</td>\n      <td>0</td>\n      <td>0</td>\n      <td>1</td>\n      <td>1</td>\n      <td>0</td>\n      <td>1</td>\n      <td>0</td>\n      <td>0</td>\n      <td>1</td>\n      <td>...</td>\n      <td>0</td>\n      <td>0</td>\n      <td>1</td>\n      <td>2007.0</td>\n      <td>37.600415</td>\n      <td>0</td>\n      <td>2007.0</td>\n      <td>0</td>\n      <td>0</td>\n      <td>1</td>\n    </tr>\n  </tbody>\n</table>\n<p>66800 rows × 26 columns</p>\n</div>"
     },
     "execution_count": 13,
     "metadata": {},
     "output_type": "execute_result"
    }
   ],
   "source": [
    "cut_houses = houses\n",
    "df_features = pd.get_dummies(cut_houses['lead_type'], prefix='lead_type')\n",
    "cut_houses = pd.concat([cut_houses, df_features], axis=1)\n",
    "\n",
    "df_features = pd.get_dummies(cut_houses['type'], prefix='type')\n",
    "cut_houses = pd.concat([cut_houses, df_features], axis=1)\n",
    "\n",
    "df_features = pd.get_dummies(cut_houses['cond'], prefix='cond')\n",
    "cut_houses = pd.concat([cut_houses, df_features], axis=1)\n",
    "\n",
    "df_features = pd.get_dummies(cut_houses['dorm_federal'], prefix='dorm_federal')\n",
    "cut_houses = pd.concat([cut_houses, df_features], axis=1)\n",
    "\n",
    "df_features = pd.get_dummies(cut_houses['dorm_municipal'], prefix='dorm_municipal')\n",
    "cut_houses = pd.concat([cut_houses, df_features], axis=1)\n",
    "\n",
    "df_features = pd.get_dummies(cut_houses['dorm_type'], prefix='dorm_type')\n",
    "cut_houses = pd.concat([cut_houses, df_features], axis=1)\n",
    "\n",
    "df_features = pd.get_dummies(cut_houses['room_type'], prefix='room_type')\n",
    "cut_houses = pd.concat([cut_houses, df_features], axis=1)\n",
    "\n",
    "cols =  ['area_num', 'cond_Аварийный', 'cond_Ветхий',\n",
    "        'cond_Исправный', 'dorm_federal_-',\n",
    "        'dorm_federal_нет',  'dorm_municipal_-',\n",
    "        'dorm_municipal_да', 'dorm_municipal_нет',  'dorm_type_-',\n",
    "        'dorm_type_Гостиничный', 'dorm_type_Коридорный',\n",
    "         'lat', 'lead_type_ЖК',\n",
    "        'lead_type_Иной кооператив', 'lead_type_Не выбран',\n",
    "        'lead_type_Непосредственное управление', 'lead_type_ТСЖ',\n",
    "        'lead_type_УО', 'living_space', 'lon', 'room_type_Жилое',\n",
    "        'space',  'type_Жилой', 'type_Жилой дом блокированной застройки',\n",
    "        'type_Многоквартирный']\n",
    "cut_houses = cut_houses[cols]\n",
    "cut_houses['living_space'] = cut_houses['living_space'].fillna(0)\n",
    "cut_houses['space'] = cut_houses['living_space'].fillna(0)\n",
    "\n",
    "cut_houses"
   ]
  },
  {
   "cell_type": "code",
   "execution_count": 14,
   "metadata": {},
   "outputs": [
    {
     "data": {
      "text/plain": "   area_num  cond_Аварийный  cond_Ветхий  cond_Исправный  dorm_federal_-  \\\n0         0               0            0               1               1   \n1         0               0            0               1               1   \n2         0               0            0               1               1   \n3         0               0            0               1               1   \n4         0               0            0               1               1   \n5         0               0            0               1               1   \n6         0               0            0               1               1   \n7         0               0            0               1               1   \n8         0               0            0               1               1   \n9         0               0            0               1               1   \n\n   dorm_federal_нет  dorm_municipal_-  dorm_municipal_да  dorm_municipal_нет  \\\n0                 0                 1                  0                   0   \n1                 0                 1                  0                   0   \n2                 0                 1                  0                   0   \n3                 0                 1                  0                   0   \n4                 0                 1                  0                   0   \n5                 0                 1                  0                   0   \n6                 0                 1                  0                   0   \n7                 0                 1                  0                   0   \n8                 0                 1                  0                   0   \n9                 0                 1                  0                   0   \n\n   dorm_type_-  ...  lead_type_ТСЖ  lead_type_УО  living_space        lon  \\\n0            1  ...              0             0           0.0  37.189899   \n1            1  ...              0             0           0.0  37.189899   \n2            1  ...              0             0           0.0  37.189899   \n3            1  ...              0             0           0.0  37.192896   \n4            1  ...              0             0           0.0  37.189899   \n5            1  ...              0             0           0.0  37.189899   \n6            1  ...              0             0           0.0  37.189899   \n7            1  ...              0             0           0.0  37.189899   \n8            1  ...              0             0           0.0  37.187625   \n9            1  ...              0             0           0.0  37.189899   \n\n   room_type_Жилое  space  type_Жилой  type_Жилой дом блокированной застройки  \\\n0                0    0.0           1                                       0   \n1                0    0.0           1                                       0   \n2                0    0.0           1                                       0   \n3                0    0.0           1                                       0   \n4                0    0.0           1                                       0   \n5                0    0.0           1                                       0   \n6                0    0.0           1                                       0   \n7                0    0.0           0                                       1   \n8                0    0.0           1                                       0   \n9                0    0.0           1                                       0   \n\n   type_Многоквартирный  cluster_label  \n0                     0              1  \n1                     0              1  \n2                     0              1  \n3                     0              1  \n4                     0              1  \n5                     0              1  \n6                     0              1  \n7                     0              1  \n8                     0              1  \n9                     0              1  \n\n[10 rows x 27 columns]",
      "text/html": "<div>\n<style scoped>\n    .dataframe tbody tr th:only-of-type {\n        vertical-align: middle;\n    }\n\n    .dataframe tbody tr th {\n        vertical-align: top;\n    }\n\n    .dataframe thead th {\n        text-align: right;\n    }\n</style>\n<table border=\"1\" class=\"dataframe\">\n  <thead>\n    <tr style=\"text-align: right;\">\n      <th></th>\n      <th>area_num</th>\n      <th>cond_Аварийный</th>\n      <th>cond_Ветхий</th>\n      <th>cond_Исправный</th>\n      <th>dorm_federal_-</th>\n      <th>dorm_federal_нет</th>\n      <th>dorm_municipal_-</th>\n      <th>dorm_municipal_да</th>\n      <th>dorm_municipal_нет</th>\n      <th>dorm_type_-</th>\n      <th>...</th>\n      <th>lead_type_ТСЖ</th>\n      <th>lead_type_УО</th>\n      <th>living_space</th>\n      <th>lon</th>\n      <th>room_type_Жилое</th>\n      <th>space</th>\n      <th>type_Жилой</th>\n      <th>type_Жилой дом блокированной застройки</th>\n      <th>type_Многоквартирный</th>\n      <th>cluster_label</th>\n    </tr>\n  </thead>\n  <tbody>\n    <tr>\n      <th>0</th>\n      <td>0</td>\n      <td>0</td>\n      <td>0</td>\n      <td>1</td>\n      <td>1</td>\n      <td>0</td>\n      <td>1</td>\n      <td>0</td>\n      <td>0</td>\n      <td>1</td>\n      <td>...</td>\n      <td>0</td>\n      <td>0</td>\n      <td>0.0</td>\n      <td>37.189899</td>\n      <td>0</td>\n      <td>0.0</td>\n      <td>1</td>\n      <td>0</td>\n      <td>0</td>\n      <td>1</td>\n    </tr>\n    <tr>\n      <th>1</th>\n      <td>0</td>\n      <td>0</td>\n      <td>0</td>\n      <td>1</td>\n      <td>1</td>\n      <td>0</td>\n      <td>1</td>\n      <td>0</td>\n      <td>0</td>\n      <td>1</td>\n      <td>...</td>\n      <td>0</td>\n      <td>0</td>\n      <td>0.0</td>\n      <td>37.189899</td>\n      <td>0</td>\n      <td>0.0</td>\n      <td>1</td>\n      <td>0</td>\n      <td>0</td>\n      <td>1</td>\n    </tr>\n    <tr>\n      <th>2</th>\n      <td>0</td>\n      <td>0</td>\n      <td>0</td>\n      <td>1</td>\n      <td>1</td>\n      <td>0</td>\n      <td>1</td>\n      <td>0</td>\n      <td>0</td>\n      <td>1</td>\n      <td>...</td>\n      <td>0</td>\n      <td>0</td>\n      <td>0.0</td>\n      <td>37.189899</td>\n      <td>0</td>\n      <td>0.0</td>\n      <td>1</td>\n      <td>0</td>\n      <td>0</td>\n      <td>1</td>\n    </tr>\n    <tr>\n      <th>3</th>\n      <td>0</td>\n      <td>0</td>\n      <td>0</td>\n      <td>1</td>\n      <td>1</td>\n      <td>0</td>\n      <td>1</td>\n      <td>0</td>\n      <td>0</td>\n      <td>1</td>\n      <td>...</td>\n      <td>0</td>\n      <td>0</td>\n      <td>0.0</td>\n      <td>37.192896</td>\n      <td>0</td>\n      <td>0.0</td>\n      <td>1</td>\n      <td>0</td>\n      <td>0</td>\n      <td>1</td>\n    </tr>\n    <tr>\n      <th>4</th>\n      <td>0</td>\n      <td>0</td>\n      <td>0</td>\n      <td>1</td>\n      <td>1</td>\n      <td>0</td>\n      <td>1</td>\n      <td>0</td>\n      <td>0</td>\n      <td>1</td>\n      <td>...</td>\n      <td>0</td>\n      <td>0</td>\n      <td>0.0</td>\n      <td>37.189899</td>\n      <td>0</td>\n      <td>0.0</td>\n      <td>1</td>\n      <td>0</td>\n      <td>0</td>\n      <td>1</td>\n    </tr>\n    <tr>\n      <th>5</th>\n      <td>0</td>\n      <td>0</td>\n      <td>0</td>\n      <td>1</td>\n      <td>1</td>\n      <td>0</td>\n      <td>1</td>\n      <td>0</td>\n      <td>0</td>\n      <td>1</td>\n      <td>...</td>\n      <td>0</td>\n      <td>0</td>\n      <td>0.0</td>\n      <td>37.189899</td>\n      <td>0</td>\n      <td>0.0</td>\n      <td>1</td>\n      <td>0</td>\n      <td>0</td>\n      <td>1</td>\n    </tr>\n    <tr>\n      <th>6</th>\n      <td>0</td>\n      <td>0</td>\n      <td>0</td>\n      <td>1</td>\n      <td>1</td>\n      <td>0</td>\n      <td>1</td>\n      <td>0</td>\n      <td>0</td>\n      <td>1</td>\n      <td>...</td>\n      <td>0</td>\n      <td>0</td>\n      <td>0.0</td>\n      <td>37.189899</td>\n      <td>0</td>\n      <td>0.0</td>\n      <td>1</td>\n      <td>0</td>\n      <td>0</td>\n      <td>1</td>\n    </tr>\n    <tr>\n      <th>7</th>\n      <td>0</td>\n      <td>0</td>\n      <td>0</td>\n      <td>1</td>\n      <td>1</td>\n      <td>0</td>\n      <td>1</td>\n      <td>0</td>\n      <td>0</td>\n      <td>1</td>\n      <td>...</td>\n      <td>0</td>\n      <td>0</td>\n      <td>0.0</td>\n      <td>37.189899</td>\n      <td>0</td>\n      <td>0.0</td>\n      <td>0</td>\n      <td>1</td>\n      <td>0</td>\n      <td>1</td>\n    </tr>\n    <tr>\n      <th>8</th>\n      <td>0</td>\n      <td>0</td>\n      <td>0</td>\n      <td>1</td>\n      <td>1</td>\n      <td>0</td>\n      <td>1</td>\n      <td>0</td>\n      <td>0</td>\n      <td>1</td>\n      <td>...</td>\n      <td>0</td>\n      <td>0</td>\n      <td>0.0</td>\n      <td>37.187625</td>\n      <td>0</td>\n      <td>0.0</td>\n      <td>1</td>\n      <td>0</td>\n      <td>0</td>\n      <td>1</td>\n    </tr>\n    <tr>\n      <th>9</th>\n      <td>0</td>\n      <td>0</td>\n      <td>0</td>\n      <td>1</td>\n      <td>1</td>\n      <td>0</td>\n      <td>1</td>\n      <td>0</td>\n      <td>0</td>\n      <td>1</td>\n      <td>...</td>\n      <td>0</td>\n      <td>0</td>\n      <td>0.0</td>\n      <td>37.189899</td>\n      <td>0</td>\n      <td>0.0</td>\n      <td>1</td>\n      <td>0</td>\n      <td>0</td>\n      <td>1</td>\n    </tr>\n  </tbody>\n</table>\n<p>10 rows × 27 columns</p>\n</div>"
     },
     "execution_count": 14,
     "metadata": {},
     "output_type": "execute_result"
    }
   ],
   "source": [
    "from sklearn.cluster import KMeans\n",
    "kmeans = KMeans(n_clusters = 7, init ='k-means++')\n",
    "kmeans.fit(cut_houses[cols]) # Compute k-means clustering.\n",
    "cut_houses['cluster_label'] = kmeans.fit_predict(cut_houses[cols])\n",
    "centers = kmeans.cluster_centers_ # Coordinates of cluster centers.\n",
    "labels = kmeans.predict(cut_houses[cols]) # Labels of each point\n",
    "\n",
    "cut_houses.head(10)"
   ]
  },
  {
   "cell_type": "code",
   "execution_count": 15,
   "outputs": [],
   "source": [
    "cut_houses.to_csv(\"kmeans.csv\")"
   ],
   "metadata": {
    "collapsed": false
   }
  }
 ],
 "metadata": {
  "kernelspec": {
   "display_name": "Python 3 (ipykernel)",
   "language": "python",
   "name": "python3"
  },
  "language_info": {
   "codemirror_mode": {
    "name": "ipython",
    "version": 3
   },
   "file_extension": ".py",
   "mimetype": "text/x-python",
   "name": "python",
   "nbconvert_exporter": "python",
   "pygments_lexer": "ipython3",
   "version": "3.11.2"
  }
 },
 "nbformat": 4,
 "nbformat_minor": 1
}
