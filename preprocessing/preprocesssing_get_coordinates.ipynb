{
 "cells": [
  {
   "cell_type": "markdown",
   "metadata": {},
   "source": [
    "\n",
    "# Get coordinates for houses from mow-reestr\n"
   ]
  },
  {
   "cell_type": "code",
   "execution_count": 5,
   "metadata": {},
   "outputs": [],
   "source": [
    "import json\n",
    "import requests"
   ]
  },
  {
   "cell_type": "code",
   "execution_count": 9,
   "metadata": {},
   "outputs": [],
   "source": [
    "import json\n",
    "import requests\n",
    "\n",
    "G_API_MAXIMUM = 0 #  бесплатный лимит\n",
    "google_api = \"\" # личный ключ\n",
    "google_url = \"https://maps.googleapis.com/maps/api/geocode/json?address=4/\"\n",
    "google_url_end = \"&key=\"\n",
    "\n",
    "yandex_api = \"\" # личный ключ\n",
    "Y_API_MAXIMUM = 999 #  бесплатный лимит\n",
    "yandex_url = \"https://geocode-maps.yandex.ru/1.x?format=json&geocode=\"\n",
    "yandex_url_end=\"&apikey=\"\n",
    "\n",
    "errors = \"data/mow-reestr-geom/mow_reestr_geom_ERRORS.csv\"\n"
   ]
  },
  {
   "cell_type": "code",
   "execution_count": 7,
   "metadata": {},
   "outputs": [],
   "source": [
    "def get_dirs(num):\n",
    "    return f'data/mow-reestr-geom/mow_reestr_geom_{num}.csv', f'data/mow-reestr-geom/mow_reestr_geom_{num}.csv'\n"
   ]
  },
  {
   "cell_type": "markdown",
   "metadata": {},
   "source": [
    "## Parsing using google:"
   ]
  },
  {
   "cell_type": "code",
   "execution_count": 10,
   "metadata": {},
   "outputs": [],
   "source": [
    "def get_coordinates_google(addr, num, line_num, requests_count):\n",
    "    \"\"\"\n",
    "    :param addr: адрес\n",
    "    :param num: номер файла для записи\n",
    "    :param line_num: номер строки\n",
    "    :param requests_count: счетчик запросов\n",
    "    :returns: долгота, широта, счетчик запросов\n",
    "    \"\"\"\n",
    "    try:\n",
    "        if requests_count == G_API_MAXIMUM:\n",
    "            print(\"limit exceeded \", num, \" line_num: \", line_num)\n",
    "            exit(0)\n",
    "        r = requests.get(google_url + addr + google_url_end + google_api)\n",
    "        resp = json.loads(r.text)\n",
    "\n",
    "        lon = resp[\"results\"][0][\"geometry\"][\"location\"][\"lng\"]\n",
    "        lat = resp[\"results\"][0][\"geometry\"][\"location\"][\"lat\"]\n",
    "        requests_count += 1\n",
    "        return lon, lat, requests_count\n",
    "    except:\n",
    "        print(\"error parsing \",num, \"line num \", line_num, \"addr \", addr)"
   ]
  },
  {
   "cell_type": "code",
   "execution_count": 13,
   "metadata": {},
   "outputs": [],
   "source": [
    "duplicates = set()\n",
    "\n",
    "def g_process_file(num, rc, sep=';'):\n",
    "    \"\"\"\n",
    "    :param num: номер файла для записи\n",
    "    :param rc: счетчик запросов\n",
    "    :param sep: разделитель csv\n",
    "    :returns: счетчик запросов\n",
    "    \"\"\"\n",
    "    print(\"start \", num)\n",
    "    input_file, output_file = get_dirs(num)\n",
    "    \n",
    "    out = open(output_file, 'a')\n",
    "    errors = open(errors, 'a')\n",
    "    with open(input_file) as f:\n",
    "        line_num = 0\n",
    "        for line in f:\n",
    "            if line_num == 0:\n",
    "                line_num += 1\n",
    "                out_line = line.replace(\"\\n\", \"\") + sep + \"lon\" + sep + \"lat\" + \"\\n\"\n",
    "                out.write(out_line)\n",
    "                continue\n",
    "\n",
    "            split_line = line.split(sep)\n",
    "            addr = split_line[0]\n",
    "            if addr not in duplicates:\n",
    "                form_addr = addr.replace(\"/\", \"%2F\")\n",
    "                form_addr = form_addr.replace(\" \", \"+\")\n",
    "                try:\n",
    "                    lon, lat, rc = get_coordinates_google(form_addr, num, line_num, rc)\n",
    "\n",
    "                    out_line = line.replace(\"\\n\", \"\") + sep + str(lon) + sep + str(lat)  + \"\\n\"\n",
    "                    out.write(out_line)\n",
    "                    duplicates.add(addr)\n",
    "                except:\n",
    "                    errors.write(line)\n",
    "\n",
    "            line_num += 1\n",
    "    print(\"end num \", num)\n",
    "    return rc\n"
   ]
  },
  {
   "cell_type": "markdown",
   "metadata": {},
   "source": [
    "## Parsing using yandex api"
   ]
  },
  {
   "cell_type": "code",
   "execution_count": 14,
   "metadata": {},
   "outputs": [],
   "source": [
    "\n",
    "def get_coordinates_yandex(addr, num, line_num, requests_count):\n",
    "    \"\"\"\n",
    "    :param addr: адрес\n",
    "    :param num: номер файла для записи\n",
    "    :param line_num: номер строки\n",
    "    :param requests_count: счетчик запросов\n",
    "    :returns: долгота, широта, счетчик запросов\n",
    "    \"\"\"\n",
    "    try:\n",
    "        if requests_count == Y_API_MAXIMUM:\n",
    "            print(\"limit exceeded \", num, \" line_num: \", line_num)\n",
    "            exit(0)\n",
    "        r = requests.get(yandex_url + addr + yandex_url_end + yandex_api)\n",
    "        resp=json.loads(r.text)\n",
    "\n",
    "        form = resp[\"response\"][\"GeoObjectCollection\"][\"featureMember\"][0][\"GeoObject\"][\"Point\"][\"pos\"].split()\n",
    "        lon=float(form[0])\n",
    "        lat=float(form[1])\n",
    "        requests_count += 1\n",
    "        return lon,lat, requests_count\n",
    "\n",
    "    except:\n",
    "        print(\"error parsing \",num, \"line num \", line_num, \"addr \", addr)\n",
    "\n"
   ]
  },
  {
   "cell_type": "code",
   "execution_count": 64,
   "metadata": {},
   "outputs": [],
   "source": [
    "\n",
    "\n",
    "def y_process_file(num, strt, rc, sep=';'):\n",
    "    \"\"\"\n",
    "    :param num: номер файла для записи\n",
    "    :param rc: счетчик запросов\n",
    "    :param sep: разделитель csv\n",
    "    :returns: счетчик запросов\n",
    "    \"\"\"\n",
    "    print(\"start \", num)\n",
    "    out = open(output_file, 'a')\n",
    "    errors = open(errors, 'a')\n",
    "    input_file, output_file = get_dirs(num)\n",
    "    with open(input_file) as f:\n",
    "        line_num = 0\n",
    "        for line in f:\n",
    "            if line_num > strt:\n",
    "                if line_num == 0:\n",
    "                    line_num += 1\n",
    "                    out_line = line.replace(\"\\n\", \"\") + sep + \"lon\" + sep + \"lat\" + \"\\n\"\n",
    "                    out.write(out_line)\n",
    "                    continue\n",
    "                split_line = line.split(sep)\n",
    "                addr = split_line[0]\n",
    "                if addr not in duplicates:\n",
    "                    form_addr = addr.replace(\"/\", \"%2F\")\n",
    "                    form_addr = form_addr.replace(\" \", \"+\")\n",
    "                    try:\n",
    "                        lon, lat, rc = get_coordinates_yandex(form_addr, num, line_num, rc)\n",
    "\n",
    "                        out_line = line.replace(\"\\n\", \"\") + sep + str(lon) + sep + str(lat)  + \"\\n\"\n",
    "                        out.write(out_line)\n",
    "                        duplicates.add(addr)\n",
    "                    except:\n",
    "                        errors.write(line)\n",
    "\n",
    "            line_num += 1\n",
    "    print(\"end num \", num)\n",
    "    return rc"
   ]
  },
  {
   "cell_type": "markdown",
   "metadata": {},
   "source": [
    "Кода, вызывающего функции, нет, так как данные парсились много дней, а параметры для функций зависили от ошибок "
   ]
  },
  {
   "cell_type": "code",
   "execution_count": null,
   "metadata": {},
   "outputs": [],
   "source": []
  }
 ],
 "metadata": {
  "kernelspec": {
   "display_name": "Python 3 (ipykernel)",
   "language": "python",
   "name": "python3"
  },
  "language_info": {
   "codemirror_mode": {
    "name": "ipython",
    "version": 3
   },
   "file_extension": ".py",
   "mimetype": "text/x-python",
   "name": "python",
   "nbconvert_exporter": "python",
   "pygments_lexer": "ipython3",
   "version": "3.11.2"
  }
 },
 "nbformat": 4,
 "nbformat_minor": 1
}
