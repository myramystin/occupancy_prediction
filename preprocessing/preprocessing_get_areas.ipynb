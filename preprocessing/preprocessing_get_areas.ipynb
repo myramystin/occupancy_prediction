{
 "cells": [
  {
   "cell_type": "code",
   "execution_count": 181,
   "metadata": {
    "collapsed": true
   },
   "outputs": [],
   "source": [
    "import requests, json\n",
    "import pandas as pd\n",
    "import geopandas as gpd\n",
    "from shapely.geometry import Point, Polygon\n",
    "from bs4 import BeautifulSoup\n",
    "\n"
   ]
  },
  {
   "cell_type": "code",
   "execution_count": 182,
   "metadata": {},
   "outputs": [
    {
     "data": {
      "text/html": [
       "<div>\n",
       "<style scoped>\n",
       "    .dataframe tbody tr th:only-of-type {\n",
       "        vertical-align: middle;\n",
       "    }\n",
       "\n",
       "    .dataframe tbody tr th {\n",
       "        vertical-align: top;\n",
       "    }\n",
       "\n",
       "    .dataframe thead th {\n",
       "        text-align: right;\n",
       "    }\n",
       "</style>\n",
       "<table border=\"1\" class=\"dataframe\">\n",
       "  <thead>\n",
       "    <tr style=\"text-align: right;\">\n",
       "      <th></th>\n",
       "      <th>district_code</th>\n",
       "      <th>area_name</th>\n",
       "      <th>population</th>\n",
       "    </tr>\n",
       "  </thead>\n",
       "  <tbody>\n",
       "    <tr>\n",
       "      <th>0</th>\n",
       "      <td>tso</td>\n",
       "      <td>Арбат</td>\n",
       "      <td>35796</td>\n",
       "    </tr>\n",
       "    <tr>\n",
       "      <th>1</th>\n",
       "      <td>tso</td>\n",
       "      <td>Басманный</td>\n",
       "      <td>110928</td>\n",
       "    </tr>\n",
       "    <tr>\n",
       "      <th>2</th>\n",
       "      <td>tso</td>\n",
       "      <td>Замоскворечье</td>\n",
       "      <td>58665</td>\n",
       "    </tr>\n",
       "    <tr>\n",
       "      <th>3</th>\n",
       "      <td>tso</td>\n",
       "      <td>Красносельский</td>\n",
       "      <td>47865</td>\n",
       "    </tr>\n",
       "    <tr>\n",
       "      <th>4</th>\n",
       "      <td>tso</td>\n",
       "      <td>Мещанский</td>\n",
       "      <td>60044</td>\n",
       "    </tr>\n",
       "  </tbody>\n",
       "</table>\n",
       "</div>"
      ],
      "text/plain": [
       "  district_code       area_name  population\n",
       "0           tso           Арбат       35796\n",
       "1           tso       Басманный      110928\n",
       "2           tso   Замоскворечье       58665\n",
       "3           tso  Красносельский       47865\n",
       "4           tso       Мещанский       60044"
      ]
     },
     "execution_count": 182,
     "metadata": {},
     "output_type": "execute_result"
    }
   ],
   "source": [
    "# old dataset:\n",
    "areas_to_pop = pd.read_csv(\"data/mow-areas-pop.csv\", sep=\";\")\n",
    "areas_to_pop = areas_to_pop[[\"district_code\", \"area_name\", \"population\"]]\n",
    "\n",
    "areas_to_pop.head()"
   ]
  },
  {
   "cell_type": "code",
   "execution_count": 184,
   "metadata": {},
   "outputs": [],
   "source": [
    "areas_lst  = list()\n",
    "\n",
    "with open('data/osm-mow.json', 'r') as fcc_file:\n",
    "    fcc_data = json.load(fcc_file)\n",
    "    areas = fcc_data['address']\n",
    "    for area in areas:\n",
    "        if area['admin_level'] == 8:\n",
    "            areas_lst.append(area)\n"
   ]
  },
  {
   "cell_type": "code",
   "execution_count": 185,
   "metadata": {},
   "outputs": [],
   "source": [
    "boundary_link = 'https://www.openstreetmap.org/relation/'\n",
    "way_link = \"https://www.openstreetmap.org/way/\"\n",
    "node_link = \"https://www.openstreetmap.org/node/\""
   ]
  },
  {
   "cell_type": "code",
   "execution_count": 186,
   "metadata": {},
   "outputs": [],
   "source": [
    "def parse_data(data):\n",
    "    \"\"\"\n",
    "    :param data: район из osm-файла\n",
    "    :returns: координаты\n",
    "    \"\"\"\n",
    "    points = []\n",
    "    def parse_id(l):\n",
    "        for i in range(len(l) - 1, -1, -1):\n",
    "            if l[i].isnumeric():\n",
    "                return l[i]\n",
    "            if len(l[i]) > 2:\n",
    "                rm_braces = l[i][1:len(l[i]) - 1]\n",
    "                if rm_braces.isnumeric():\n",
    "                    return rm_braces\n",
    "\n",
    "    def parse_node(node_id):\n",
    "        node = requests.get(node_link + node_id).text\n",
    "        soup = BeautifulSoup(node, \"html.parser\")\n",
    "        lon = soup.findAll('span', class_ = 'longitude')[0].text\n",
    "        lat = soup.findAll('span', class_ = 'latitude')[0].text\n",
    "        points.append(Point(float(lon), float(lat)))\n",
    "\n",
    "\n",
    "    def parse_way(way_id):\n",
    "        way = requests.get(way_link + way_id).text\n",
    "        soup = BeautifulSoup(way, \"html.parser\")\n",
    "        all_nodes = soup.findAll('a', class_='node')\n",
    "        for node in all_nodes:\n",
    "            text = node.text.split()\n",
    "            node_id = parse_id(text)\n",
    "            parse_node(node_id)\n",
    "\n",
    "    relation = requests.get(boundary_link + str(data[\"osm_id\"])).text\n",
    "    soup = BeautifulSoup(relation, \"html.parser\")\n",
    "    all_ways = soup.findAll('li', class_='way')\n",
    "    for way in all_ways:\n",
    "        text = way.text.split()\n",
    "        way_id = parse_id(text)\n",
    "        parse_way(way_id)\n",
    "\n",
    "    return points\n",
    "\n"
   ]
  },
  {
   "cell_type": "code",
   "execution_count": 187,
   "metadata": {},
   "outputs": [],
   "source": [
    "def build_poly(points):\n",
    "    \"\"\"\n",
    "    :param points: точки\n",
    "    :returns: многоугольник Shapely\n",
    "    \"\"\"\n",
    "    poly = Polygon([[p.x, p.y] for p in points])\n",
    "    return poly"
   ]
  },
  {
   "cell_type": "code",
   "execution_count": 189,
   "metadata": {},
   "outputs": [],
   "source": [
    "result_df = pd.DataFrame(columns=[\"district_code\", \"area_name\", \"population\", \"geometry\"])\n",
    "\n"
   ]
  },
  {
   "cell_type": "code",
   "execution_count": 190,
   "metadata": {
    "scrolled": false
   },
   "outputs": [
    {
     "name": "stdout",
     "output_type": "stream",
     "text": [
      "['Арбат', 'Басманный', 'Замоскворечье', 'Красносельский', 'Мещанский', 'Пресненский', 'Таганский', 'Тверской', 'Хамовники', 'Якиманка']\n",
      "Якиманка\n"
     ]
    },
    {
     "name": "stderr",
     "output_type": "stream",
     "text": [
      "/var/folders/xq/qzhlj_357vs3kfkjsn1vg4rm0000gn/T/ipykernel_94469/1947325506.py:22: SettingWithCopyWarning: \n",
      "A value is trying to be set on a copy of a slice from a DataFrame.\n",
      "Try using .loc[row_indexer,col_indexer] = value instead\n",
      "\n",
      "See the caveats in the documentation: https://pandas.pydata.org/pandas-docs/stable/user_guide/indexing.html#returning-a-view-versus-a-copy\n",
      "  areas_to_pop_line.loc[:, \"geometry\"] = area_poly\n",
      "/var/folders/xq/qzhlj_357vs3kfkjsn1vg4rm0000gn/T/ipykernel_94469/1947325506.py:23: FutureWarning: The frame.append method is deprecated and will be removed from pandas in a future version. Use pandas.concat instead.\n",
      "  result_df = result_df.append(areas_to_pop_line, ignore_index=True)\n"
     ]
    },
    {
     "name": "stdout",
     "output_type": "stream",
     "text": [
      "1\n",
      "Арбат\n"
     ]
    },
    {
     "name": "stderr",
     "output_type": "stream",
     "text": [
      "/var/folders/xq/qzhlj_357vs3kfkjsn1vg4rm0000gn/T/ipykernel_94469/1947325506.py:22: SettingWithCopyWarning: \n",
      "A value is trying to be set on a copy of a slice from a DataFrame.\n",
      "Try using .loc[row_indexer,col_indexer] = value instead\n",
      "\n",
      "See the caveats in the documentation: https://pandas.pydata.org/pandas-docs/stable/user_guide/indexing.html#returning-a-view-versus-a-copy\n",
      "  areas_to_pop_line.loc[:, \"geometry\"] = area_poly\n",
      "/var/folders/xq/qzhlj_357vs3kfkjsn1vg4rm0000gn/T/ipykernel_94469/1947325506.py:23: FutureWarning: The frame.append method is deprecated and will be removed from pandas in a future version. Use pandas.concat instead.\n",
      "  result_df = result_df.append(areas_to_pop_line, ignore_index=True)\n"
     ]
    },
    {
     "name": "stdout",
     "output_type": "stream",
     "text": [
      "2\n",
      "Басманный\n"
     ]
    },
    {
     "name": "stderr",
     "output_type": "stream",
     "text": [
      "/var/folders/xq/qzhlj_357vs3kfkjsn1vg4rm0000gn/T/ipykernel_94469/1947325506.py:22: SettingWithCopyWarning: \n",
      "A value is trying to be set on a copy of a slice from a DataFrame.\n",
      "Try using .loc[row_indexer,col_indexer] = value instead\n",
      "\n",
      "See the caveats in the documentation: https://pandas.pydata.org/pandas-docs/stable/user_guide/indexing.html#returning-a-view-versus-a-copy\n",
      "  areas_to_pop_line.loc[:, \"geometry\"] = area_poly\n",
      "/var/folders/xq/qzhlj_357vs3kfkjsn1vg4rm0000gn/T/ipykernel_94469/1947325506.py:23: FutureWarning: The frame.append method is deprecated and will be removed from pandas in a future version. Use pandas.concat instead.\n",
      "  result_df = result_df.append(areas_to_pop_line, ignore_index=True)\n"
     ]
    },
    {
     "name": "stdout",
     "output_type": "stream",
     "text": [
      "3\n",
      "Замоскворечье\n"
     ]
    },
    {
     "name": "stderr",
     "output_type": "stream",
     "text": [
      "/var/folders/xq/qzhlj_357vs3kfkjsn1vg4rm0000gn/T/ipykernel_94469/1947325506.py:22: SettingWithCopyWarning: \n",
      "A value is trying to be set on a copy of a slice from a DataFrame.\n",
      "Try using .loc[row_indexer,col_indexer] = value instead\n",
      "\n",
      "See the caveats in the documentation: https://pandas.pydata.org/pandas-docs/stable/user_guide/indexing.html#returning-a-view-versus-a-copy\n",
      "  areas_to_pop_line.loc[:, \"geometry\"] = area_poly\n",
      "/var/folders/xq/qzhlj_357vs3kfkjsn1vg4rm0000gn/T/ipykernel_94469/1947325506.py:23: FutureWarning: The frame.append method is deprecated and will be removed from pandas in a future version. Use pandas.concat instead.\n",
      "  result_df = result_df.append(areas_to_pop_line, ignore_index=True)\n"
     ]
    },
    {
     "name": "stdout",
     "output_type": "stream",
     "text": [
      "4\n",
      "Красносельский\n"
     ]
    },
    {
     "name": "stderr",
     "output_type": "stream",
     "text": [
      "/var/folders/xq/qzhlj_357vs3kfkjsn1vg4rm0000gn/T/ipykernel_94469/1947325506.py:22: SettingWithCopyWarning: \n",
      "A value is trying to be set on a copy of a slice from a DataFrame.\n",
      "Try using .loc[row_indexer,col_indexer] = value instead\n",
      "\n",
      "See the caveats in the documentation: https://pandas.pydata.org/pandas-docs/stable/user_guide/indexing.html#returning-a-view-versus-a-copy\n",
      "  areas_to_pop_line.loc[:, \"geometry\"] = area_poly\n",
      "/var/folders/xq/qzhlj_357vs3kfkjsn1vg4rm0000gn/T/ipykernel_94469/1947325506.py:23: FutureWarning: The frame.append method is deprecated and will be removed from pandas in a future version. Use pandas.concat instead.\n",
      "  result_df = result_df.append(areas_to_pop_line, ignore_index=True)\n"
     ]
    },
    {
     "name": "stdout",
     "output_type": "stream",
     "text": [
      "5\n",
      "Мещанский\n"
     ]
    },
    {
     "name": "stderr",
     "output_type": "stream",
     "text": [
      "/var/folders/xq/qzhlj_357vs3kfkjsn1vg4rm0000gn/T/ipykernel_94469/1947325506.py:22: SettingWithCopyWarning: \n",
      "A value is trying to be set on a copy of a slice from a DataFrame.\n",
      "Try using .loc[row_indexer,col_indexer] = value instead\n",
      "\n",
      "See the caveats in the documentation: https://pandas.pydata.org/pandas-docs/stable/user_guide/indexing.html#returning-a-view-versus-a-copy\n",
      "  areas_to_pop_line.loc[:, \"geometry\"] = area_poly\n",
      "/var/folders/xq/qzhlj_357vs3kfkjsn1vg4rm0000gn/T/ipykernel_94469/1947325506.py:23: FutureWarning: The frame.append method is deprecated and will be removed from pandas in a future version. Use pandas.concat instead.\n",
      "  result_df = result_df.append(areas_to_pop_line, ignore_index=True)\n"
     ]
    },
    {
     "name": "stdout",
     "output_type": "stream",
     "text": [
      "6\n",
      "Пресненский\n"
     ]
    },
    {
     "name": "stderr",
     "output_type": "stream",
     "text": [
      "/var/folders/xq/qzhlj_357vs3kfkjsn1vg4rm0000gn/T/ipykernel_94469/1947325506.py:22: SettingWithCopyWarning: \n",
      "A value is trying to be set on a copy of a slice from a DataFrame.\n",
      "Try using .loc[row_indexer,col_indexer] = value instead\n",
      "\n",
      "See the caveats in the documentation: https://pandas.pydata.org/pandas-docs/stable/user_guide/indexing.html#returning-a-view-versus-a-copy\n",
      "  areas_to_pop_line.loc[:, \"geometry\"] = area_poly\n",
      "/var/folders/xq/qzhlj_357vs3kfkjsn1vg4rm0000gn/T/ipykernel_94469/1947325506.py:23: FutureWarning: The frame.append method is deprecated and will be removed from pandas in a future version. Use pandas.concat instead.\n",
      "  result_df = result_df.append(areas_to_pop_line, ignore_index=True)\n"
     ]
    },
    {
     "name": "stdout",
     "output_type": "stream",
     "text": [
      "7\n",
      "Таганский\n"
     ]
    },
    {
     "name": "stderr",
     "output_type": "stream",
     "text": [
      "/var/folders/xq/qzhlj_357vs3kfkjsn1vg4rm0000gn/T/ipykernel_94469/1947325506.py:22: SettingWithCopyWarning: \n",
      "A value is trying to be set on a copy of a slice from a DataFrame.\n",
      "Try using .loc[row_indexer,col_indexer] = value instead\n",
      "\n",
      "See the caveats in the documentation: https://pandas.pydata.org/pandas-docs/stable/user_guide/indexing.html#returning-a-view-versus-a-copy\n",
      "  areas_to_pop_line.loc[:, \"geometry\"] = area_poly\n",
      "/var/folders/xq/qzhlj_357vs3kfkjsn1vg4rm0000gn/T/ipykernel_94469/1947325506.py:23: FutureWarning: The frame.append method is deprecated and will be removed from pandas in a future version. Use pandas.concat instead.\n",
      "  result_df = result_df.append(areas_to_pop_line, ignore_index=True)\n"
     ]
    },
    {
     "name": "stdout",
     "output_type": "stream",
     "text": [
      "8\n",
      "Тверской\n"
     ]
    },
    {
     "name": "stderr",
     "output_type": "stream",
     "text": [
      "/var/folders/xq/qzhlj_357vs3kfkjsn1vg4rm0000gn/T/ipykernel_94469/1947325506.py:22: SettingWithCopyWarning: \n",
      "A value is trying to be set on a copy of a slice from a DataFrame.\n",
      "Try using .loc[row_indexer,col_indexer] = value instead\n",
      "\n",
      "See the caveats in the documentation: https://pandas.pydata.org/pandas-docs/stable/user_guide/indexing.html#returning-a-view-versus-a-copy\n",
      "  areas_to_pop_line.loc[:, \"geometry\"] = area_poly\n",
      "/var/folders/xq/qzhlj_357vs3kfkjsn1vg4rm0000gn/T/ipykernel_94469/1947325506.py:23: FutureWarning: The frame.append method is deprecated and will be removed from pandas in a future version. Use pandas.concat instead.\n",
      "  result_df = result_df.append(areas_to_pop_line, ignore_index=True)\n"
     ]
    },
    {
     "name": "stdout",
     "output_type": "stream",
     "text": [
      "9\n",
      "Хамовники\n",
      "10\n"
     ]
    },
    {
     "name": "stderr",
     "output_type": "stream",
     "text": [
      "/var/folders/xq/qzhlj_357vs3kfkjsn1vg4rm0000gn/T/ipykernel_94469/1947325506.py:22: SettingWithCopyWarning: \n",
      "A value is trying to be set on a copy of a slice from a DataFrame.\n",
      "Try using .loc[row_indexer,col_indexer] = value instead\n",
      "\n",
      "See the caveats in the documentation: https://pandas.pydata.org/pandas-docs/stable/user_guide/indexing.html#returning-a-view-versus-a-copy\n",
      "  areas_to_pop_line.loc[:, \"geometry\"] = area_poly\n",
      "/var/folders/xq/qzhlj_357vs3kfkjsn1vg4rm0000gn/T/ipykernel_94469/1947325506.py:23: FutureWarning: The frame.append method is deprecated and will be removed from pandas in a future version. Use pandas.concat instead.\n",
      "  result_df = result_df.append(areas_to_pop_line, ignore_index=True)\n"
     ]
    }
   ],
   "source": [
    "cnt = 0\n",
    "errors = []\n",
    "names = list(areas_to_pop['area_name'])\n",
    "print(names)\n",
    "for area in areas_lst:\n",
    "    name = area['localname'].split()\n",
    "    if 'район' in name:\n",
    "        name.remove('район')\n",
    "    if 'поселение' in name:\n",
    "        name.remove('поселение')\n",
    "    name = \" \".join(name)\n",
    "    print(name)\n",
    "    if name not in names:\n",
    "        cnt += 1\n",
    "        errors.append(name)\n",
    "        print(\"pass\", name, cnt)\n",
    "        continue\n",
    "    try:\n",
    "        areas_to_pop_line = areas_to_pop.loc[areas_to_pop['area_name'] == name]\n",
    "        area_points = parse_data(area)\n",
    "        area_poly = build_poly(area_points)\n",
    "        areas_to_pop_line.loc[:, \"geometry\"] = area_poly\n",
    "        result_df = result_df.append(areas_to_pop_line, ignore_index=True)\n",
    "    except Exception as e:\n",
    "        print(\"error parsing\", name)\n",
    "        errors.append(name)\n",
    "    cnt += 1\n",
    "    print(cnt)\n",
    "\n",
    "\n",
    "result_df.to_csv(\"data/mow-areas-pop-geom.csv\", index=True)"
   ]
  }
 ],
 "metadata": {
  "kernelspec": {
   "display_name": "Python 3 (ipykernel)",
   "language": "python",
   "name": "python3"
  },
  "language_info": {
   "codemirror_mode": {
    "name": "ipython",
    "version": 3
   },
   "file_extension": ".py",
   "mimetype": "text/x-python",
   "name": "python",
   "nbconvert_exporter": "python",
   "pygments_lexer": "ipython3",
   "version": "3.11.2"
  }
 },
 "nbformat": 4,
 "nbformat_minor": 1
}
