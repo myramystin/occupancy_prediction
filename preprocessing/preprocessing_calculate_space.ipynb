{
 "cells": [
  {
   "cell_type": "code",
   "execution_count": 51,
   "metadata": {
    "collapsed": true
   },
   "outputs": [],
   "source": [
    "import geopandas as gpd\n",
    "import pandas as pd\n",
    "from shapely.geometry import Polygon, Point\n",
    "\n"
   ]
  },
  {
   "cell_type": "code",
   "execution_count": 52,
   "metadata": {},
   "outputs": [
    {
     "data": {
      "text/html": [
       "<div>\n",
       "<style scoped>\n",
       "    .dataframe tbody tr th:only-of-type {\n",
       "        vertical-align: middle;\n",
       "    }\n",
       "\n",
       "    .dataframe tbody tr th {\n",
       "        vertical-align: top;\n",
       "    }\n",
       "\n",
       "    .dataframe thead th {\n",
       "        text-align: right;\n",
       "    }\n",
       "</style>\n",
       "<table border=\"1\" class=\"dataframe\">\n",
       "  <thead>\n",
       "    <tr style=\"text-align: right;\">\n",
       "      <th></th>\n",
       "      <th>field_1</th>\n",
       "      <th>district_code</th>\n",
       "      <th>area_name</th>\n",
       "      <th>population</th>\n",
       "      <th>geometry</th>\n",
       "      <th>space</th>\n",
       "      <th>living_space</th>\n",
       "    </tr>\n",
       "  </thead>\n",
       "  <tbody>\n",
       "    <tr>\n",
       "      <th>0</th>\n",
       "      <td>0</td>\n",
       "      <td>zo</td>\n",
       "      <td>Внуково</td>\n",
       "      <td>24687</td>\n",
       "      <td>POLYGON ((37.24580 55.60191, 37.24185 55.59705...</td>\n",
       "      <td>0.0</td>\n",
       "      <td>0.0</td>\n",
       "    </tr>\n",
       "    <tr>\n",
       "      <th>1</th>\n",
       "      <td>1</td>\n",
       "      <td>vo</td>\n",
       "      <td>Восточный</td>\n",
       "      <td>13503</td>\n",
       "      <td>POLYGON ((37.87250 55.82207, 37.87380 55.82000...</td>\n",
       "      <td>0.0</td>\n",
       "      <td>0.0</td>\n",
       "    </tr>\n",
       "    <tr>\n",
       "      <th>2</th>\n",
       "      <td>2</td>\n",
       "      <td>zo</td>\n",
       "      <td>Можайский</td>\n",
       "      <td>137634</td>\n",
       "      <td>POLYGON ((37.33076 55.68532, 37.32943 55.68579...</td>\n",
       "      <td>0.0</td>\n",
       "      <td>0.0</td>\n",
       "    </tr>\n",
       "    <tr>\n",
       "      <th>3</th>\n",
       "      <td>3</td>\n",
       "      <td>svo</td>\n",
       "      <td>Бибирево</td>\n",
       "      <td>158939</td>\n",
       "      <td>POLYGON ((37.64407 55.89770, 37.63561 55.89368...</td>\n",
       "      <td>0.0</td>\n",
       "      <td>0.0</td>\n",
       "    </tr>\n",
       "    <tr>\n",
       "      <th>4</th>\n",
       "      <td>4</td>\n",
       "      <td>vo</td>\n",
       "      <td>Богородское</td>\n",
       "      <td>110049</td>\n",
       "      <td>POLYGON ((37.68745 55.81677, 37.68782 55.81691...</td>\n",
       "      <td>0.0</td>\n",
       "      <td>0.0</td>\n",
       "    </tr>\n",
       "  </tbody>\n",
       "</table>\n",
       "</div>"
      ],
      "text/plain": [
       "  field_1 district_code    area_name population  \\\n",
       "0       0            zo      Внуково      24687   \n",
       "1       1            vo    Восточный      13503   \n",
       "2       2            zo    Можайский     137634   \n",
       "3       3           svo     Бибирево     158939   \n",
       "4       4            vo  Богородское     110049   \n",
       "\n",
       "                                            geometry  space  living_space  \n",
       "0  POLYGON ((37.24580 55.60191, 37.24185 55.59705...    0.0           0.0  \n",
       "1  POLYGON ((37.87250 55.82207, 37.87380 55.82000...    0.0           0.0  \n",
       "2  POLYGON ((37.33076 55.68532, 37.32943 55.68579...    0.0           0.0  \n",
       "3  POLYGON ((37.64407 55.89770, 37.63561 55.89368...    0.0           0.0  \n",
       "4  POLYGON ((37.68745 55.81677, 37.68782 55.81691...    0.0           0.0  "
      ]
     },
     "execution_count": 52,
     "metadata": {},
     "output_type": "execute_result"
    }
   ],
   "source": [
    "areas_pop_geom = gpd.read_file('data/new_data/mow-areas-pop-geom-final.csv',GEOM_POSSIBLE_NAMES=\"geometry\", KEEP_GEOM_COLUMNS=\"NO\")\n",
    "areas_pop_geom['space'] = [0. for _ in range(areas_pop_geom.shape[0])]\n",
    "areas_pop_geom['living_space'] = [0. for _ in range(areas_pop_geom.shape[0])]\n",
    "areas_pop_geom.head()"
   ]
  },
  {
   "cell_type": "code",
   "execution_count": 53,
   "metadata": {},
   "outputs": [],
   "source": [
    "areas_to_space = dict()"
   ]
  },
  {
   "cell_type": "code",
   "execution_count": 64,
   "metadata": {},
   "outputs": [
    {
     "name": "stdout",
     "output_type": "stream",
     "text": [
      "Index(['Адрес ОЖФ', 'Идентификационный код адреса дома в ГИС ЖКХ',\n",
      "       'Глобальный уникальный идентификатор дома по ФИАС', 'Код ОКТМО',\n",
      "       'Способ управления',\n",
      "       'ОГРН организации, осуществляющей управление домом',\n",
      "       'КПП организации, осуществляющей управление домом',\n",
      "       'Наименование организации, осуществляющей управление домом', 'Тип дома',\n",
      "       'Состояние', 'Общая площадь дома', 'Жилая площадь в доме',\n",
      "       'Дом находится в собственности субъекта Российской Федерации и в полном объеме используется в качестве общежития',\n",
      "       'Дом находится в муниципальной собственности и в полном объеме используется в качестве общежития',\n",
      "       'Тип общежития', 'Тип помещения (блока)', 'Дата сноса объекта',\n",
      "       'Номер помещения (блока)', 'Номер комнаты', 'Кадастровый номер',\n",
      "       'Глобальный уникальный идентификатор дома',\n",
      "       'Глобальный уникальный идентификатор помещения',\n",
      "       'Глобальный уникальный идентификатор комнаты', 'lon', 'lat', 'area_num',\n",
      "       'geometry'],\n",
      "      dtype='object')\n"
     ]
    }
   ],
   "source": [
    "houses_curr_pd = pd.read_csv('data/mow-reestr-geom/mow_reestr_geom_' + str(1) + '.csv', sep=';')\n",
    "houses_curr_pd['area_num'] = [-1 for _ in range(houses_curr_pd.shape[0])]\n",
    "houses_curr = gpd.GeoDataFrame(houses_curr_pd, geometry=gpd.GeoSeries.from_xy(houses_curr_pd['lon'], houses_curr_pd['lat']), crs=4326)\n",
    "cols = houses_curr.columns\n",
    "print(cols)"
   ]
  },
  {
   "cell_type": "code",
   "execution_count": 71,
   "metadata": {},
   "outputs": [
    {
     "name": "stdout",
     "output_type": "stream",
     "text": [
      "0 Внуково\n"
     ]
    },
    {
     "name": "stderr",
     "output_type": "stream",
     "text": [
      "/var/folders/xq/qzhlj_357vs3kfkjsn1vg4rm0000gn/T/ipykernel_71103/1392985403.py:24: DtypeWarning: Columns (18,22) have mixed types. Specify dtype option on import or set low_memory=False.\n",
      "  houses_curr_pd = pd.read_csv('data/mow-reestr-geom/mow_reestr_geom_' + str(i) + '.csv', sep=';')\n"
     ]
    },
    {
     "name": "stdout",
     "output_type": "stream",
     "text": [
      "819\n",
      "1 Восточный\n"
     ]
    },
    {
     "name": "stderr",
     "output_type": "stream",
     "text": [
      "/var/folders/xq/qzhlj_357vs3kfkjsn1vg4rm0000gn/T/ipykernel_71103/1392985403.py:24: DtypeWarning: Columns (18,22) have mixed types. Specify dtype option on import or set low_memory=False.\n",
      "  houses_curr_pd = pd.read_csv('data/mow-reestr-geom/mow_reestr_geom_' + str(i) + '.csv', sep=';')\n"
     ]
    },
    {
     "name": "stdout",
     "output_type": "stream",
     "text": [
      "26\n",
      "2 Можайский\n"
     ]
    },
    {
     "name": "stderr",
     "output_type": "stream",
     "text": [
      "/var/folders/xq/qzhlj_357vs3kfkjsn1vg4rm0000gn/T/ipykernel_71103/1392985403.py:24: DtypeWarning: Columns (18,22) have mixed types. Specify dtype option on import or set low_memory=False.\n",
      "  houses_curr_pd = pd.read_csv('data/mow-reestr-geom/mow_reestr_geom_' + str(i) + '.csv', sep=';')\n"
     ]
    },
    {
     "name": "stdout",
     "output_type": "stream",
     "text": [
      "582\n",
      "3 Бибирево\n"
     ]
    },
    {
     "name": "stderr",
     "output_type": "stream",
     "text": [
      "/var/folders/xq/qzhlj_357vs3kfkjsn1vg4rm0000gn/T/ipykernel_71103/1392985403.py:24: DtypeWarning: Columns (18,22) have mixed types. Specify dtype option on import or set low_memory=False.\n",
      "  houses_curr_pd = pd.read_csv('data/mow-reestr-geom/mow_reestr_geom_' + str(i) + '.csv', sep=';')\n"
     ]
    },
    {
     "name": "stdout",
     "output_type": "stream",
     "text": [
      "209\n",
      "4 Богородское\n"
     ]
    },
    {
     "name": "stderr",
     "output_type": "stream",
     "text": [
      "/var/folders/xq/qzhlj_357vs3kfkjsn1vg4rm0000gn/T/ipykernel_71103/1392985403.py:24: DtypeWarning: Columns (18,22) have mixed types. Specify dtype option on import or set low_memory=False.\n",
      "  houses_curr_pd = pd.read_csv('data/mow-reestr-geom/mow_reestr_geom_' + str(i) + '.csv', sep=';')\n"
     ]
    },
    {
     "name": "stdout",
     "output_type": "stream",
     "text": [
      "409\n",
      "5 Братеево\n"
     ]
    },
    {
     "name": "stderr",
     "output_type": "stream",
     "text": [
      "/var/folders/xq/qzhlj_357vs3kfkjsn1vg4rm0000gn/T/ipykernel_71103/1392985403.py:24: DtypeWarning: Columns (18,22) have mixed types. Specify dtype option on import or set low_memory=False.\n",
      "  houses_curr_pd = pd.read_csv('data/mow-reestr-geom/mow_reestr_geom_' + str(i) + '.csv', sep=';')\n"
     ]
    },
    {
     "name": "stdout",
     "output_type": "stream",
     "text": [
      "109\n",
      "6 Коптево\n"
     ]
    },
    {
     "name": "stderr",
     "output_type": "stream",
     "text": [
      "/var/folders/xq/qzhlj_357vs3kfkjsn1vg4rm0000gn/T/ipykernel_71103/1392985403.py:24: DtypeWarning: Columns (18,22) have mixed types. Specify dtype option on import or set low_memory=False.\n",
      "  houses_curr_pd = pd.read_csv('data/mow-reestr-geom/mow_reestr_geom_' + str(i) + '.csv', sep=';')\n"
     ]
    },
    {
     "name": "stdout",
     "output_type": "stream",
     "text": [
      "387\n",
      "7 Крылатское\n"
     ]
    },
    {
     "name": "stderr",
     "output_type": "stream",
     "text": [
      "/var/folders/xq/qzhlj_357vs3kfkjsn1vg4rm0000gn/T/ipykernel_71103/1392985403.py:24: DtypeWarning: Columns (18,22) have mixed types. Specify dtype option on import or set low_memory=False.\n",
      "  houses_curr_pd = pd.read_csv('data/mow-reestr-geom/mow_reestr_geom_' + str(i) + '.csv', sep=';')\n"
     ]
    },
    {
     "name": "stdout",
     "output_type": "stream",
     "text": [
      "186\n",
      "8 Некрасовка\n"
     ]
    },
    {
     "name": "stderr",
     "output_type": "stream",
     "text": [
      "/var/folders/xq/qzhlj_357vs3kfkjsn1vg4rm0000gn/T/ipykernel_71103/1392985403.py:24: DtypeWarning: Columns (18,22) have mixed types. Specify dtype option on import or set low_memory=False.\n",
      "  houses_curr_pd = pd.read_csv('data/mow-reestr-geom/mow_reestr_geom_' + str(i) + '.csv', sep=';')\n"
     ]
    },
    {
     "name": "stdout",
     "output_type": "stream",
     "text": [
      "175\n",
      "9 Проспект Вернадского\n"
     ]
    },
    {
     "name": "stderr",
     "output_type": "stream",
     "text": [
      "/var/folders/xq/qzhlj_357vs3kfkjsn1vg4rm0000gn/T/ipykernel_71103/1392985403.py:24: DtypeWarning: Columns (18,22) have mixed types. Specify dtype option on import or set low_memory=False.\n",
      "  houses_curr_pd = pd.read_csv('data/mow-reestr-geom/mow_reestr_geom_' + str(i) + '.csv', sep=';')\n"
     ]
    },
    {
     "name": "stdout",
     "output_type": "stream",
     "text": [
      "204\n",
      "10 Ростокино\n"
     ]
    },
    {
     "name": "stderr",
     "output_type": "stream",
     "text": [
      "/var/folders/xq/qzhlj_357vs3kfkjsn1vg4rm0000gn/T/ipykernel_71103/1392985403.py:24: DtypeWarning: Columns (18,22) have mixed types. Specify dtype option on import or set low_memory=False.\n",
      "  houses_curr_pd = pd.read_csv('data/mow-reestr-geom/mow_reestr_geom_' + str(i) + '.csv', sep=';')\n"
     ]
    },
    {
     "name": "stdout",
     "output_type": "stream",
     "text": [
      "154\n",
      "11 Свиблово\n"
     ]
    },
    {
     "name": "stderr",
     "output_type": "stream",
     "text": [
      "/var/folders/xq/qzhlj_357vs3kfkjsn1vg4rm0000gn/T/ipykernel_71103/1392985403.py:24: DtypeWarning: Columns (18,22) have mixed types. Specify dtype option on import or set low_memory=False.\n",
      "  houses_curr_pd = pd.read_csv('data/mow-reestr-geom/mow_reestr_geom_' + str(i) + '.csv', sep=';')\n"
     ]
    },
    {
     "name": "stdout",
     "output_type": "stream",
     "text": [
      "184\n",
      "12 Северный\n"
     ]
    },
    {
     "name": "stderr",
     "output_type": "stream",
     "text": [
      "/var/folders/xq/qzhlj_357vs3kfkjsn1vg4rm0000gn/T/ipykernel_71103/1392985403.py:24: DtypeWarning: Columns (18,22) have mixed types. Specify dtype option on import or set low_memory=False.\n",
      "  houses_curr_pd = pd.read_csv('data/mow-reestr-geom/mow_reestr_geom_' + str(i) + '.csv', sep=';')\n"
     ]
    },
    {
     "name": "stdout",
     "output_type": "stream",
     "text": [
      "505\n",
      "13 Сокольники\n"
     ]
    },
    {
     "name": "stderr",
     "output_type": "stream",
     "text": [
      "/var/folders/xq/qzhlj_357vs3kfkjsn1vg4rm0000gn/T/ipykernel_71103/1392985403.py:24: DtypeWarning: Columns (18,22) have mixed types. Specify dtype option on import or set low_memory=False.\n",
      "  houses_curr_pd = pd.read_csv('data/mow-reestr-geom/mow_reestr_geom_' + str(i) + '.csv', sep=';')\n"
     ]
    },
    {
     "name": "stdout",
     "output_type": "stream",
     "text": [
      "210\n",
      "14 Академический\n"
     ]
    },
    {
     "name": "stderr",
     "output_type": "stream",
     "text": [
      "/var/folders/xq/qzhlj_357vs3kfkjsn1vg4rm0000gn/T/ipykernel_71103/1392985403.py:24: DtypeWarning: Columns (18,22) have mixed types. Specify dtype option on import or set low_memory=False.\n",
      "  houses_curr_pd = pd.read_csv('data/mow-reestr-geom/mow_reestr_geom_' + str(i) + '.csv', sep=';')\n"
     ]
    },
    {
     "name": "stdout",
     "output_type": "stream",
     "text": [
      "181\n",
      "15 Алексеевский\n"
     ]
    },
    {
     "name": "stderr",
     "output_type": "stream",
     "text": [
      "/var/folders/xq/qzhlj_357vs3kfkjsn1vg4rm0000gn/T/ipykernel_71103/1392985403.py:24: DtypeWarning: Columns (18,22) have mixed types. Specify dtype option on import or set low_memory=False.\n",
      "  houses_curr_pd = pd.read_csv('data/mow-reestr-geom/mow_reestr_geom_' + str(i) + '.csv', sep=';')\n"
     ]
    },
    {
     "name": "stdout",
     "output_type": "stream",
     "text": [
      "255\n",
      "16 Алтуфьевский\n"
     ]
    },
    {
     "name": "stderr",
     "output_type": "stream",
     "text": [
      "/var/folders/xq/qzhlj_357vs3kfkjsn1vg4rm0000gn/T/ipykernel_71103/1392985403.py:24: DtypeWarning: Columns (18,22) have mixed types. Specify dtype option on import or set low_memory=False.\n",
      "  houses_curr_pd = pd.read_csv('data/mow-reestr-geom/mow_reestr_geom_' + str(i) + '.csv', sep=';')\n"
     ]
    },
    {
     "name": "stdout",
     "output_type": "stream",
     "text": [
      "55\n",
      "17 Бабушкинский\n"
     ]
    },
    {
     "name": "stderr",
     "output_type": "stream",
     "text": [
      "/var/folders/xq/qzhlj_357vs3kfkjsn1vg4rm0000gn/T/ipykernel_71103/1392985403.py:24: DtypeWarning: Columns (18,22) have mixed types. Specify dtype option on import or set low_memory=False.\n",
      "  houses_curr_pd = pd.read_csv('data/mow-reestr-geom/mow_reestr_geom_' + str(i) + '.csv', sep=';')\n"
     ]
    },
    {
     "name": "stdout",
     "output_type": "stream",
     "text": [
      "298\n",
      "18 Бутырский\n"
     ]
    },
    {
     "name": "stderr",
     "output_type": "stream",
     "text": [
      "/var/folders/xq/qzhlj_357vs3kfkjsn1vg4rm0000gn/T/ipykernel_71103/1392985403.py:24: DtypeWarning: Columns (18,22) have mixed types. Specify dtype option on import or set low_memory=False.\n",
      "  houses_curr_pd = pd.read_csv('data/mow-reestr-geom/mow_reestr_geom_' + str(i) + '.csv', sep=';')\n"
     ]
    },
    {
     "name": "stdout",
     "output_type": "stream",
     "text": [
      "54\n",
      "19 Войковский\n"
     ]
    },
    {
     "name": "stderr",
     "output_type": "stream",
     "text": [
      "/var/folders/xq/qzhlj_357vs3kfkjsn1vg4rm0000gn/T/ipykernel_71103/1392985403.py:24: DtypeWarning: Columns (18,22) have mixed types. Specify dtype option on import or set low_memory=False.\n",
      "  houses_curr_pd = pd.read_csv('data/mow-reestr-geom/mow_reestr_geom_' + str(i) + '.csv', sep=';')\n"
     ]
    },
    {
     "name": "stdout",
     "output_type": "stream",
     "text": [
      "272\n",
      "20 Головинский\n"
     ]
    },
    {
     "name": "stderr",
     "output_type": "stream",
     "text": [
      "/var/folders/xq/qzhlj_357vs3kfkjsn1vg4rm0000gn/T/ipykernel_71103/1392985403.py:24: DtypeWarning: Columns (18,22) have mixed types. Specify dtype option on import or set low_memory=False.\n",
      "  houses_curr_pd = pd.read_csv('data/mow-reestr-geom/mow_reestr_geom_' + str(i) + '.csv', sep=';')\n"
     ]
    },
    {
     "name": "stdout",
     "output_type": "stream",
     "text": [
      "279\n",
      "21 Лосиноостровский\n"
     ]
    },
    {
     "name": "stderr",
     "output_type": "stream",
     "text": [
      "/var/folders/xq/qzhlj_357vs3kfkjsn1vg4rm0000gn/T/ipykernel_71103/1392985403.py:24: DtypeWarning: Columns (18,22) have mixed types. Specify dtype option on import or set low_memory=False.\n",
      "  houses_curr_pd = pd.read_csv('data/mow-reestr-geom/mow_reestr_geom_' + str(i) + '.csv', sep=';')\n"
     ]
    },
    {
     "name": "stdout",
     "output_type": "stream",
     "text": [
      "262\n",
      "22 Молжаниновский\n"
     ]
    },
    {
     "name": "stderr",
     "output_type": "stream",
     "text": [
      "/var/folders/xq/qzhlj_357vs3kfkjsn1vg4rm0000gn/T/ipykernel_71103/1392985403.py:24: DtypeWarning: Columns (18,22) have mixed types. Specify dtype option on import or set low_memory=False.\n",
      "  houses_curr_pd = pd.read_csv('data/mow-reestr-geom/mow_reestr_geom_' + str(i) + '.csv', sep=';')\n"
     ]
    },
    {
     "name": "stdout",
     "output_type": "stream",
     "text": [
      "623\n",
      "23 Нагорный\n"
     ]
    },
    {
     "name": "stderr",
     "output_type": "stream",
     "text": [
      "/var/folders/xq/qzhlj_357vs3kfkjsn1vg4rm0000gn/T/ipykernel_71103/1392985403.py:24: DtypeWarning: Columns (18,22) have mixed types. Specify dtype option on import or set low_memory=False.\n",
      "  houses_curr_pd = pd.read_csv('data/mow-reestr-geom/mow_reestr_geom_' + str(i) + '.csv', sep=';')\n"
     ]
    },
    {
     "name": "stdout",
     "output_type": "stream",
     "text": [
      "222\n",
      "24 Нижегородский\n"
     ]
    },
    {
     "name": "stderr",
     "output_type": "stream",
     "text": [
      "/var/folders/xq/qzhlj_357vs3kfkjsn1vg4rm0000gn/T/ipykernel_71103/1392985403.py:24: DtypeWarning: Columns (18,22) have mixed types. Specify dtype option on import or set low_memory=False.\n",
      "  houses_curr_pd = pd.read_csv('data/mow-reestr-geom/mow_reestr_geom_' + str(i) + '.csv', sep=';')\n"
     ]
    },
    {
     "name": "stdout",
     "output_type": "stream",
     "text": [
      "184\n",
      "25 Ново-Переделкино\n"
     ]
    },
    {
     "name": "stderr",
     "output_type": "stream",
     "text": [
      "/var/folders/xq/qzhlj_357vs3kfkjsn1vg4rm0000gn/T/ipykernel_71103/1392985403.py:24: DtypeWarning: Columns (18,22) have mixed types. Specify dtype option on import or set low_memory=False.\n",
      "  houses_curr_pd = pd.read_csv('data/mow-reestr-geom/mow_reestr_geom_' + str(i) + '.csv', sep=';')\n"
     ]
    },
    {
     "name": "stdout",
     "output_type": "stream",
     "text": [
      "459\n",
      "26 Обручевский\n"
     ]
    },
    {
     "name": "stderr",
     "output_type": "stream",
     "text": [
      "/var/folders/xq/qzhlj_357vs3kfkjsn1vg4rm0000gn/T/ipykernel_71103/1392985403.py:24: DtypeWarning: Columns (18,22) have mixed types. Specify dtype option on import or set low_memory=False.\n",
      "  houses_curr_pd = pd.read_csv('data/mow-reestr-geom/mow_reestr_geom_' + str(i) + '.csv', sep=';')\n"
     ]
    },
    {
     "name": "stdout",
     "output_type": "stream",
     "text": [
      "163\n",
      "27 Беговой\n"
     ]
    },
    {
     "name": "stderr",
     "output_type": "stream",
     "text": [
      "/var/folders/xq/qzhlj_357vs3kfkjsn1vg4rm0000gn/T/ipykernel_71103/1392985403.py:24: DtypeWarning: Columns (18,22) have mixed types. Specify dtype option on import or set low_memory=False.\n",
      "  houses_curr_pd = pd.read_csv('data/mow-reestr-geom/mow_reestr_geom_' + str(i) + '.csv', sep=';')\n"
     ]
    },
    {
     "name": "stdout",
     "output_type": "stream",
     "text": [
      "231\n",
      "28 Бирюлёво Восточное\n"
     ]
    },
    {
     "name": "stderr",
     "output_type": "stream",
     "text": [
      "/var/folders/xq/qzhlj_357vs3kfkjsn1vg4rm0000gn/T/ipykernel_71103/1392985403.py:24: DtypeWarning: Columns (18,22) have mixed types. Specify dtype option on import or set low_memory=False.\n",
      "  houses_curr_pd = pd.read_csv('data/mow-reestr-geom/mow_reestr_geom_' + str(i) + '.csv', sep=';')\n"
     ]
    },
    {
     "name": "stdout",
     "output_type": "stream",
     "text": [
      "56\n",
      "29 Бирюлёво Западное\n"
     ]
    },
    {
     "name": "stderr",
     "output_type": "stream",
     "text": [
      "/var/folders/xq/qzhlj_357vs3kfkjsn1vg4rm0000gn/T/ipykernel_71103/1392985403.py:24: DtypeWarning: Columns (18,22) have mixed types. Specify dtype option on import or set low_memory=False.\n",
      "  houses_curr_pd = pd.read_csv('data/mow-reestr-geom/mow_reestr_geom_' + str(i) + '.csv', sep=';')\n"
     ]
    },
    {
     "name": "stdout",
     "output_type": "stream",
     "text": [
      "91\n",
      "30 Вешняки\n"
     ]
    },
    {
     "name": "stderr",
     "output_type": "stream",
     "text": [
      "/var/folders/xq/qzhlj_357vs3kfkjsn1vg4rm0000gn/T/ipykernel_71103/1392985403.py:24: DtypeWarning: Columns (18,22) have mixed types. Specify dtype option on import or set low_memory=False.\n",
      "  houses_curr_pd = pd.read_csv('data/mow-reestr-geom/mow_reestr_geom_' + str(i) + '.csv', sep=';')\n"
     ]
    },
    {
     "name": "stdout",
     "output_type": "stream",
     "text": [
      "219\n",
      "31 Восточное Дегунино\n"
     ]
    },
    {
     "name": "stderr",
     "output_type": "stream",
     "text": [
      "/var/folders/xq/qzhlj_357vs3kfkjsn1vg4rm0000gn/T/ipykernel_71103/1392985403.py:24: DtypeWarning: Columns (18,22) have mixed types. Specify dtype option on import or set low_memory=False.\n",
      "  houses_curr_pd = pd.read_csv('data/mow-reestr-geom/mow_reestr_geom_' + str(i) + '.csv', sep=';')\n"
     ]
    },
    {
     "name": "stdout",
     "output_type": "stream",
     "text": [
      "125\n",
      "32 Дорогомилово\n"
     ]
    },
    {
     "name": "stderr",
     "output_type": "stream",
     "text": [
      "/var/folders/xq/qzhlj_357vs3kfkjsn1vg4rm0000gn/T/ipykernel_71103/1392985403.py:24: DtypeWarning: Columns (18,22) have mixed types. Specify dtype option on import or set low_memory=False.\n",
      "  houses_curr_pd = pd.read_csv('data/mow-reestr-geom/mow_reestr_geom_' + str(i) + '.csv', sep=';')\n"
     ]
    },
    {
     "name": "stdout",
     "output_type": "stream",
     "text": [
      "240\n",
      "33 Зюзино\n"
     ]
    },
    {
     "name": "stderr",
     "output_type": "stream",
     "text": [
      "/var/folders/xq/qzhlj_357vs3kfkjsn1vg4rm0000gn/T/ipykernel_71103/1392985403.py:24: DtypeWarning: Columns (18,22) have mixed types. Specify dtype option on import or set low_memory=False.\n",
      "  houses_curr_pd = pd.read_csv('data/mow-reestr-geom/mow_reestr_geom_' + str(i) + '.csv', sep=';')\n"
     ]
    },
    {
     "name": "stdout",
     "output_type": "stream",
     "text": [
      "286\n",
      "34 Капотня\n"
     ]
    },
    {
     "name": "stderr",
     "output_type": "stream",
     "text": [
      "/var/folders/xq/qzhlj_357vs3kfkjsn1vg4rm0000gn/T/ipykernel_71103/1392985403.py:24: DtypeWarning: Columns (18,22) have mixed types. Specify dtype option on import or set low_memory=False.\n",
      "  houses_curr_pd = pd.read_csv('data/mow-reestr-geom/mow_reestr_geom_' + str(i) + '.csv', sep=';')\n"
     ]
    },
    {
     "name": "stdout",
     "output_type": "stream",
     "text": [
      "57\n",
      "35 Косино-Ухтомский\n"
     ]
    },
    {
     "name": "stderr",
     "output_type": "stream",
     "text": [
      "/var/folders/xq/qzhlj_357vs3kfkjsn1vg4rm0000gn/T/ipykernel_71103/1392985403.py:24: DtypeWarning: Columns (18,22) have mixed types. Specify dtype option on import or set low_memory=False.\n",
      "  houses_curr_pd = pd.read_csv('data/mow-reestr-geom/mow_reestr_geom_' + str(i) + '.csv', sep=';')\n"
     ]
    },
    {
     "name": "stdout",
     "output_type": "stream",
     "text": [
      "1023\n",
      "36 Котловка\n"
     ]
    },
    {
     "name": "stderr",
     "output_type": "stream",
     "text": [
      "/var/folders/xq/qzhlj_357vs3kfkjsn1vg4rm0000gn/T/ipykernel_71103/1392985403.py:24: DtypeWarning: Columns (18,22) have mixed types. Specify dtype option on import or set low_memory=False.\n",
      "  houses_curr_pd = pd.read_csv('data/mow-reestr-geom/mow_reestr_geom_' + str(i) + '.csv', sep=';')\n"
     ]
    },
    {
     "name": "stdout",
     "output_type": "stream",
     "text": [
      "230\n",
      "37 Кузьминки\n"
     ]
    },
    {
     "name": "stderr",
     "output_type": "stream",
     "text": [
      "/var/folders/xq/qzhlj_357vs3kfkjsn1vg4rm0000gn/T/ipykernel_71103/1392985403.py:24: DtypeWarning: Columns (18,22) have mixed types. Specify dtype option on import or set low_memory=False.\n",
      "  houses_curr_pd = pd.read_csv('data/mow-reestr-geom/mow_reestr_geom_' + str(i) + '.csv', sep=';')\n"
     ]
    },
    {
     "name": "stdout",
     "output_type": "stream",
     "text": [
      "478\n",
      "38 Кунцево\n"
     ]
    },
    {
     "name": "stderr",
     "output_type": "stream",
     "text": [
      "/var/folders/xq/qzhlj_357vs3kfkjsn1vg4rm0000gn/T/ipykernel_71103/1392985403.py:24: DtypeWarning: Columns (18,22) have mixed types. Specify dtype option on import or set low_memory=False.\n",
      "  houses_curr_pd = pd.read_csv('data/mow-reestr-geom/mow_reestr_geom_' + str(i) + '.csv', sep=';')\n"
     ]
    },
    {
     "name": "stdout",
     "output_type": "stream",
     "text": [
      "509\n",
      "39 Куркино\n"
     ]
    },
    {
     "name": "stderr",
     "output_type": "stream",
     "text": [
      "/var/folders/xq/qzhlj_357vs3kfkjsn1vg4rm0000gn/T/ipykernel_71103/1392985403.py:24: DtypeWarning: Columns (18,22) have mixed types. Specify dtype option on import or set low_memory=False.\n",
      "  houses_curr_pd = pd.read_csv('data/mow-reestr-geom/mow_reestr_geom_' + str(i) + '.csv', sep=';')\n"
     ]
    },
    {
     "name": "stdout",
     "output_type": "stream",
     "text": [
      "546\n",
      "40 Лефортово\n"
     ]
    },
    {
     "name": "stderr",
     "output_type": "stream",
     "text": [
      "/var/folders/xq/qzhlj_357vs3kfkjsn1vg4rm0000gn/T/ipykernel_71103/1392985403.py:24: DtypeWarning: Columns (18,22) have mixed types. Specify dtype option on import or set low_memory=False.\n",
      "  houses_curr_pd = pd.read_csv('data/mow-reestr-geom/mow_reestr_geom_' + str(i) + '.csv', sep=';')\n"
     ]
    },
    {
     "name": "stdout",
     "output_type": "stream",
     "text": [
      "283\n",
      "41 Лианозово\n"
     ]
    },
    {
     "name": "stderr",
     "output_type": "stream",
     "text": [
      "/var/folders/xq/qzhlj_357vs3kfkjsn1vg4rm0000gn/T/ipykernel_71103/1392985403.py:24: DtypeWarning: Columns (18,22) have mixed types. Specify dtype option on import or set low_memory=False.\n",
      "  houses_curr_pd = pd.read_csv('data/mow-reestr-geom/mow_reestr_geom_' + str(i) + '.csv', sep=';')\n"
     ]
    },
    {
     "name": "stdout",
     "output_type": "stream",
     "text": [
      "234\n",
      "42 Люблино\n"
     ]
    },
    {
     "name": "stderr",
     "output_type": "stream",
     "text": [
      "/var/folders/xq/qzhlj_357vs3kfkjsn1vg4rm0000gn/T/ipykernel_71103/1392985403.py:24: DtypeWarning: Columns (18,22) have mixed types. Specify dtype option on import or set low_memory=False.\n",
      "  houses_curr_pd = pd.read_csv('data/mow-reestr-geom/mow_reestr_geom_' + str(i) + '.csv', sep=';')\n"
     ]
    },
    {
     "name": "stdout",
     "output_type": "stream",
     "text": [
      "504\n",
      "43 Марьино\n"
     ]
    },
    {
     "name": "stderr",
     "output_type": "stream",
     "text": [
      "/var/folders/xq/qzhlj_357vs3kfkjsn1vg4rm0000gn/T/ipykernel_71103/1392985403.py:24: DtypeWarning: Columns (18,22) have mixed types. Specify dtype option on import or set low_memory=False.\n",
      "  houses_curr_pd = pd.read_csv('data/mow-reestr-geom/mow_reestr_geom_' + str(i) + '.csv', sep=';')\n"
     ]
    },
    {
     "name": "stdout",
     "output_type": "stream",
     "text": [
      "295\n",
      "44 Матушкино\n"
     ]
    },
    {
     "name": "stderr",
     "output_type": "stream",
     "text": [
      "/var/folders/xq/qzhlj_357vs3kfkjsn1vg4rm0000gn/T/ipykernel_71103/1392985403.py:24: DtypeWarning: Columns (18,22) have mixed types. Specify dtype option on import or set low_memory=False.\n",
      "  houses_curr_pd = pd.read_csv('data/mow-reestr-geom/mow_reestr_geom_' + str(i) + '.csv', sep=';')\n"
     ]
    },
    {
     "name": "stdout",
     "output_type": "stream",
     "text": [
      "10\n",
      "45 Метрогородок\n"
     ]
    },
    {
     "name": "stderr",
     "output_type": "stream",
     "text": [
      "/var/folders/xq/qzhlj_357vs3kfkjsn1vg4rm0000gn/T/ipykernel_71103/1392985403.py:24: DtypeWarning: Columns (18,22) have mixed types. Specify dtype option on import or set low_memory=False.\n",
      "  houses_curr_pd = pd.read_csv('data/mow-reestr-geom/mow_reestr_geom_' + str(i) + '.csv', sep=';')\n"
     ]
    },
    {
     "name": "stdout",
     "output_type": "stream",
     "text": [
      "160\n",
      "46 Митино\n"
     ]
    },
    {
     "name": "stderr",
     "output_type": "stream",
     "text": [
      "/var/folders/xq/qzhlj_357vs3kfkjsn1vg4rm0000gn/T/ipykernel_71103/1392985403.py:24: DtypeWarning: Columns (18,22) have mixed types. Specify dtype option on import or set low_memory=False.\n",
      "  houses_curr_pd = pd.read_csv('data/mow-reestr-geom/mow_reestr_geom_' + str(i) + '.csv', sep=';')\n"
     ]
    },
    {
     "name": "stdout",
     "output_type": "stream",
     "text": [
      "464\n",
      "47 Нагатинский Затон\n"
     ]
    },
    {
     "name": "stderr",
     "output_type": "stream",
     "text": [
      "/var/folders/xq/qzhlj_357vs3kfkjsn1vg4rm0000gn/T/ipykernel_71103/1392985403.py:24: DtypeWarning: Columns (18,22) have mixed types. Specify dtype option on import or set low_memory=False.\n",
      "  houses_curr_pd = pd.read_csv('data/mow-reestr-geom/mow_reestr_geom_' + str(i) + '.csv', sep=';')\n"
     ]
    },
    {
     "name": "stdout",
     "output_type": "stream",
     "text": [
      "258\n",
      "48 Новогиреево\n"
     ]
    },
    {
     "name": "stderr",
     "output_type": "stream",
     "text": [
      "/var/folders/xq/qzhlj_357vs3kfkjsn1vg4rm0000gn/T/ipykernel_71103/1392985403.py:24: DtypeWarning: Columns (18,22) have mixed types. Specify dtype option on import or set low_memory=False.\n",
      "  houses_curr_pd = pd.read_csv('data/mow-reestr-geom/mow_reestr_geom_' + str(i) + '.csv', sep=';')\n"
     ]
    },
    {
     "name": "stdout",
     "output_type": "stream",
     "text": [
      "348\n",
      "49 Новокосино\n"
     ]
    },
    {
     "name": "stderr",
     "output_type": "stream",
     "text": [
      "/var/folders/xq/qzhlj_357vs3kfkjsn1vg4rm0000gn/T/ipykernel_71103/1392985403.py:24: DtypeWarning: Columns (18,22) have mixed types. Specify dtype option on import or set low_memory=False.\n",
      "  houses_curr_pd = pd.read_csv('data/mow-reestr-geom/mow_reestr_geom_' + str(i) + '.csv', sep=';')\n"
     ]
    },
    {
     "name": "stdout",
     "output_type": "stream",
     "text": [
      "136\n",
      "50 Очаково-Матвеевское\n"
     ]
    },
    {
     "name": "stderr",
     "output_type": "stream",
     "text": [
      "/var/folders/xq/qzhlj_357vs3kfkjsn1vg4rm0000gn/T/ipykernel_71103/1392985403.py:24: DtypeWarning: Columns (18,22) have mixed types. Specify dtype option on import or set low_memory=False.\n",
      "  houses_curr_pd = pd.read_csv('data/mow-reestr-geom/mow_reestr_geom_' + str(i) + '.csv', sep=';')\n"
     ]
    },
    {
     "name": "stdout",
     "output_type": "stream",
     "text": [
      "264\n",
      "51 Перово\n"
     ]
    },
    {
     "name": "stderr",
     "output_type": "stream",
     "text": [
      "/var/folders/xq/qzhlj_357vs3kfkjsn1vg4rm0000gn/T/ipykernel_71103/1392985403.py:24: DtypeWarning: Columns (18,22) have mixed types. Specify dtype option on import or set low_memory=False.\n",
      "  houses_curr_pd = pd.read_csv('data/mow-reestr-geom/mow_reestr_geom_' + str(i) + '.csv', sep=';')\n"
     ]
    },
    {
     "name": "stdout",
     "output_type": "stream",
     "text": [
      "532\n",
      "52 Печатники\n"
     ]
    },
    {
     "name": "stderr",
     "output_type": "stream",
     "text": [
      "/var/folders/xq/qzhlj_357vs3kfkjsn1vg4rm0000gn/T/ipykernel_71103/1392985403.py:24: DtypeWarning: Columns (18,22) have mixed types. Specify dtype option on import or set low_memory=False.\n",
      "  houses_curr_pd = pd.read_csv('data/mow-reestr-geom/mow_reestr_geom_' + str(i) + '.csv', sep=';')\n"
     ]
    },
    {
     "name": "stdout",
     "output_type": "stream",
     "text": [
      "125\n",
      "53 Покровское-Стрешнево\n"
     ]
    },
    {
     "name": "stderr",
     "output_type": "stream",
     "text": [
      "/var/folders/xq/qzhlj_357vs3kfkjsn1vg4rm0000gn/T/ipykernel_71103/1392985403.py:24: DtypeWarning: Columns (18,22) have mixed types. Specify dtype option on import or set low_memory=False.\n",
      "  houses_curr_pd = pd.read_csv('data/mow-reestr-geom/mow_reestr_geom_' + str(i) + '.csv', sep=';')\n"
     ]
    },
    {
     "name": "stdout",
     "output_type": "stream",
     "text": [
      "264\n",
      "54 Раменки\n"
     ]
    },
    {
     "name": "stderr",
     "output_type": "stream",
     "text": [
      "/var/folders/xq/qzhlj_357vs3kfkjsn1vg4rm0000gn/T/ipykernel_71103/1392985403.py:24: DtypeWarning: Columns (18,22) have mixed types. Specify dtype option on import or set low_memory=False.\n",
      "  houses_curr_pd = pd.read_csv('data/mow-reestr-geom/mow_reestr_geom_' + str(i) + '.csv', sep=';')\n"
     ]
    },
    {
     "name": "stdout",
     "output_type": "stream",
     "text": [
      "328\n",
      "55 Савёлки\n"
     ]
    },
    {
     "name": "stderr",
     "output_type": "stream",
     "text": [
      "/var/folders/xq/qzhlj_357vs3kfkjsn1vg4rm0000gn/T/ipykernel_71103/1392985403.py:24: DtypeWarning: Columns (18,22) have mixed types. Specify dtype option on import or set low_memory=False.\n",
      "  houses_curr_pd = pd.read_csv('data/mow-reestr-geom/mow_reestr_geom_' + str(i) + '.csv', sep=';')\n"
     ]
    },
    {
     "name": "stdout",
     "output_type": "stream",
     "text": [
      "7\n",
      "56 Северное Бутово\n"
     ]
    },
    {
     "name": "stderr",
     "output_type": "stream",
     "text": [
      "/var/folders/xq/qzhlj_357vs3kfkjsn1vg4rm0000gn/T/ipykernel_71103/1392985403.py:24: DtypeWarning: Columns (18,22) have mixed types. Specify dtype option on import or set low_memory=False.\n",
      "  houses_curr_pd = pd.read_csv('data/mow-reestr-geom/mow_reestr_geom_' + str(i) + '.csv', sep=';')\n"
     ]
    },
    {
     "name": "stdout",
     "output_type": "stream",
     "text": [
      "153\n",
      "57 Северное Медведково\n"
     ]
    },
    {
     "name": "stderr",
     "output_type": "stream",
     "text": [
      "/var/folders/xq/qzhlj_357vs3kfkjsn1vg4rm0000gn/T/ipykernel_71103/1392985403.py:24: DtypeWarning: Columns (18,22) have mixed types. Specify dtype option on import or set low_memory=False.\n",
      "  houses_curr_pd = pd.read_csv('data/mow-reestr-geom/mow_reestr_geom_' + str(i) + '.csv', sep=';')\n"
     ]
    },
    {
     "name": "stdout",
     "output_type": "stream",
     "text": [
      "223\n",
      "58 Северное Тушино\n"
     ]
    },
    {
     "name": "stderr",
     "output_type": "stream",
     "text": [
      "/var/folders/xq/qzhlj_357vs3kfkjsn1vg4rm0000gn/T/ipykernel_71103/1392985403.py:24: DtypeWarning: Columns (18,22) have mixed types. Specify dtype option on import or set low_memory=False.\n",
      "  houses_curr_pd = pd.read_csv('data/mow-reestr-geom/mow_reestr_geom_' + str(i) + '.csv', sep=';')\n"
     ]
    },
    {
     "name": "stdout",
     "output_type": "stream",
     "text": [
      "316\n",
      "59 Силино\n"
     ]
    },
    {
     "name": "stderr",
     "output_type": "stream",
     "text": [
      "/var/folders/xq/qzhlj_357vs3kfkjsn1vg4rm0000gn/T/ipykernel_71103/1392985403.py:24: DtypeWarning: Columns (18,22) have mixed types. Specify dtype option on import or set low_memory=False.\n",
      "  houses_curr_pd = pd.read_csv('data/mow-reestr-geom/mow_reestr_geom_' + str(i) + '.csv', sep=';')\n"
     ]
    },
    {
     "name": "stdout",
     "output_type": "stream",
     "text": [
      "7\n",
      "60 Сокол\n"
     ]
    },
    {
     "name": "stderr",
     "output_type": "stream",
     "text": [
      "/var/folders/xq/qzhlj_357vs3kfkjsn1vg4rm0000gn/T/ipykernel_71103/1392985403.py:24: DtypeWarning: Columns (18,22) have mixed types. Specify dtype option on import or set low_memory=False.\n",
      "  houses_curr_pd = pd.read_csv('data/mow-reestr-geom/mow_reestr_geom_' + str(i) + '.csv', sep=';')\n"
     ]
    },
    {
     "name": "stdout",
     "output_type": "stream",
     "text": [
      "324\n",
      "61 Солнцево\n"
     ]
    },
    {
     "name": "stderr",
     "output_type": "stream",
     "text": [
      "/var/folders/xq/qzhlj_357vs3kfkjsn1vg4rm0000gn/T/ipykernel_71103/1392985403.py:24: DtypeWarning: Columns (18,22) have mixed types. Specify dtype option on import or set low_memory=False.\n",
      "  houses_curr_pd = pd.read_csv('data/mow-reestr-geom/mow_reestr_geom_' + str(i) + '.csv', sep=';')\n"
     ]
    },
    {
     "name": "stdout",
     "output_type": "stream",
     "text": [
      "726\n",
      "62 Старое Крюково\n"
     ]
    },
    {
     "name": "stderr",
     "output_type": "stream",
     "text": [
      "/var/folders/xq/qzhlj_357vs3kfkjsn1vg4rm0000gn/T/ipykernel_71103/1392985403.py:24: DtypeWarning: Columns (18,22) have mixed types. Specify dtype option on import or set low_memory=False.\n",
      "  houses_curr_pd = pd.read_csv('data/mow-reestr-geom/mow_reestr_geom_' + str(i) + '.csv', sep=';')\n"
     ]
    },
    {
     "name": "stdout",
     "output_type": "stream",
     "text": [
      "300\n",
      "63 Строгино\n"
     ]
    },
    {
     "name": "stderr",
     "output_type": "stream",
     "text": [
      "/var/folders/xq/qzhlj_357vs3kfkjsn1vg4rm0000gn/T/ipykernel_71103/1392985403.py:24: DtypeWarning: Columns (18,22) have mixed types. Specify dtype option on import or set low_memory=False.\n",
      "  houses_curr_pd = pd.read_csv('data/mow-reestr-geom/mow_reestr_geom_' + str(i) + '.csv', sep=';')\n"
     ]
    },
    {
     "name": "stdout",
     "output_type": "stream",
     "text": [
      "467\n",
      "64 Текстильщики\n"
     ]
    },
    {
     "name": "stderr",
     "output_type": "stream",
     "text": [
      "/var/folders/xq/qzhlj_357vs3kfkjsn1vg4rm0000gn/T/ipykernel_71103/1392985403.py:24: DtypeWarning: Columns (18,22) have mixed types. Specify dtype option on import or set low_memory=False.\n",
      "  houses_curr_pd = pd.read_csv('data/mow-reestr-geom/mow_reestr_geom_' + str(i) + '.csv', sep=';')\n"
     ]
    },
    {
     "name": "stdout",
     "output_type": "stream",
     "text": [
      "320\n",
      "65 Тёплый Стан\n"
     ]
    },
    {
     "name": "stderr",
     "output_type": "stream",
     "text": [
      "/var/folders/xq/qzhlj_357vs3kfkjsn1vg4rm0000gn/T/ipykernel_71103/1392985403.py:24: DtypeWarning: Columns (18,22) have mixed types. Specify dtype option on import or set low_memory=False.\n",
      "  houses_curr_pd = pd.read_csv('data/mow-reestr-geom/mow_reestr_geom_' + str(i) + '.csv', sep=';')\n"
     ]
    },
    {
     "name": "stdout",
     "output_type": "stream",
     "text": [
      "4354\n",
      "66 Фили-Давыдково\n"
     ]
    },
    {
     "name": "stderr",
     "output_type": "stream",
     "text": [
      "/var/folders/xq/qzhlj_357vs3kfkjsn1vg4rm0000gn/T/ipykernel_71103/1392985403.py:24: DtypeWarning: Columns (18,22) have mixed types. Specify dtype option on import or set low_memory=False.\n",
      "  houses_curr_pd = pd.read_csv('data/mow-reestr-geom/mow_reestr_geom_' + str(i) + '.csv', sep=';')\n"
     ]
    },
    {
     "name": "stdout",
     "output_type": "stream",
     "text": [
      "331\n",
      "67 Хамовники\n"
     ]
    },
    {
     "name": "stderr",
     "output_type": "stream",
     "text": [
      "/var/folders/xq/qzhlj_357vs3kfkjsn1vg4rm0000gn/T/ipykernel_71103/1392985403.py:24: DtypeWarning: Columns (18,22) have mixed types. Specify dtype option on import or set low_memory=False.\n",
      "  houses_curr_pd = pd.read_csv('data/mow-reestr-geom/mow_reestr_geom_' + str(i) + '.csv', sep=';')\n"
     ]
    },
    {
     "name": "stdout",
     "output_type": "stream",
     "text": [
      "505\n",
      "68 Хорошёво-Мнёвники\n"
     ]
    },
    {
     "name": "stderr",
     "output_type": "stream",
     "text": [
      "/var/folders/xq/qzhlj_357vs3kfkjsn1vg4rm0000gn/T/ipykernel_71103/1392985403.py:24: DtypeWarning: Columns (18,22) have mixed types. Specify dtype option on import or set low_memory=False.\n",
      "  houses_curr_pd = pd.read_csv('data/mow-reestr-geom/mow_reestr_geom_' + str(i) + '.csv', sep=';')\n"
     ]
    },
    {
     "name": "stdout",
     "output_type": "stream",
     "text": [
      "648\n",
      "69 Царицыно\n"
     ]
    },
    {
     "name": "stderr",
     "output_type": "stream",
     "text": [
      "/var/folders/xq/qzhlj_357vs3kfkjsn1vg4rm0000gn/T/ipykernel_71103/1392985403.py:24: DtypeWarning: Columns (18,22) have mixed types. Specify dtype option on import or set low_memory=False.\n",
      "  houses_curr_pd = pd.read_csv('data/mow-reestr-geom/mow_reestr_geom_' + str(i) + '.csv', sep=';')\n"
     ]
    },
    {
     "name": "stdout",
     "output_type": "stream",
     "text": [
      "317\n",
      "70 Чертаново Северное\n"
     ]
    },
    {
     "name": "stderr",
     "output_type": "stream",
     "text": [
      "/var/folders/xq/qzhlj_357vs3kfkjsn1vg4rm0000gn/T/ipykernel_71103/1392985403.py:24: DtypeWarning: Columns (18,22) have mixed types. Specify dtype option on import or set low_memory=False.\n",
      "  houses_curr_pd = pd.read_csv('data/mow-reestr-geom/mow_reestr_geom_' + str(i) + '.csv', sep=';')\n"
     ]
    },
    {
     "name": "stdout",
     "output_type": "stream",
     "text": [
      "3861\n",
      "71 Чертаново Центральное\n"
     ]
    },
    {
     "name": "stderr",
     "output_type": "stream",
     "text": [
      "/var/folders/xq/qzhlj_357vs3kfkjsn1vg4rm0000gn/T/ipykernel_71103/1392985403.py:24: DtypeWarning: Columns (18,22) have mixed types. Specify dtype option on import or set low_memory=False.\n",
      "  houses_curr_pd = pd.read_csv('data/mow-reestr-geom/mow_reestr_geom_' + str(i) + '.csv', sep=';')\n"
     ]
    },
    {
     "name": "stdout",
     "output_type": "stream",
     "text": [
      "23147\n",
      "72 Чертаново Южное\n"
     ]
    },
    {
     "name": "stderr",
     "output_type": "stream",
     "text": [
      "/var/folders/xq/qzhlj_357vs3kfkjsn1vg4rm0000gn/T/ipykernel_71103/1392985403.py:24: DtypeWarning: Columns (18,22) have mixed types. Specify dtype option on import or set low_memory=False.\n",
      "  houses_curr_pd = pd.read_csv('data/mow-reestr-geom/mow_reestr_geom_' + str(i) + '.csv', sep=';')\n"
     ]
    },
    {
     "name": "stdout",
     "output_type": "stream",
     "text": [
      "4284\n",
      "73 Щукино\n"
     ]
    },
    {
     "name": "stderr",
     "output_type": "stream",
     "text": [
      "/var/folders/xq/qzhlj_357vs3kfkjsn1vg4rm0000gn/T/ipykernel_71103/1392985403.py:24: DtypeWarning: Columns (18,22) have mixed types. Specify dtype option on import or set low_memory=False.\n",
      "  houses_curr_pd = pd.read_csv('data/mow-reestr-geom/mow_reestr_geom_' + str(i) + '.csv', sep=';')\n"
     ]
    },
    {
     "name": "stdout",
     "output_type": "stream",
     "text": [
      "414\n",
      "74 Южное Бутово\n"
     ]
    },
    {
     "name": "stderr",
     "output_type": "stream",
     "text": [
      "/var/folders/xq/qzhlj_357vs3kfkjsn1vg4rm0000gn/T/ipykernel_71103/1392985403.py:24: DtypeWarning: Columns (18,22) have mixed types. Specify dtype option on import or set low_memory=False.\n",
      "  houses_curr_pd = pd.read_csv('data/mow-reestr-geom/mow_reestr_geom_' + str(i) + '.csv', sep=';')\n"
     ]
    },
    {
     "name": "stdout",
     "output_type": "stream",
     "text": [
      "1644\n",
      "75 Южное Медведково\n"
     ]
    },
    {
     "name": "stderr",
     "output_type": "stream",
     "text": [
      "/var/folders/xq/qzhlj_357vs3kfkjsn1vg4rm0000gn/T/ipykernel_71103/1392985403.py:24: DtypeWarning: Columns (18,22) have mixed types. Specify dtype option on import or set low_memory=False.\n",
      "  houses_curr_pd = pd.read_csv('data/mow-reestr-geom/mow_reestr_geom_' + str(i) + '.csv', sep=';')\n"
     ]
    },
    {
     "name": "stdout",
     "output_type": "stream",
     "text": [
      "107\n",
      "76 Южное Тушино\n"
     ]
    },
    {
     "name": "stderr",
     "output_type": "stream",
     "text": [
      "/var/folders/xq/qzhlj_357vs3kfkjsn1vg4rm0000gn/T/ipykernel_71103/1392985403.py:24: DtypeWarning: Columns (18,22) have mixed types. Specify dtype option on import or set low_memory=False.\n",
      "  houses_curr_pd = pd.read_csv('data/mow-reestr-geom/mow_reestr_geom_' + str(i) + '.csv', sep=';')\n"
     ]
    },
    {
     "name": "stdout",
     "output_type": "stream",
     "text": [
      "344\n",
      "77 Рязанский\n"
     ]
    },
    {
     "name": "stderr",
     "output_type": "stream",
     "text": [
      "/var/folders/xq/qzhlj_357vs3kfkjsn1vg4rm0000gn/T/ipykernel_71103/1392985403.py:24: DtypeWarning: Columns (18,22) have mixed types. Specify dtype option on import or set low_memory=False.\n",
      "  houses_curr_pd = pd.read_csv('data/mow-reestr-geom/mow_reestr_geom_' + str(i) + '.csv', sep=';')\n"
     ]
    },
    {
     "name": "stdout",
     "output_type": "stream",
     "text": [
      "332\n",
      "78 Тимирязевский\n"
     ]
    },
    {
     "name": "stderr",
     "output_type": "stream",
     "text": [
      "/var/folders/xq/qzhlj_357vs3kfkjsn1vg4rm0000gn/T/ipykernel_71103/1392985403.py:24: DtypeWarning: Columns (18,22) have mixed types. Specify dtype option on import or set low_memory=False.\n",
      "  houses_curr_pd = pd.read_csv('data/mow-reestr-geom/mow_reestr_geom_' + str(i) + '.csv', sep=';')\n"
     ]
    },
    {
     "name": "stdout",
     "output_type": "stream",
     "text": [
      "147\n",
      "79 Тропарёво-Никулино\n"
     ]
    },
    {
     "name": "stderr",
     "output_type": "stream",
     "text": [
      "/var/folders/xq/qzhlj_357vs3kfkjsn1vg4rm0000gn/T/ipykernel_71103/1392985403.py:24: DtypeWarning: Columns (18,22) have mixed types. Specify dtype option on import or set low_memory=False.\n",
      "  houses_curr_pd = pd.read_csv('data/mow-reestr-geom/mow_reestr_geom_' + str(i) + '.csv', sep=';')\n"
     ]
    },
    {
     "name": "stdout",
     "output_type": "stream",
     "text": [
      "210\n",
      "80 Хорошёвский\n"
     ]
    },
    {
     "name": "stderr",
     "output_type": "stream",
     "text": [
      "/var/folders/xq/qzhlj_357vs3kfkjsn1vg4rm0000gn/T/ipykernel_71103/1392985403.py:24: DtypeWarning: Columns (18,22) have mixed types. Specify dtype option on import or set low_memory=False.\n",
      "  houses_curr_pd = pd.read_csv('data/mow-reestr-geom/mow_reestr_geom_' + str(i) + '.csv', sep=';')\n"
     ]
    },
    {
     "name": "stdout",
     "output_type": "stream",
     "text": [
      "267\n",
      "81 Ярославский\n"
     ]
    },
    {
     "name": "stderr",
     "output_type": "stream",
     "text": [
      "/var/folders/xq/qzhlj_357vs3kfkjsn1vg4rm0000gn/T/ipykernel_71103/1392985403.py:24: DtypeWarning: Columns (18,22) have mixed types. Specify dtype option on import or set low_memory=False.\n",
      "  houses_curr_pd = pd.read_csv('data/mow-reestr-geom/mow_reestr_geom_' + str(i) + '.csv', sep=';')\n"
     ]
    },
    {
     "name": "stdout",
     "output_type": "stream",
     "text": [
      "77\n",
      "82 Выхино-Жулебино\n"
     ]
    },
    {
     "name": "stderr",
     "output_type": "stream",
     "text": [
      "/var/folders/xq/qzhlj_357vs3kfkjsn1vg4rm0000gn/T/ipykernel_71103/1392985403.py:24: DtypeWarning: Columns (18,22) have mixed types. Specify dtype option on import or set low_memory=False.\n",
      "  houses_curr_pd = pd.read_csv('data/mow-reestr-geom/mow_reestr_geom_' + str(i) + '.csv', sep=';')\n"
     ]
    },
    {
     "name": "stdout",
     "output_type": "stream",
     "text": [
      "439\n",
      "83 Северный\n"
     ]
    },
    {
     "name": "stderr",
     "output_type": "stream",
     "text": [
      "/var/folders/xq/qzhlj_357vs3kfkjsn1vg4rm0000gn/T/ipykernel_71103/1392985403.py:24: DtypeWarning: Columns (18,22) have mixed types. Specify dtype option on import or set low_memory=False.\n",
      "  houses_curr_pd = pd.read_csv('data/mow-reestr-geom/mow_reestr_geom_' + str(i) + '.csv', sep=';')\n"
     ]
    },
    {
     "name": "stdout",
     "output_type": "stream",
     "text": [
      "505\n",
      "84 Алексеевский\n"
     ]
    },
    {
     "name": "stderr",
     "output_type": "stream",
     "text": [
      "/var/folders/xq/qzhlj_357vs3kfkjsn1vg4rm0000gn/T/ipykernel_71103/1392985403.py:24: DtypeWarning: Columns (18,22) have mixed types. Specify dtype option on import or set low_memory=False.\n",
      "  houses_curr_pd = pd.read_csv('data/mow-reestr-geom/mow_reestr_geom_' + str(i) + '.csv', sep=';')\n"
     ]
    },
    {
     "name": "stdout",
     "output_type": "stream",
     "text": [
      "255\n",
      "85 Лосиноостровский\n"
     ]
    },
    {
     "name": "stderr",
     "output_type": "stream",
     "text": [
      "/var/folders/xq/qzhlj_357vs3kfkjsn1vg4rm0000gn/T/ipykernel_71103/1392985403.py:24: DtypeWarning: Columns (18,22) have mixed types. Specify dtype option on import or set low_memory=False.\n",
      "  houses_curr_pd = pd.read_csv('data/mow-reestr-geom/mow_reestr_geom_' + str(i) + '.csv', sep=';')\n"
     ]
    },
    {
     "name": "stdout",
     "output_type": "stream",
     "text": [
      "262\n",
      "86 Филёвский парк\n"
     ]
    },
    {
     "name": "stderr",
     "output_type": "stream",
     "text": [
      "/var/folders/xq/qzhlj_357vs3kfkjsn1vg4rm0000gn/T/ipykernel_71103/1392985403.py:24: DtypeWarning: Columns (18,22) have mixed types. Specify dtype option on import or set low_memory=False.\n",
      "  houses_curr_pd = pd.read_csv('data/mow-reestr-geom/mow_reestr_geom_' + str(i) + '.csv', sep=';')\n"
     ]
    },
    {
     "name": "stdout",
     "output_type": "stream",
     "text": [
      "295\n",
      "87 Тропарёво-Никулино\n"
     ]
    },
    {
     "name": "stderr",
     "output_type": "stream",
     "text": [
      "/var/folders/xq/qzhlj_357vs3kfkjsn1vg4rm0000gn/T/ipykernel_71103/1392985403.py:24: DtypeWarning: Columns (18,22) have mixed types. Specify dtype option on import or set low_memory=False.\n",
      "  houses_curr_pd = pd.read_csv('data/mow-reestr-geom/mow_reestr_geom_' + str(i) + '.csv', sep=';')\n"
     ]
    },
    {
     "name": "stdout",
     "output_type": "stream",
     "text": [
      "210\n",
      "88 Хамовники\n"
     ]
    },
    {
     "name": "stderr",
     "output_type": "stream",
     "text": [
      "/var/folders/xq/qzhlj_357vs3kfkjsn1vg4rm0000gn/T/ipykernel_71103/1392985403.py:24: DtypeWarning: Columns (18,22) have mixed types. Specify dtype option on import or set low_memory=False.\n",
      "  houses_curr_pd = pd.read_csv('data/mow-reestr-geom/mow_reestr_geom_' + str(i) + '.csv', sep=';')\n"
     ]
    },
    {
     "name": "stdout",
     "output_type": "stream",
     "text": [
      "505\n",
      "89 Якиманка\n"
     ]
    },
    {
     "name": "stderr",
     "output_type": "stream",
     "text": [
      "/var/folders/xq/qzhlj_357vs3kfkjsn1vg4rm0000gn/T/ipykernel_71103/1392985403.py:24: DtypeWarning: Columns (18,22) have mixed types. Specify dtype option on import or set low_memory=False.\n",
      "  houses_curr_pd = pd.read_csv('data/mow-reestr-geom/mow_reestr_geom_' + str(i) + '.csv', sep=';')\n"
     ]
    },
    {
     "name": "stdout",
     "output_type": "stream",
     "text": [
      "158\n",
      "90 Арбат\n"
     ]
    },
    {
     "name": "stderr",
     "output_type": "stream",
     "text": [
      "/var/folders/xq/qzhlj_357vs3kfkjsn1vg4rm0000gn/T/ipykernel_71103/1392985403.py:24: DtypeWarning: Columns (18,22) have mixed types. Specify dtype option on import or set low_memory=False.\n",
      "  houses_curr_pd = pd.read_csv('data/mow-reestr-geom/mow_reestr_geom_' + str(i) + '.csv', sep=';')\n"
     ]
    },
    {
     "name": "stdout",
     "output_type": "stream",
     "text": [
      "241\n",
      "91 Басманный\n"
     ]
    },
    {
     "name": "stderr",
     "output_type": "stream",
     "text": [
      "/var/folders/xq/qzhlj_357vs3kfkjsn1vg4rm0000gn/T/ipykernel_71103/1392985403.py:24: DtypeWarning: Columns (18,22) have mixed types. Specify dtype option on import or set low_memory=False.\n",
      "  houses_curr_pd = pd.read_csv('data/mow-reestr-geom/mow_reestr_geom_' + str(i) + '.csv', sep=';')\n"
     ]
    },
    {
     "name": "stdout",
     "output_type": "stream",
     "text": [
      "740\n",
      "92 Замоскворечье\n"
     ]
    },
    {
     "name": "stderr",
     "output_type": "stream",
     "text": [
      "/var/folders/xq/qzhlj_357vs3kfkjsn1vg4rm0000gn/T/ipykernel_71103/1392985403.py:24: DtypeWarning: Columns (18,22) have mixed types. Specify dtype option on import or set low_memory=False.\n",
      "  houses_curr_pd = pd.read_csv('data/mow-reestr-geom/mow_reestr_geom_' + str(i) + '.csv', sep=';')\n"
     ]
    },
    {
     "name": "stdout",
     "output_type": "stream",
     "text": [
      "316\n",
      "93 Красносельский\n"
     ]
    },
    {
     "name": "stderr",
     "output_type": "stream",
     "text": [
      "/var/folders/xq/qzhlj_357vs3kfkjsn1vg4rm0000gn/T/ipykernel_71103/1392985403.py:24: DtypeWarning: Columns (18,22) have mixed types. Specify dtype option on import or set low_memory=False.\n",
      "  houses_curr_pd = pd.read_csv('data/mow-reestr-geom/mow_reestr_geom_' + str(i) + '.csv', sep=';')\n"
     ]
    },
    {
     "name": "stdout",
     "output_type": "stream",
     "text": [
      "203\n",
      "94 Мещанский\n"
     ]
    },
    {
     "name": "stderr",
     "output_type": "stream",
     "text": [
      "/var/folders/xq/qzhlj_357vs3kfkjsn1vg4rm0000gn/T/ipykernel_71103/1392985403.py:24: DtypeWarning: Columns (18,22) have mixed types. Specify dtype option on import or set low_memory=False.\n",
      "  houses_curr_pd = pd.read_csv('data/mow-reestr-geom/mow_reestr_geom_' + str(i) + '.csv', sep=';')\n"
     ]
    },
    {
     "name": "stdout",
     "output_type": "stream",
     "text": [
      "356\n",
      "95 Пресненский\n"
     ]
    },
    {
     "name": "stderr",
     "output_type": "stream",
     "text": [
      "/var/folders/xq/qzhlj_357vs3kfkjsn1vg4rm0000gn/T/ipykernel_71103/1392985403.py:24: DtypeWarning: Columns (18,22) have mixed types. Specify dtype option on import or set low_memory=False.\n",
      "  houses_curr_pd = pd.read_csv('data/mow-reestr-geom/mow_reestr_geom_' + str(i) + '.csv', sep=';')\n"
     ]
    },
    {
     "name": "stdout",
     "output_type": "stream",
     "text": [
      "808\n",
      "96 Таганский\n"
     ]
    },
    {
     "name": "stderr",
     "output_type": "stream",
     "text": [
      "/var/folders/xq/qzhlj_357vs3kfkjsn1vg4rm0000gn/T/ipykernel_71103/1392985403.py:24: DtypeWarning: Columns (18,22) have mixed types. Specify dtype option on import or set low_memory=False.\n",
      "  houses_curr_pd = pd.read_csv('data/mow-reestr-geom/mow_reestr_geom_' + str(i) + '.csv', sep=';')\n"
     ]
    },
    {
     "name": "stdout",
     "output_type": "stream",
     "text": [
      "446\n",
      "97 Тверской\n"
     ]
    },
    {
     "name": "stderr",
     "output_type": "stream",
     "text": [
      "/var/folders/xq/qzhlj_357vs3kfkjsn1vg4rm0000gn/T/ipykernel_71103/1392985403.py:24: DtypeWarning: Columns (18,22) have mixed types. Specify dtype option on import or set low_memory=False.\n",
      "  houses_curr_pd = pd.read_csv('data/mow-reestr-geom/mow_reestr_geom_' + str(i) + '.csv', sep=';')\n"
     ]
    },
    {
     "name": "stdout",
     "output_type": "stream",
     "text": [
      "2326\n",
      "{'Внуково': {'space': 378944.9999999997, 'living_space': 169846.5}, 'Восточный': {'space': 79190.8, 'living_space': 74027.70000000001}, 'Можайский': {'space': 3525138.100000003, 'living_space': 2951192.0}, 'Бибирево': {'space': 2572168.1999999993, 'living_space': 2430648.3}, 'Богородское': {'space': 2338132.299999998, 'living_space': 2171861.019999998}, 'Братеево': {'space': 1844167.5, 'living_space': 1758697.07}, 'Коптево': {'space': 2020449.6000000017, 'living_space': 1848440.5700000003}, 'Крылатское': {'space': 2045009.200000001, 'living_space': 1764232.1999999997}, 'Некрасовка': {'space': 3066827.2999999984, 'living_space': 2284600.1099999994}, 'Проспект Вернадского': {'space': 2147793.6, 'living_space': 1661033.54}, 'Ростокино': {'space': 1018546.6999999996, 'living_space': 855105.4}, 'Свиблово': {'space': 1914865.9000000001, 'living_space': 1407730.6999999997}, 'Северный': {'space': 1529799.500000001, 'living_space': 1123194.6}, 'Сокольники': {'space': 1418882.4000000001, 'living_space': 1111951.2999999998}, 'Академический': {'space': 1260964.7000000004, 'living_space': 1037132.6999999998}, 'Алексеевский': {'space': 2133168.6, 'living_space': 1546983.9999999993}, 'Алтуфьевский': {'space': 439925.10000000015, 'living_space': 427930.38999999996}, 'Бабушкинский': {'space': 1846121.0099999998, 'living_space': 1486983.3092200002}, 'Бутырский': {'space': 544631.1, 'living_space': 428580.1}, 'Войковский': {'space': 1966894.1000000003, 'living_space': 1573015.2000000007}, 'Головинский': {'space': 1816577.4000000015, 'living_space': 1495266.3000000014}, 'Лосиноостровский': {'space': 2050307.900000001, 'living_space': 1518388.1000000003}, 'Молжаниновский': {'space': 459225.69999999984, 'living_space': 315911.0999999999}, 'Нагорный': {'space': 1563729.0999999987, 'living_space': 1310525.4}, 'Нижегородский': {'space': 1021518.5000000002, 'living_space': 782105.3}, 'Ново-Переделкино': {'space': 1238853.4999999995, 'living_space': 979937.3999999999}, 'Обручевский': {'space': 2669185.8999999994, 'living_space': 2163052.9899999993}, 'Беговой': {'space': 1332668.6199999994, 'living_space': 1002876.8}, 'Бирюлёво Восточное': {'space': 1137711.19, 'living_space': 801245.0}, 'Бирюлёво Западное': {'space': 905962.7999999996, 'living_space': 878388.5999999999}, 'Вешняки': {'space': 1976917.4000000001, 'living_space': 1480514.19}, 'Восточное Дегунино': {'space': 1302678.9000000006, 'living_space': 921667.3000000002}, 'Дорогомилово': {'space': 1837975.5, 'living_space': 1472090.9}, 'Зюзино': {'space': 1878293.0999999987, 'living_space': 1705376.2600000005}, 'Капотня': {'space': 303017.99999999994, 'living_space': 307108.9}, 'Косино-Ухтомский': {'space': 1697777.3999999985, 'living_space': 1431410.8000000003}, 'Котловка': {'space': 1060766.5, 'living_space': 946138.7999999999}, 'Кузьминки': {'space': 2555634.4000000036, 'living_space': 2309275.5699999994}, 'Кунцево': {'space': 3943560.3000000026, 'living_space': 3071364.1999999993}, 'Куркино': {'space': 1238266.940000001, 'living_space': 918541.7500000001}, 'Лефортово': {'space': 2409168.4400000013, 'living_space': 1738345.779999999}, 'Лианозово': {'space': 1650875.2999999998, 'living_space': 1569239.0}, 'Люблино': {'space': 4057114.000000001, 'living_space': 3833312.3999999994}, 'Марьино': {'space': 4426710.1000000015, 'living_space': 3964266.9600000014}, 'Матушкино': {'space': 55849.4, 'living_space': 53950.6}, 'Метрогородок': {'space': 818764.3999999994, 'living_space': 680033.9999999998}, 'Митино': {'space': 4380324.999999999, 'living_space': 3774333.3596000005}, 'Нагатинский Затон': {'space': 2338779.2800000003, 'living_space': 2061364.6499999992}, 'Новогиреево': {'space': 2060336.2900000003, 'living_space': 1868457.1700000009}, 'Новокосино': {'space': 1329124.4999999995, 'living_space': 1276410.1000000003}, 'Очаково-Матвеевское': {'space': 2451060.700000001, 'living_space': 1969783.6299999994}, 'Перово': {'space': 2406220.5999999987, 'living_space': 2111438.1699999995}, 'Печатники': {'space': 553366.4999999998, 'living_space': 532909.2000000001}, 'Покровское-Стрешнево': {'space': 1895473.5999999992, 'living_space': 1344305.528}, 'Раменки': {'space': 5886111.420000001, 'living_space': 4465798.649999998}, 'Савёлки': {'space': 76863.40000000001, 'living_space': 26418.3}, 'Северное Бутово': {'space': 2018689.6999999993, 'living_space': 1701051.200000001}, 'Северное Медведково': {'space': 2177201.4000000004, 'living_space': 1953712.5000000002}, 'Северное Тушино': {'space': 2745572.2000000016, 'living_space': 2552412.0999999996}, 'Силино': {'space': 1285.3, 'living_space': 0}, 'Сокол': {'space': 1478702.0770000007, 'living_space': 1193425.6}, 'Солнцево': {'space': 3913501.900000002, 'living_space': 2798663.4000000004}, 'Старое Крюково': {'space': 3107063.1999999993, 'living_space': 2939689.2000000007}, 'Строгино': {'space': 2759535.4300000006, 'living_space': 2450576.859999999}, 'Текстильщики': {'space': 1875624.9000000015, 'living_space': 1633235.4999999995}, 'Тёплый Стан': {'space': 126719291.39999972, 'living_space': 105990483.87000029}, 'Фили-Давыдково': {'space': 2624190.540000002, 'living_space': 1837620.4300000009}, 'Хамовники': {'space': 3257102.600000002, 'living_space': 2172446.670000001}, 'Хорошёво-Мнёвники': {'space': 5315601.029999999, 'living_space': 3938872.6100000003}, 'Царицыно': {'space': 1867105.6000000022, 'living_space': 1710220.7999999989}, 'Чертаново Северное': {'space': 44292659.999999814, 'living_space': 43597994.19}, 'Чертаново Центральное': {'space': 366094761.100032, 'living_space': 330373479.45001656}, 'Чертаново Южное': {'space': 72780069.40000014, 'living_space': 56869235.49999848}, 'Щукино': {'space': 3188624.499999998, 'living_space': 2353210.2000000007}, 'Южное Бутово': {'space': 5663033.900000001, 'living_space': 4625561.039999997}, 'Южное Медведково': {'space': 1169319.1999999997, 'living_space': 959759.8999999999}, 'Южное Тушино': {'space': 1968372.4000000015, 'living_space': 1779766.51}, 'Рязанский': {'space': 2927106.200000001, 'living_space': 2400318.9400000004}, 'Тимирязевский': {'space': 1040046.9999999998, 'living_space': 895613.2000000002}, 'Тропарёво-Никулино': {'space': 3337671.3, 'living_space': 2846114.349999999}, 'Хорошёвский': {'space': 3217189.5000000005, 'living_space': 2363175.860000002}, 'Ярославский': {'space': 646704.7000000001, 'living_space': 594269.5000000001}, 'Выхино-Жулебино': {'space': 3142176.1000000024, 'living_space': 2307383.860000002}, 'Филёвский парк': {'space': 2604794.8000000007, 'living_space': 1907992.0200000007}, 'Якиманка': {'space': 1425404.9000000006, 'living_space': 874273.4800000001}, 'Арбат': {'space': 1119684.85, 'living_space': 766767.9400000001}, 'Басманный': {'space': 3150384.0899999985, 'living_space': 2371183.5399999996}, 'Замоскворечье': {'space': 1556313.4999999981, 'living_space': 1192940.6700000004}, 'Красносельский': {'space': 1209627.3500000003, 'living_space': 855932.5399999992}, 'Мещанский': {'space': 1788118.6999999997, 'living_space': 1274209.79}, 'Пресненский': {'space': 4685420.599999997, 'living_space': 3314867.870000001}, 'Таганский': {'space': 3213656.900000002, 'living_space': 2499755.06}, 'Тверской': {'space': 6002651.290000001, 'living_space': 4248432.600000001}}\n"
     ]
    }
   ],
   "source": [
    "l1 = 0\n",
    "\n",
    "pds_dict = dict()\n",
    "\n",
    "def check(area_row, house_row):\n",
    "    if area_row.geometry.contains(house_row.geometry):\n",
    "        if isinstance(house_row['Общая площадь дома'], str):\n",
    "            house_row['Общая площадь дома'] = house_row['Общая площадь дома'].replace(',', '.')\n",
    "        if isinstance(house_row['Жилая площадь в доме'], str):\n",
    "            house_row['Жилая площадь в доме'] = house_row['Жилая площадь в доме'].replace(',', '.')\n",
    "\n",
    "        return True, {'space': float(house_row['Общая площадь дома']), 'living_space': float(house_row['Жилая площадь в доме'])}\n",
    "    return False, {}\n",
    "\n",
    "\n",
    "\n",
    "for area_index, area_row in areas_pop_geom.iterrows():\n",
    "    area_name = area_row['area_name']\n",
    "    pds_dict[area_name] = {'space': 0, 'living_space': 0}\n",
    "    houses_in_area = pd.DataFrame(columns=cols)\n",
    "    print(area_index, area_name)\n",
    "    count = 0\n",
    "    for i in range(1, 14):\n",
    "        houses_curr_pd = pd.read_csv('data/mow-reestr-geom/mow_reestr_geom_' + str(i) + '.csv', sep=';')\n",
    "        houses_curr_pd['area_num'] = [-1 for _ in range(houses_curr_pd.shape[0])]\n",
    "        houses_curr = gpd.GeoDataFrame(houses_curr_pd, geometry=gpd.GeoSeries.from_xy(houses_curr_pd['lon'], houses_curr_pd['lat']), crs=4326)\n",
    "        for house_index, house_row in houses_curr.iterrows():\n",
    "            contains, res = check(area_row, house_row)\n",
    "            if contains:\n",
    "                if not pd.isna(res['space']):\n",
    "                    pds_dict[area_name]['space'] += res['space']\n",
    "                if not pd.isna(res['living_space']):\n",
    "                    pds_dict[area_name]['living_space'] += res['living_space']\n",
    "                house_row['area_num'] = area_index\n",
    "                houses_in_area = houses_in_area.append(house_row)\n",
    "                count += 1\n",
    "    print(count)\n",
    "    houses_in_area.to_csv(f\"data/mow-reestr-areas/{area_name}.csv\", index=False)\n",
    "\n",
    "\n",
    "for area_index, area_row in areas_pop_geom.iterrows():\n",
    "    area_row['space'] = pds_dict[area_row['area_name']]['space']\n",
    "    area_row['living_space'] = pds_dict[area_row['area_name']]['living_space']\n",
    "\n",
    "areas_pop_geom.to_csv(\"data/areas-pop-geom-space.csv\", index=False)\n",
    "print(pds_dict)\n",
    "\n"
   ]
  },
  {
   "cell_type": "markdown",
   "metadata": {},
   "source": []
  }
 ],
 "metadata": {
  "kernelspec": {
   "display_name": "Python 3 (ipykernel)",
   "language": "python",
   "name": "python3"
  },
  "language_info": {
   "codemirror_mode": {
    "name": "ipython",
    "version": 3
   },
   "file_extension": ".py",
   "mimetype": "text/x-python",
   "name": "python",
   "nbconvert_exporter": "python",
   "pygments_lexer": "ipython3",
   "version": "3.11.2"
  }
 },
 "nbformat": 4,
 "nbformat_minor": 1
}
